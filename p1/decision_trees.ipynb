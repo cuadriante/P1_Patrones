{
 "cells": [
  {
   "cell_type": "code",
   "execution_count": 1,
   "id": "3455a7a2",
   "metadata": {},
   "outputs": [],
   "source": [
    "import numpy as np\n",
    "from sklearn.datasets import load_iris\n",
    "from pprint import pprint\n",
    "from sklearn.model_selection import train_test_split\n",
    "\n"
   ]
  },
  {
   "cell_type": "code",
   "execution_count": null,
   "id": "ff8868af",
   "metadata": {},
   "outputs": [],
   "source": []
  },
  {
   "cell_type": "code",
   "execution_count": 2,
   "id": "92d4c21b",
   "metadata": {},
   "outputs": [],
   "source": [
    "\n",
    "\n",
    "# Definición de la función para calcular la entropía\n",
    "def entropy(y):\n",
    "    unique, counts = np.unique(y, return_counts=True)\n",
    "    probabilities = counts / len(y)\n",
    "    entropy = -np.sum(probabilities * np.log2(probabilities))\n",
    "    return entropy\n",
    "\n",
    "# Definición de la función para dividir los datos\n",
    "def split_data(X, y, feature_index, threshold):\n",
    "    left_mask = X[:, feature_index] <= threshold\n",
    "    right_mask = ~left_mask\n",
    "    X_left, y_left = X[left_mask], y[left_mask]\n",
    "    X_right, y_right = X[right_mask], y[right_mask]\n",
    "    return X_left, y_left, X_right, y_right\n",
    "\n",
    "# Definición de la clase del nodo del árbol de decisión\n",
    "class Node:\n",
    "    def __init__(self, depth=0, max_depth=None):\n",
    "        self.depth = depth\n",
    "        self.max_depth = max_depth\n",
    "        self.feature_index = None\n",
    "        self.threshold = None\n",
    "        self.left = None\n",
    "        self.right = None\n",
    "        self.value = None\n",
    "\n",
    "    def fit(self, X, y):\n",
    "        unique_classes, class_counts = np.unique(y, return_counts=True)\n",
    "        self.value = unique_classes[np.argmax(class_counts)]\n",
    "        if self.depth == self.max_depth or len(unique_classes) == 1: # Se pregunta las dos condiciones de paradas, sin divisiones y profundidad máxima\n",
    "            return\n",
    "\n",
    "        num_features = X.shape[1] # cantidad de Features\n",
    "        best_info_gain = -1 # métrica\n",
    "        \n",
    "        for feature_index in range(num_features):\n",
    "            thresholds = np.unique(X[:, feature_index])\n",
    "            for threshold in thresholds:\n",
    "                X_left, y_left, X_right, y_right = split_data(X, y, feature_index, threshold)\n",
    "                if len(y_left) == 0 or len(y_right) == 0:\n",
    "                    continue\n",
    "\n",
    "                info_gain = entropy(y) - ((len(y_left) / len(y)) * entropy(y_left) + (len(y_right) / len(y)) * entropy(y_right))\n",
    "\n",
    "                if info_gain > best_info_gain:\n",
    "                    best_info_gain = info_gain\n",
    "                    self.feature_index = feature_index\n",
    "                    self.threshold = threshold\n",
    "\n",
    "        if self.feature_index is not None:\n",
    "            X_left, y_left, X_right, y_right = split_data(X, y, self.feature_index, self.threshold)\n",
    "            self.left = Node(depth=self.depth + 1, max_depth=self.max_depth)\n",
    "            self.left.fit(X_left, y_left)\n",
    "            self.right = Node(depth=self.depth + 1, max_depth=self.max_depth)\n",
    "            self.right.fit(X_right, y_right)\n",
    "\n",
    "    def predict(self, X):\n",
    "        if self.feature_index is None:\n",
    "            return self.value\n",
    "        if X[self.feature_index] <= self.threshold:\n",
    "            return self.left.predict(X)\n",
    "        else:\n",
    "            return self.right.predict(X)\n",
    "\n"
   ]
  },
  {
   "cell_type": "code",
   "execution_count": 3,
   "id": "080fe21f",
   "metadata": {},
   "outputs": [],
   "source": [
    "iris = load_iris()\n",
    "x = iris.data\n",
    "y = iris.target\n",
    "X_train, X_test, y_train, y_test = train_test_split(x, y, test_size=0.3, random_state=45)"
   ]
  },
  {
   "cell_type": "code",
   "execution_count": 4,
   "id": "130e26ba",
   "metadata": {},
   "outputs": [
    {
     "name": "stdout",
     "output_type": "stream",
     "text": [
      "Precisión del modelo: 0.96\n"
     ]
    }
   ],
   "source": [
    "# Creación y entrenamiento del árbol de decisión\n",
    "max_depth = 3\n",
    "tree = Node(max_depth=max_depth)\n",
    "tree.fit(X_train, y_train)\n",
    "\n",
    "# Realización de predicciones en el conjunto de prueba\n",
    "y_pred = [tree.predict(x) for x in X_test]\n",
    "\n",
    "# Evaluación del modelo\n",
    "accuracy = np.mean(y_pred == y_test)\n",
    "print(f\"Precisión del modelo: {accuracy:.2f}\")"
   ]
  }
 ],
 "metadata": {
  "kernelspec": {
   "display_name": "Python 3",
   "language": "python",
   "name": "python3"
  },
  "language_info": {
   "codemirror_mode": {
    "name": "ipython",
    "version": 3
   },
   "file_extension": ".py",
   "mimetype": "text/x-python",
   "name": "python",
   "nbconvert_exporter": "python",
   "pygments_lexer": "ipython3",
   "version": "3.10.8"
  }
 },
 "nbformat": 4,
 "nbformat_minor": 5
}
