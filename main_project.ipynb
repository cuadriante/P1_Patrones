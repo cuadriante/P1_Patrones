{
  "cells": [
    {
      "cell_type": "markdown",
      "metadata": {},
      "source": []
    },
    {
      "cell_type": "markdown",
      "metadata": {
        "id": "c7Xr-klg7Rle"
      },
      "source": [
        "# **Imports**"
      ]
    },
    {
      "cell_type": "code",
      "execution_count": 2,
      "metadata": {
        "id": "_cvA4Fch4YEV"
      },
      "outputs": [],
      "source": [
        "import numpy as np\n",
        "import pandas as pd\n",
        "import time\n",
        "import warnings \n",
        "import sklearn.datasets as datasets\n",
        "from sklearn.model_selection import train_test_split\n",
        "from sklearn.neighbors import KNeighborsClassifier\n",
        "from sklearn.impute import SimpleImputer\n",
        "from sklearn.model_selection import GridSearchCV\n",
        "from sklearn.model_selection import train_test_split\n",
        "from sklearn.base import BaseEstimator, ClassifierMixin\n",
        "from sklearn.model_selection import StratifiedKFold\n",
        "from sklearn.metrics import accuracy_score, precision_score, recall_score, f1_score, roc_auc_score, roc_curve\n",
        "import matplotlib.pyplot as plt\n",
        "from imblearn.over_sampling import RandomOverSampler\n",
        "from sklearn.linear_model import LogisticRegression\n",
        "from sklearn.preprocessing import StandardScaler\n",
        "from sklearn.model_selection import GridSearchCV\n",
        "from sklearn.model_selection import StratifiedKFold\n",
        "from sklearn.decomposition import PCA\n",
        "from sklearn.datasets import load_iris\n",
        "from pprint import pprint\n"
      ]
    },
    {
      "cell_type": "markdown",
      "metadata": {
        "id": "6AVB7c-O7bET"
      },
      "source": [
        "# **Modelo KNN**"
      ]
    },
    {
      "cell_type": "code",
      "execution_count": 3,
      "metadata": {
        "id": "ErpJFF5J4YEZ"
      },
      "outputs": [],
      "source": [
        "from pickle import NONE\n",
        "class KNearestNeighbors(BaseEstimator, ClassifierMixin):\n",
        "    def __init__(self, X_train, y_train, n_neighbors=5, weights='uniform'):\n",
        "\n",
        "        self.X_train = X_train\n",
        "        self.y_train = y_train\n",
        "\n",
        "        self.n_neighbors = n_neighbors\n",
        "        self.weights = weights\n",
        "\n",
        "        self.n_classes = 10\n",
        "        self.prediction = NONE\n",
        "\n",
        "    def euclidian_distance(self, a, b):\n",
        "        return np.sqrt(np.sum((a - b)**2, axis=1))\n",
        "\n",
        "    def kneighbors(self, X_test, return_distance=False):\n",
        "\n",
        "        dist = []\n",
        "        neigh_ind = []\n",
        "        point_dist = []\n",
        "        for x_test in X_test:\n",
        "            point_dist += [ self.euclidian_distance(x_test, self.X_train) ]\n",
        "\n",
        "        for row in point_dist:\n",
        "            enum_neigh = enumerate(row)\n",
        "            sorted_neigh = sorted(enum_neigh,\n",
        "                                  key=lambda x: x[1])[:self.n_neighbors]\n",
        "\n",
        "            ind_list = [tup[0] for tup in sorted_neigh]\n",
        "            dist_list = [tup[1] for tup in sorted_neigh]\n",
        "\n",
        "            dist.append(dist_list)\n",
        "            neigh_ind.append(ind_list)\n",
        "\n",
        "        if return_distance:\n",
        "            return np.array(dist), np.array(neigh_ind)\n",
        "\n",
        "        return np.array(neigh_ind)\n",
        "\n",
        "    def fit(self, X_train, y_train):\n",
        "        self.X_train = X_train\n",
        "        self.y_train = y_train\n",
        "\n",
        "    def predict(self, X_test):\n",
        "\n",
        "        if self.weights == 'uniform':\n",
        "            neighbors = self.kneighbors(X_test)\n",
        "            y_pred = np.array([\n",
        "                np.argmax(np.bincount(self.y_train[neighbor]))\n",
        "                for neighbor in neighbors\n",
        "            ])\n",
        "            return y_pred\n",
        "\n",
        "        if self.weights == 'distance':\n",
        "            distances, neighbors = self.kneighbors(X_test, return_distance=True)\n",
        "            y_pred = np.array([\n",
        "                np.argmax(np.bincount(self.y_train[neighbor], 1 / (distances[i] + 1e-6)))\n",
        "                for i, neighbor in enumerate(neighbors)\n",
        "            ])\n",
        "            self.prediction = y_pred\n",
        "            return y_pred\n"
      ]
    },
    {
      "cell_type": "markdown",
      "metadata": {
        "id": "MDHvRHen7gsa"
      },
      "source": [
        "# **Modelo Árbol de Decisión**"
      ]
    },
    {
      "cell_type": "code",
      "execution_count": 95,
      "metadata": {
        "id": "SqVapsHa7pka"
      },
      "outputs": [],
      "source": [
        "# Definición de la función para calcular la entropía\n",
        "def entropy(y):\n",
        "    unique, counts = np.unique(y, return_counts=True)\n",
        "    probabilities = counts / len(y)\n",
        "    entropy = -np.sum(probabilities * np.log2(probabilities))\n",
        "    return entropy\n",
        "\n",
        "# Definición de la función para dividir los datos\n",
        "def split_data(X, y, feature_index, threshold):\n",
        "    left_mask = X[:, feature_index] <= threshold\n",
        "    right_mask = ~left_mask\n",
        "    X_left, y_left = X[left_mask], y[left_mask]\n",
        "    X_right, y_right = X[right_mask], y[right_mask]\n",
        "    return X_left, y_left, X_right, y_right\n",
        "\n",
        "# Definición de la clase del nodo del árbol de decisión\n",
        "class Node:\n",
        "    def __init__(self, depth=0, max_depth=None):\n",
        "        self.depth = depth\n",
        "        self.max_depth = max_depth\n",
        "        self.feature_index = None\n",
        "        self.threshold = None\n",
        "        self.left = None\n",
        "        self.right = None\n",
        "        self.value = None\n",
        "\n",
        "    def fit(self, X, y):\n",
        "        unique_classes, class_counts = np.unique(y, return_counts=True)\n",
        "        self.value = unique_classes[np.argmax(class_counts)]\n",
        "        if self.depth == self.max_depth or len(unique_classes) == 1: # Se pregunta las dos condiciones de paradas, sin divisiones y profundidad máxima\n",
        "            return\n",
        "\n",
        "        num_features = X.shape[1] # cantidad de Features\n",
        "        best_info_gain = -1 # métrica\n",
        "        \n",
        "        for feature_index in range(num_features):\n",
        "            thresholds = np.unique(X[:, feature_index])\n",
        "            for threshold in thresholds:\n",
        "                X_left, y_left, X_right, y_right = split_data(X, y, feature_index, threshold)\n",
        "                if len(y_left) == 0 or len(y_right) == 0:\n",
        "                    continue\n",
        "\n",
        "                info_gain = entropy(y) - ((len(y_left) / len(y)) * entropy(y_left) + (len(y_right) / len(y)) * entropy(y_right))\n",
        "\n",
        "                if info_gain > best_info_gain:\n",
        "                    best_info_gain = info_gain\n",
        "                    self.feature_index = feature_index\n",
        "                    self.threshold = threshold\n",
        "\n",
        "        if self.feature_index is not None:\n",
        "            X_left, y_left, X_right, y_right = split_data(X, y, self.feature_index, self.threshold)\n",
        "            self.left = Node(depth=self.depth + 1, max_depth=self.max_depth)\n",
        "            self.left.fit(X_left, y_left)\n",
        "            self.right = Node(depth=self.depth + 1, max_depth=self.max_depth)\n",
        "            self.right.fit(X_right, y_right)\n",
        "\n",
        "    def predict(self, X):\n",
        "        if self.feature_index is None:\n",
        "            return self.value\n",
        "        if X[self.feature_index] <= self.threshold:\n",
        "            return self.left.predict(X)\n",
        "        else:\n",
        "            return self.right.predict(X)"
      ]
    },
    {
      "cell_type": "markdown",
      "metadata": {
        "id": "WjBd2eXg7qRy"
      },
      "source": [
        "# **Modelo Regresión Logística**"
      ]
    },
    {
      "cell_type": "code",
      "execution_count": 86,
      "metadata": {
        "id": "98D68yd77xPh"
      },
      "outputs": [],
      "source": [
        "class OurLogisticRegression (BaseEstimator, ClassifierMixin):\n",
        "    def __init__(self, lr=0.01, num_iter=100000, fit_intercept=True):\n",
        "        self.lr = lr\n",
        "        self.num_iter = num_iter\n",
        "        self.fit_intercept = fit_intercept\n",
        "       \n",
        "\n",
        "    def __add_intercept(self, X):\n",
        "        intercept = np.ones((X.shape[0], 1))\n",
        "        return np.concatenate((intercept, X), axis=1)\n",
        "\n",
        "    def __sigmoid(self, z):\n",
        "        return 1 / (1 + np.exp(-z))\n",
        "\n",
        "    def __loss(self, h, y):\n",
        "        return (-y * np.log(h) - (1 - y) * np.log(1 - h)).mean()\n",
        "\n",
        "    def fit(self, X, y):\n",
        "        if self.fit_intercept:\n",
        "            X = self.__add_intercept(X)\n",
        "\n",
        "        # weights initialization\n",
        "        self.w = np.zeros(X.shape[1])\n",
        "\n",
        "        for i in range(self.num_iter):\n",
        "            z = np.dot(X, self.w)\n",
        "            h = self.__sigmoid(z)\n",
        "            gradient = np.dot(X.T, (h-y)) / y.size\n",
        "            #print(gradient.shape, self.w.shape, z.shape,h.shape)\n",
        "            #gradient = (h - y) / y.size\n",
        "            self.w -= self.lr * gradient\n",
        "\n",
        "    def predict_prob(self, X):\n",
        "        if self.fit_intercept:\n",
        "            X = self.__add_intercept(X)\n",
        "\n",
        "        return self.__sigmoid(np.dot(X, self.w))\n",
        "\n",
        "    def predict(self, X, threshold):\n",
        "        return self.predict_prob(X) >= threshold\n",
        "    \n",
        "    def score(self, y_pred,y_test):\n",
        "        return float(sum(y_pred == y_test)) / float(len(y_test))\n"
      ]
    },
    {
      "cell_type": "markdown",
      "metadata": {
        "id": "VbxL3-XSlzGK"
      },
      "source": [
        "# **Dataset WeatherAUS**"
      ]
    },
    {
      "cell_type": "code",
      "execution_count": 8,
      "metadata": {
        "id": "_3bxYqulmjLN"
      },
      "outputs": [
        {
          "name": "stdout",
          "output_type": "stream",
          "text": [
            "               WindGustSpeed  WindSpeed9am  WindSpeed3pm\n",
            "WindGustSpeed       0.011096      0.004298      0.007207\n",
            "WindSpeed9am        0.004298      0.004680      0.003580\n",
            "WindSpeed3pm        0.007207      0.003580      0.010239\n",
            "             Humidity9am  Humidity3pm\n",
            "Humidity9am     0.036295     0.026446\n",
            "Humidity3pm     0.026446     0.043255\n",
            "             Pressure9am  Pressure3pm\n",
            "Pressure9am     0.013794     0.012713\n",
            "Pressure3pm     0.012713     0.012676\n",
            "          Cloud9am  Cloud3pm\n",
            "Cloud9am  0.102899  0.058228\n",
            "Cloud3pm  0.058228  0.091381\n",
            "          Temp9am   Temp3pm\n",
            "Temp9am  0.018763  0.015611\n",
            "Temp3pm  0.015611  0.017731\n",
            "              Location   MinTemp   MaxTemp  Rainfall  Evaporation  Sunshine  \\\n",
            "Location      0.084666  0.003147  0.004116 -0.000117     0.000479  0.005102   \n",
            "MinTemp       0.003147  0.022807  0.014954  0.000358     0.002038  0.002825   \n",
            "MaxTemp       0.004116  0.014954  0.018103 -0.000229     0.002272  0.016076   \n",
            "Rainfall     -0.000117  0.000358 -0.000229  0.000521    -0.000033 -0.001424   \n",
            "Evaporation   0.000479  0.002038  0.002272 -0.000033     0.000834  0.002414   \n",
            "Sunshine      0.005102  0.002825  0.016076 -0.001424     0.002414  0.068014   \n",
            "WindSpeed9am  0.001468  0.001816  0.000135  0.000135     0.000368  0.000140   \n",
            "WindSpeed3pm  0.001438  0.002688  0.000692  0.000133     0.000364  0.001432   \n",
            "Humidity9am  -0.007965 -0.006726 -0.012898  0.000972    -0.002747 -0.024146   \n",
            "Humidity3pm  -0.005221  0.000188 -0.014163  0.001205    -0.002321 -0.033333   \n",
            "Pressure3pm  -0.003491 -0.007770 -0.006339 -0.000327    -0.000949 -0.000598   \n",
            "Cloud9am     -0.005775  0.003775 -0.012419  0.001591    -0.001655 -0.054871   \n",
            "Cloud3pm     -0.005627  0.000939 -0.011278  0.001300    -0.001547 -0.054054   \n",
            "Temp3pm       0.003597  0.014213  0.017541 -0.000239     0.002195  0.016679   \n",
            "RainToday    -0.001175  0.003535 -0.012823  0.004762    -0.002248 -0.036048   \n",
            "\n",
            "              WindSpeed9am  WindSpeed3pm  Humidity9am  Humidity3pm  \\\n",
            "Location          0.001468      0.001438    -0.007965    -0.005221   \n",
            "MinTemp           0.001816      0.002688    -0.006726     0.000188   \n",
            "MaxTemp           0.000135      0.000692    -0.012898    -0.014163   \n",
            "Rainfall          0.000135      0.000133     0.000972     0.001205   \n",
            "Evaporation       0.000368      0.000364    -0.002747    -0.002321   \n",
            "Sunshine          0.000140      0.001432    -0.024146    -0.033333   \n",
            "WindSpeed9am      0.004680      0.003580    -0.003532    -0.000448   \n",
            "WindSpeed3pm      0.003580      0.010239    -0.002820     0.000335   \n",
            "Humidity9am      -0.003532     -0.002820     0.036295     0.026446   \n",
            "Humidity3pm      -0.000448      0.000335     0.026446     0.043255   \n",
            "Pressure3pm      -0.001337     -0.002870     0.003988     0.001204   \n",
            "Cloud9am          0.000531      0.001720     0.027379     0.034336   \n",
            "Cloud3pm          0.001097      0.000777     0.020412     0.032842   \n",
            "Temp3pm           0.000046      0.000385    -0.012662    -0.015441   \n",
            "RainToday         0.002912      0.003370     0.028025     0.032782   \n",
            "\n",
            "              Pressure3pm  Cloud9am  Cloud3pm   Temp3pm  RainToday  \n",
            "Location        -0.003491 -0.005775 -0.005627  0.003597  -0.001175  \n",
            "MinTemp         -0.007770  0.003775  0.000939  0.014213   0.003535  \n",
            "MaxTemp         -0.006339 -0.012419 -0.011278  0.017541  -0.012823  \n",
            "Rainfall        -0.000327  0.001591  0.001300 -0.000239   0.004762  \n",
            "Evaporation     -0.000949 -0.001655 -0.001547  0.002195  -0.002248  \n",
            "Sunshine        -0.000598 -0.054871 -0.054054  0.016679  -0.036048  \n",
            "WindSpeed9am    -0.001337  0.000531  0.001097  0.000046   0.002912  \n",
            "WindSpeed3pm    -0.002870  0.001720  0.000777  0.000385   0.003370  \n",
            "Humidity9am      0.003988  0.027379  0.020412 -0.012662   0.028025  \n",
            "Humidity3pm      0.001204  0.034336  0.032842 -0.015441   0.032782  \n",
            "Pressure3pm      0.012676 -0.002187 -0.002870 -0.005716  -0.004986  \n",
            "Cloud9am        -0.002187  0.102899  0.058228 -0.012824   0.041691  \n",
            "Cloud3pm        -0.002870  0.058228  0.091381 -0.012801   0.034976  \n",
            "Temp3pm         -0.005716 -0.012824 -0.012801  0.017731  -0.013017  \n",
            "RainToday       -0.004986  0.041691  0.034976 -0.013017   0.173506  \n",
            "142193\n"
          ]
        }
      ],
      "source": [
        "dataset_path = \"weatherAUS.csv\"\n",
        "dataset = pd.read_csv(dataset_path)\n",
        "\n",
        "#Eliminemos las filas que no tengan un RainTomorrow definido\n",
        "dataset = dataset.dropna(subset=[\"RainTomorrow\"])\n",
        "\n",
        "# Eliminamos algunos features de texto que no representan mayor diferencia al realizar la aproximación y obteneos los datos y el target\n",
        "X = dataset.drop([\"RainTomorrow\", \"Date\", \"WindDir9am\", \"WindDir3pm\", \"WindGustDir\"], axis=1)\n",
        "y = dataset[\"RainTomorrow\"].replace({'No': 0, 'Yes': 1})\n",
        "\n",
        "#Reemplazamos RainToday por números y las ubicaciones por números, guardando la referencia en location_number\n",
        "X[\"RainToday\"] = X[\"RainToday\"].replace({'No': 0.0, 'Yes': 1.0})\n",
        "unique_classes = X[\"Location\"].unique()\n",
        "location_number = {cls: idx for idx, cls in enumerate(unique_classes)}\n",
        "X[\"Location\"] = X[\"Location\"].replace(location_number)\n",
        "\n",
        "#Normalicemos los datos\n",
        "min_val = X.min(axis=0)\n",
        "max_val = X.max(axis=0)\n",
        "X = (X - min_val) / (max_val - min_val)\n",
        "\n",
        "#De los features de Wind vamos a quitar los más relacionados, al revisar los datos se ve que el WindGustSpeed está relacionado\n",
        "#a los otros dos features, por lo que lo removeremos.\n",
        "windCov = X[[\"WindGustSpeed\", \"WindSpeed9am\", \"WindSpeed3pm\"]].cov()\n",
        "print(windCov)\n",
        "X = X.drop(\"WindGustSpeed\", axis=1)\n",
        "\n",
        "#Vamos a analizar los feature humidity y ver cómo se relacionan, no vamos a eliminar ninguno pues el nivel de relación no es lo suficientemente alto\n",
        "humidCov = X[[\"Humidity9am\", \"Humidity3pm\"]].cov()\n",
        "print(humidCov)\n",
        "\n",
        "#Vamos a analizar los feature pressure y ver cómo se relacionan, note que son altamente relacionados, por lo que vamos a eliminar uno arbitrariamente\n",
        "pressureCov = X[[\"Pressure9am\", \"Pressure3pm\"]].cov()\n",
        "print(pressureCov)\n",
        "X = X.drop(\"Pressure9am\", axis=1)\n",
        "\n",
        "#Vamos a analizar los feature cloud y ver cómo se relacionan, no vamos a eliminar ninguno pues el nivel de relación no es lo suficientemente alto\n",
        "cloudCov = X[[\"Cloud9am\", \"Cloud3pm\"]].cov()\n",
        "print(cloudCov)\n",
        "\n",
        "#Vamos a analizar los feature temp y ver cómo se relacionan, note que son altamente relacionados, por lo que vamos a eliminar el de las 9am como se hizo con pressure\n",
        "tempCov = X[[\"Temp9am\", \"Temp3pm\"]].cov()\n",
        "print(tempCov)\n",
        "X = X.drop(\"Temp9am\", axis=1)\n",
        "\n",
        "#Vamos a analizar si hay otros features altamente relacionados\n",
        "#Note que MaxTemp está altamente relacionada con Temp3pm por lo que eliminaremos Temp3pm\n",
        "XCov = X.cov()\n",
        "print(XCov)\n",
        "X = X.drop(\"Temp3pm\", axis=1)\n",
        "\n",
        "print(len(X))\n",
        "\n",
        "#Vamos a reemplazar los nan con valores medios para que Sklearn y nuestro modelo puedan aceptarlos\n",
        "X = X.to_numpy()\n",
        "y = y.to_numpy()\n",
        "WAX_train, WAX_test, WAy_train, WAy_test = train_test_split(X, y, test_size=0.15, random_state=45)\n",
        "\n",
        "mean_train = np.nanmean(WAX_train)\n",
        "mean_test = np.nanmean(WAX_test)\n",
        "\n",
        "WAX_train[np.isnan(WAX_train)] = mean_train\n",
        "WAX_test[np.isnan(WAX_test)] = mean_test\n",
        "\n"
      ]
    },
    {
      "cell_type": "markdown",
      "metadata": {
        "id": "iPF0Y7Kr8Foc"
      },
      "source": [
        "# **Dataset Notas del Curso**"
      ]
    },
    {
      "cell_type": "code",
      "execution_count": 88,
      "metadata": {
        "id": "evnallJN8LqU"
      },
      "outputs": [
        {
          "name": "stdout",
          "output_type": "stream",
          "text": [
            "[[-1.35227354e-01  5.70129478e-01  8.69673337e-01]\n",
            " [ 1.66590951e+00  1.32928684e+00  6.51414823e-01]\n",
            " [-1.73341922e+00 -4.89756886e-01 -1.33275349e+00]\n",
            " [-1.10344412e+00 -9.48185244e-01 -1.00205877e+00]\n",
            " [ 1.22196732e+00  1.01388813e+00  8.69673337e-01]\n",
            " [ 8.92181701e-01 -2.69711274e-01  8.69673337e-01]\n",
            " [ 6.72324620e-01  3.68421000e-01  4.29849362e-01]\n",
            " [-2.57839957e-01 -4.75087178e-01  4.29849362e-01]\n",
            " [-1.08230401e+00 -2.20244523e+00 -2.21570838e+00]\n",
            " [-7.73658495e-01  5.04115794e-01  8.69673337e-01]\n",
            " [-3.71996519e-01  2.10721645e-01  8.69673337e-01]\n",
            " [ 4.44011496e-01  9.07532749e-01  4.29849362e-01]\n",
            " [-1.26410891e+00 -8.23492730e-01 -1.33606043e+00]\n",
            " [-7.86342558e-01 -2.20244523e+00 -8.92929510e-01]\n",
            " [ 4.31327434e-01  3.97760415e-01  9.82109541e-01]\n",
            " [-7.60350626e-02 -1.34016480e-01 -1.22410817e-01]\n",
            " [-3.97364644e-01  9.66211579e-01  1.09123880e+00]\n",
            " [-2.45155895e-01  1.23760117e+00 -1.11449497e+00]\n",
            " [-7.18694225e-01 -3.21055250e-01  2.08283901e-01]\n",
            " [ 3.97503267e-01  7.49833394e-01 -5.62234792e-01]\n",
            " [-1.04002381e+00 -2.20244523e+00 -2.21570838e+00]\n",
            " [-4.64389170e-02 -6.40121387e-01 -1.00205877e+00]\n",
            " [ 9.51373993e-01  8.63523627e-01 -2.31540074e-01]\n",
            " [-1.33175724e+00 -9.33515536e-01 -7.83800253e-01]\n",
            " [-2.66295999e-01 -1.01009638e-01 -8.92929510e-01]\n",
            " [-2.36699853e-01             nan  1.98363059e-01]\n",
            " [ 3.97503267e-01  3.64753573e-01 -1.32331659e-01]\n",
            " [-1.92790817e+00             nan -7.93721095e-01]\n",
            " [            nan             nan -2.21570838e+00]\n",
            " [ 1.45450847e+00             nan  1.09123880e+00]\n",
            " [-2.36699853e-01 -3.68731799e-01 -5.95304264e-01]\n",
            " [-2.36699853e-01  3.64753573e-01 -2.97679018e-01]\n",
            " [ 8.20305348e-01  1.81382230e-01  2.97571475e-01]\n",
            " [ 1.45450847e+00 -5.52103142e-01  2.97571475e-01]\n",
            " [ 1.03170639e+00  1.09823895e+00 -2.64609546e-01]\n",
            " [ 7.35744932e-01 -1.85360456e-01  4.29849362e-01]\n",
            " [ 1.45450847e+00  1.46498163e+00  9.91546439e-02]\n",
            " [ 1.24310743e+00  1.28161029e+00  4.29849362e-01]\n",
            " [ 1.86102227e-01             nan  9.91546439e-02]\n",
            " [ 3.97503267e-01  1.81382230e-01  3.30157003e-02]\n",
            " [ 1.03170639e+00 -7.53376501e-02  1.65293588e-01]\n",
            " [ 9.47145972e-01  1.09823895e+00 -3.96887433e-01]\n",
            " [ 4.82063683e-01  5.48124917e-01 -1.32331659e-01]\n",
            " [ 1.32766784e+00  3.64753573e-01  7.27474608e-01]\n",
            " [-2.36699853e-01  9.14867603e-01  1.09123880e+00]\n",
            " [ 3.97503267e-01 -7.35474485e-01  2.64502003e-01]\n",
            " [ 1.45450847e+00  1.28161029e+00  1.09123880e+00]\n",
            " [-1.50510609e+00 -1.83570254e+00 -9.92137926e-01]\n",
            " [ 8.20305348e-01  7.31496260e-01 -7.27582151e-01]\n",
            " [-8.83587036e-01 -1.19757027e+00  2.64502003e-01]\n",
            " [-1.18377651e+00 -8.60166999e-01 -1.29637707e+00]\n",
            " [-4.86153081e-01 -2.20244523e+00  1.71907482e-01]\n",
            " [ 4.98975767e-01  2.76735329e-01  7.60544080e-01]\n",
            " [-8.75130994e-01  2.47395914e-01 -5.62234792e-01]\n",
            " [-5.45345372e-01  1.33705681e-01  7.60544080e-01]\n",
            " [ 1.57712107e+00  9.99218421e-01  5.38978619e-01]\n",
            " [ 2.74890664e-01  4.05095269e-01  1.09123880e+00]\n",
            " [ 1.10781076e+00 -1.16456343e+00  1.09123880e+00]\n",
            " [-5.74941517e-01  2.80402756e-01 -1.95163655e-01]\n",
            " [-6.97554121e-01  6.03571438e-02  1.09123880e+00]\n",
            " [-1.05631208e-01  2.69400475e-01 -9.97461304e-03]\n",
            " [-5.45345372e-01 -8.12490450e-01  1.71907482e-01]\n",
            " [-6.33510002e-02 -5.11761447e-01  1.71907482e-01]\n",
            " [-8.49762870e-01  1.33705681e-01  1.09123880e+00]\n",
            " [-4.86153081e-01 -5.52103142e-01 -1.66344820e+00]\n",
            " [-4.86153081e-01  1.59377669e-01 -1.02190045e+00]\n",
            " [-8.37078807e-01 -4.97091739e-01  1.09123880e+00]\n",
            " [ 4.10187330e-01  1.52042815e-01  6.31573140e-01]\n",
            " [ 1.45873649e+00  1.10924123e+00  1.09123880e+00]\n",
            " [-4.86153081e-01 -2.62376420e-01  1.09123880e+00]\n",
            " [-2.56211129e+00 -2.20244523e+00             nan]\n",
            " [ 2.41066498e-01  8.74525907e-01 -2.21570838e+00]\n",
            " [ 1.90330248e-01  8.59856200e-01  9.98644277e-01]\n",
            " [-5.45345372e-01  1.12391093e+00  1.09123880e+00]\n",
            " [-6.38361829e-01  1.00698839e-01 -6.54829313e-01]\n",
            " [ 3.67907122e-01 -2.22034725e-01  1.09123880e+00]\n",
            " [ 2.66434622e-01 -2.33037005e-01  6.31573140e-01]\n",
            " [ 1.36149201e+00  1.33662169e+00  1.09123880e+00]\n",
            " [ 9.89426180e-01  6.76484857e-01  1.09123880e+00]\n",
            " [ 6.46956495e-01  9.07532749e-01  1.09123880e+00]\n",
            " [ 6.34896239e-02 -1.96362737e-01 -1.02569134e-01]\n",
            " [ 4.98975767e-01  6.03571438e-02  1.09123880e+00]\n",
            " [ 2.12094158e-02 -2.20244523e+00  8.16762182e-01]\n",
            " [ 3.38310976e-01 -3.90736360e-01  8.16762182e-01]\n",
            " [-2.78980061e-01 -4.75087178e-01 -1.29637707e+00]\n",
            " [ 5.50335823e-02 -5.96112265e-01  1.09123880e+00]\n",
            " [ 8.66813576e-01  6.83819711e-01  8.16762182e-01]\n",
            " [-8.38672979e-03  1.08033693e-01  1.09123880e+00]\n",
            " [ 1.05707451e+00  1.33295427e+00  9.06049756e-01]\n",
            " [-5.91229794e-02  2.95072463e-01  3.57096524e-01]\n",
            " [ 1.11626680e+00  1.12024351e+00  1.09123880e+00]\n",
            " [ 1.55598097e+00  1.33295427e+00  1.09123880e+00]\n",
            " [ 1.22681915e-01 -8.63834426e-01  1.71907482e-01]\n",
            " [ 2.54374366e-02 -5.52103142e-01  2.64502003e-01]\n",
            " [ 4.14415351e-01  1.59377669e-01  7.24167661e-01]\n",
            " [ 5.15887850e-01  5.44457490e-01  1.09123880e+00]\n",
            " [ 3.63679101e-01  8.60291318e-02  9.06049756e-01]\n",
            " [ 8.03393264e-01  1.37329596e+00  1.09123880e+00]\n",
            " [            nan             nan -2.21570838e+00]\n",
            " [ 1.86102227e-01  1.46498163e+00  9.91546439e-02]\n",
            " [-1.92790817e+00  1.81382230e-01 -2.21570838e+00]\n",
            " [ 7.35744932e-01  9.14867603e-01 -1.81935866e-01]\n",
            " [ 4.39783475e-01  7.31496260e-01 -3.96887433e-01]\n",
            " [-1.80106755e+00 -2.20244523e+00 -2.05036102e+00]\n",
            " [ 1.24310743e+00 -1.98911287e-03  1.05816933e+00]\n",
            " [ 2.70662643e-01 -1.98911287e-03 -1.38897159e+00]\n",
            " [-2.35071025e+00 -7.53376501e-02 -2.31540074e-01]\n",
            " [ 1.01541811e-01  7.31496260e-01 -7.27582151e-01]\n",
            " [-9.55463390e-01 -3.68731799e-01 -1.55431895e+00]\n",
            " [ 1.32766784e+00 -1.98911287e-03  4.29849362e-01]\n",
            " [ 1.03170639e+00  1.17158748e+00  8.43217760e-01]\n",
            " [-1.84334776e+00 -2.20244523e+00 -1.65352736e+00]\n",
            " [-7.86342558e-01 -1.98911287e-03 -1.98470602e-01]\n",
            " [-2.35071025e+00 -3.68731799e-01 -1.55431895e+00]\n",
            " [ 6.08904307e-01  1.08033693e-01  4.29849362e-01]\n",
            " [-2.56211129e+00 -2.20244523e+00 -2.21570838e+00]\n",
            " [ 1.86102227e-01 -1.98911287e-03 -2.31540074e-01]\n",
            " [-2.52988130e-02  7.31496260e-01 -1.38897159e+00]\n",
            " [ 1.24310743e+00  1.46498163e+00  1.09123880e+00]\n",
            " [-6.59501933e-01  1.28161029e+00 -1.05827687e+00]\n",
            " [ 1.66590951e+00  5.48124917e-01  4.29849362e-01]\n",
            " [-2.13930921e+00 -2.20244523e+00 -1.05827687e+00]\n",
            " [-1.92790817e+00 -2.20244523e+00 -1.88501366e+00]\n",
            " [-2.52988130e-02 -2.20244523e+00  5.95196721e-01]]\n",
            "[1 1 0 0 1 1 1 0 0 1 0 1 0 0 1 0 1 1 0 0 0 0 1 0 0 0 1 0 0 0 0 0 1 0 1 1 1\n",
            " 1 0 0 1 1 1 1 1 0 1 0 1 0 0 0 1 0 1 1 1 1 1 0 1 0 0 1 0 0 0 1 1 0 0 1 1 1\n",
            " 1 1 0 1 1 1 1 1 0 1 0 0 1 1 1 0 1 1 0 0 1 1 1 1 0 1 0 0 1 0 1 0 0 1 0 1 1\n",
            " 0 0 0 1 0 1 1 1 1 1 0 0 0]\n"
          ]
        }
      ],
      "source": [
        "df1 = pd.read_table(\"DataSetNotas/notas1.csv\", delimiter =\",\")\n",
        "df1 = df1[['Examen 1 25.0%', 'Examen 2 25.0%', 'Quiz1', 'Total: ']]\n",
        "df1.columns = ['E1', 'E2', 'Q1', 'T']\n",
        "df1 = df1.fillna(0)\n",
        "\n",
        "df2 = pd.read_table(\"DataSetNotas/notas2.csv\", delimiter =\";\")\n",
        "df2 = df2[['E1 25.00%', 'E2 25.00%', 'Q1 3.00%', 'Total: ']]\n",
        "df2.columns = ['E1', 'E2', 'Q1', 'T']\n",
        "df2 = df2.fillna(0)\n",
        "\n",
        "df3 = pd.read_table(\"DataSetNotas/notas3.csv\", delimiter =\",\")\n",
        "df3 = df3[['Examen 1 25.00%', 'Examen 2 25.00%', 'Quiz 1', 'Total: ']]\n",
        "df3.columns = ['E1', 'E2', 'Q1', 'T']\n",
        "df3 = df3.fillna(0)\n",
        "\n",
        "df4 = pd.read_table(\"DataSetNotas/notas4.csv\", delimiter =\",\")\n",
        "df4 = df4[['Examen 1 25.00%', 'Examen 2 25%', 'Quiz 1', 'Total: ']]\n",
        "df4.columns = ['E1', 'E2', 'Q1', 'T']\n",
        "df4 = df4.fillna(0)\n",
        "\n",
        "df5 = pd.read_table(\"DataSetNotas/notas5.csv\", delimiter =\";\")\n",
        "df5 = df5[['Examen 1 25%', 'Examen 2 25.00%', 'Q1 3%', 'Total: ']]\n",
        "df5 = df5.replace(' ', 0)\n",
        "df5.columns = ['E1', 'E2', 'Q1', 'T']\n",
        "\n",
        "frames = [df1, df2, df3, df4, df5]\n",
        "allData = pd.concat(frames, ignore_index=True)\n",
        "allData = allData.apply(pd.to_numeric, errors='coerce')\n",
        "allData.fillna(0)\n",
        "allData['Pass'] = np.where(allData['T'] >= 67.5, 1, 0)\n",
        "\n",
        "x = allData[[\"E1\",\"E2\",\"Q1\"]].to_numpy()\n",
        "scaler = StandardScaler()\n",
        "x = scaler.fit_transform(x)\n",
        "print(x)\n",
        "y = allData[\"Pass\"].to_numpy()\n",
        "print(y)\n",
        "\n",
        "NOX_train, NOX_test, NOy_train, NOy_test = train_test_split(x, y, test_size=0.35, random_state=45)"
      ]
    },
    {
      "cell_type": "markdown",
      "metadata": {
        "id": "l1bzbDUb8MKl"
      },
      "source": [
        "# **Dataset escogido**"
      ]
    },
    {
      "cell_type": "code",
      "execution_count": 83,
      "metadata": {
        "id": "JpNMsZce8Vz0"
      },
      "outputs": [
        {
          "name": "stderr",
          "output_type": "stream",
          "text": [
            "c:\\Program Files\\Python311\\Lib\\site-packages\\sklearn\\base.py:457: UserWarning: X has feature names, but PCA was fitted without feature names\n",
            "  warnings.warn(\n"
          ]
        }
      ],
      "source": [
        "df = pd.read_csv(\"Bank_Personal_Loan_Modelling.csv\", encoding='latin-1')\n",
        "df.head()\n",
        "\n",
        "features= df.columns.tolist()\n",
        "#print(features)\n",
        "X=df[features]\n",
        "y = df[\"Personal Loan\"] \n",
        "\n",
        "# PUNTO 1 - MEJORAR EL ACCURACY \n",
        "\n",
        "# ESTANDARIZACION \n",
        "scaler = StandardScaler()\n",
        "X_scaled = scaler.fit_transform(X)\n",
        "\n",
        "# Calcula la matriz de covarianza\n",
        "cov_matrix = np.cov(X_scaled, rowvar=False)\n",
        "\n",
        "#PCA\n",
        "pca = PCA()\n",
        "pca.fit(cov_matrix)\n",
        "\n",
        "componentes_principales = pca.components_\n",
        "varianza_explicada = pca.explained_variance_ratio_\n",
        "\n",
        "varianza_acumulativa = np.cumsum(varianza_explicada)\n",
        "num_componentes_deseados = np.argmax(varianza_acumulativa >= 0.95) + 1  \n",
        "\n",
        "X_reduced = pca.transform(X)[:, :num_componentes_deseados]\n",
        "\n",
        "oversampler = RandomOverSampler(sampling_strategy='minority', random_state=42)\n",
        "X_resampled, y_resampled = oversampler.fit_resample(X_scaled, y)\n",
        "\n",
        "ESX_train,ESX_test,ESy_train,ESy_test=train_test_split(X_resampled,y_resampled,test_size=0.30,random_state=45)\n"
      ]
    },
    {
      "cell_type": "markdown",
      "metadata": {
        "id": "4oBhIB828XYV"
      },
      "source": [
        "# **Parámetros KNN - WeatherAUS**"
      ]
    },
    {
      "cell_type": "code",
      "execution_count": 46,
      "metadata": {
        "id": "CDwWcNF3F5qh"
      },
      "outputs": [
        {
          "name": "stdout",
          "output_type": "stream",
          "text": [
            "0.839795583477894\n",
            "0.8402175441886633\n",
            "0.8434994608279807\n"
          ]
        }
      ],
      "source": [
        "distance_classifier_1 = KNearestNeighbors(WAX_train, WAy_train, n_neighbors=7, weights='distance')\n",
        "distance_classifier_2 = KNearestNeighbors(WAX_train, WAy_train, n_neighbors=9, weights='distance')\n",
        "distance_classifier_3 = KNearestNeighbors(WAX_train, WAy_train, n_neighbors=11, weights='distance')\n",
        "\n",
        "predict1 = distance_classifier_1.predict(WAX_test)\n",
        "print(accuracy_score(WAy_test, predict1))\n",
        "predict2 = distance_classifier_2.predict(WAX_test)\n",
        "print(accuracy_score(WAy_test, predict2))\n",
        "predict3 = distance_classifier_3.predict(WAX_test)\n",
        "print(accuracy_score(WAy_test, predict3))\n"
      ]
    },
    {
      "cell_type": "code",
      "execution_count": 47,
      "metadata": {},
      "outputs": [
        {
          "name": "stdout",
          "output_type": "stream",
          "text": [
            "0.8465469548502039\n"
          ]
        }
      ],
      "source": [
        "distance_classifier_4 = KNearestNeighbors(WAX_train, WAy_train, n_neighbors=35, weights='distance')\n",
        "predict4 = distance_classifier_4.predict(WAX_test)\n",
        "\n",
        "print(accuracy_score(WAy_test, predict4))"
      ]
    },
    {
      "cell_type": "markdown",
      "metadata": {
        "id": "Cme4Fh_x8rbW"
      },
      "source": [
        "# **Métricas KNN - WeatherAUS**"
      ]
    },
    {
      "cell_type": "code",
      "execution_count": 55,
      "metadata": {
        "id": "CWm5NxLMSS4g"
      },
      "outputs": [
        {
          "name": "stdout",
          "output_type": "stream",
          "text": [
            "Accuracy: 0.8465469548502039\n",
            "Precision: 0.7573057733428368\n",
            "Recall: 0.450498198007208\n",
            "F1 Score: 0.5649342017812043\n",
            "ROC AUC: 0.7047518680861948\n"
          ]
        },
        {
          "data": {
            "image/png": "[encoded data removed]",
            "text/plain": [
              "<Figure size 640x480 with 1 Axes>"
            ]
          },
          "metadata": {},
          "output_type": "display_data"
        }
      ],
      "source": [
        "accuracy = accuracy_score(WAy_test, predict4)\n",
        "precision = precision_score(WAy_test, predict4)\n",
        "recall = recall_score(WAy_test, predict4)\n",
        "fonescore = f1_score(WAy_test, predict4)\n",
        "roc_auc = roc_auc_score(WAy_test, predict4)\n",
        "\n",
        "print(\"Accuracy: \"+str(accuracy))\n",
        "print(\"Precision: \"+str(precision))\n",
        "print(\"Recall: \"+str(recall))\n",
        "print(\"F1 Score: \"+str(fonescore))\n",
        "print(\"ROC AUC: \"+str(roc_auc))\n",
        "\n",
        "fpr, tpr, thresholds = roc_curve(WAy_test, predict4)\n",
        "\n",
        "plt.figure()\n",
        "plt.plot(fpr, tpr, color='darkorange', lw=2, label='ROC curve (area = {:.2f})'.format(roc_auc))\n",
        "plt.plot([0, 1], [0, 1], color='navy', lw=2, linestyle='--')\n",
        "plt.xlim([0.0, 1.0])\n",
        "plt.ylim([0.0, 1.05])\n",
        "plt.xlabel('False Positive Rate')\n",
        "plt.ylabel('True Positive Rate')\n",
        "plt.title('Receiver Operating Characteristic')\n",
        "plt.legend(loc='lower right')\n",
        "plt.show()\n"
      ]
    },
    {
      "cell_type": "markdown",
      "metadata": {
        "id": "pZ0xKby388p6"
      },
      "source": [
        "# **Parámetros KNN - Notas**"
      ]
    },
    {
      "cell_type": "code",
      "execution_count": null,
      "metadata": {
        "id": "NsG0mWbx-M66"
      },
      "outputs": [],
      "source": []
    },
    {
      "cell_type": "markdown",
      "metadata": {
        "id": "WskaH7-c-UeP"
      },
      "source": [
        "# **Métricas KNN - Notas**"
      ]
    },
    {
      "cell_type": "code",
      "execution_count": null,
      "metadata": {
        "id": "FybalUOG-ZW-"
      },
      "outputs": [],
      "source": [
        "accuracy = accuracy_score(WAy_test, predict4)\n",
        "precision = precision_score(WAy_test, predict4)\n",
        "recall = recall_score(WAy_test, predict4)\n",
        "fonescore = f1_score(WAy_test, predict4)\n",
        "roc_auc = roc_auc_score(WAy_test, predict4)\n",
        "\n",
        "print(\"Accuracy: \"+str(accuracy))\n",
        "print(\"Precision: \"+str(precision))\n",
        "print(\"Recall: \"+str(recall))\n",
        "print(\"F1 Score: \"+str(fonescore))\n",
        "print(\"ROC AUC: \"+str(roc_auc))\n",
        "\n",
        "fpr, tpr, thresholds = roc_curve(WAy_test, predict4)\n",
        "\n",
        "plt.figure()\n",
        "plt.plot(fpr, tpr, color='darkorange', lw=2, label='ROC curve (area = {:.2f})'.format(roc_auc))\n",
        "plt.plot([0, 1], [0, 1], color='navy', lw=2, linestyle='--')\n",
        "plt.xlim([0.0, 1.0])\n",
        "plt.ylim([0.0, 1.05])\n",
        "plt.xlabel('False Positive Rate')\n",
        "plt.ylabel('True Positive Rate')\n",
        "plt.title('Receiver Operating Characteristic')\n",
        "plt.legend(loc='lower right')\n",
        "plt.show()"
      ]
    },
    {
      "cell_type": "markdown",
      "metadata": {
        "id": "Xpnv9I0H9ubD"
      },
      "source": [
        "# **Parámetros KNN - Escogido**"
      ]
    },
    {
      "cell_type": "code",
      "execution_count": 84,
      "metadata": {
        "id": "mciWJZF--N-z"
      },
      "outputs": [
        {
          "name": "stdout",
          "output_type": "stream",
          "text": [
            "1.0\n",
            "1.0\n",
            "1.0\n"
          ]
        }
      ],
      "source": [
        "distance_classifier_1 = KNearestNeighbors(ESX_train, ESy_train.to_numpy(), n_neighbors=7, weights='distance')\n",
        "distance_classifier_2 = KNearestNeighbors(ESX_train, ESy_train.to_numpy(), n_neighbors=9, weights='distance')\n",
        "distance_classifier_3 = KNearestNeighbors(ESX_train, ESy_train.to_numpy(), n_neighbors=11, weights='distance')\n",
        "\n",
        "predict1 = distance_classifier_1.predict(ESX_test)\n",
        "print(accuracy_score(ESy_test.to_numpy(), predict1))\n",
        "predict2 = distance_classifier_2.predict(ESX_test)\n",
        "print(accuracy_score(ESy_test.to_numpy(), predict2))\n",
        "predict3 = distance_classifier_3.predict(ESX_test)\n",
        "print(accuracy_score(ESy_test.to_numpy(), predict3))"
      ]
    },
    {
      "cell_type": "markdown",
      "metadata": {
        "id": "YvwRuFtT-al_"
      },
      "source": [
        "# **Métricas KNN - Escogido**"
      ]
    },
    {
      "cell_type": "code",
      "execution_count": 85,
      "metadata": {
        "id": "k7_g2mCx-c-H"
      },
      "outputs": [
        {
          "name": "stdout",
          "output_type": "stream",
          "text": [
            "Accuracy: 1.0\n",
            "Precision: 1.0\n",
            "Recall: 1.0\n",
            "F1 Score: 1.0\n",
            "ROC AUC: 1.0\n"
          ]
        },
        {
          "data": {
            "image/png": "[encoded data removed]",
            "text/plain": [
              "<Figure size 640x480 with 1 Axes>"
            ]
          },
          "metadata": {},
          "output_type": "display_data"
        }
      ],
      "source": [
        "accuracy = accuracy_score(ESy_test, predict3)\n",
        "precision = precision_score(ESy_test, predict3)\n",
        "recall = recall_score(ESy_test, predict3)\n",
        "fonescore = f1_score(ESy_test, predict3)\n",
        "roc_auc = roc_auc_score(ESy_test, predict3)\n",
        "\n",
        "print(\"Accuracy: \"+str(accuracy))\n",
        "print(\"Precision: \"+str(precision))\n",
        "print(\"Recall: \"+str(recall))\n",
        "print(\"F1 Score: \"+str(fonescore))\n",
        "print(\"ROC AUC: \"+str(roc_auc))\n",
        "\n",
        "fpr, tpr, thresholds = roc_curve(ESy_test, predict3)\n",
        "\n",
        "plt.figure()\n",
        "plt.plot(fpr, tpr, color='darkorange', lw=2, label='ROC curve (area = {:.2f})'.format(roc_auc))\n",
        "plt.plot([0, 1], [0, 1], color='navy', lw=2, linestyle='--')\n",
        "plt.xlim([0.0, 1.0])\n",
        "plt.ylim([0.0, 1.05])\n",
        "plt.xlabel('False Positive Rate')\n",
        "plt.ylabel('True Positive Rate')\n",
        "plt.title('Receiver Operating Characteristic')\n",
        "plt.legend(loc='lower right')\n",
        "plt.show()"
      ]
    },
    {
      "cell_type": "markdown",
      "metadata": {
        "id": "l4_FWhcI9xWd"
      },
      "source": [
        "# **Parámetros Logit - WeatherAUS**"
      ]
    },
    {
      "cell_type": "code",
      "execution_count": 71,
      "metadata": {},
      "outputs": [
        {
          "name": "stdout",
          "output_type": "stream",
          "text": [
            "0.8341225561442168\n",
            "0.8351540156594308\n",
            "0.8355759763702002\n",
            "0.8354822073233625\n",
            "0.8355759763702002\n"
          ]
        }
      ],
      "source": [
        "model = OurLogisticRegression(lr=0.05, num_iter=35000)\n",
        "model.fit(WAX_train, WAy_train)\n",
        "probs = model.predict_prob(WAX_test)\n",
        "y_pred = model.predict(WAX_test, threshold=0.5)\n",
        "print(accuracy_score(WAy_test, y_pred))\n",
        "\n",
        "model = OurLogisticRegression(lr=0.15, num_iter=35000)\n",
        "model.fit(WAX_train, WAy_train)\n",
        "probs = model.predict_prob(WAX_test)\n",
        "y_pred = model.predict(WAX_test, threshold=0.5)\n",
        "print(accuracy_score(WAy_test, y_pred))\n",
        "\n",
        "model = OurLogisticRegression(lr=0.25, num_iter=35000)\n",
        "model.fit(WAX_train, WAy_train)\n",
        "probs = model.predict_prob(WAX_test)\n",
        "y_pred = model.predict(WAX_test, threshold=0.5)\n",
        "print(accuracy_score(WAy_test, y_pred))\n",
        "\n",
        "model = OurLogisticRegression(lr=0.35, num_iter=35000)\n",
        "model.fit(WAX_train, WAy_train)\n",
        "probs = model.predict_prob(WAX_test)\n",
        "y_pred = model.predict(WAX_test, threshold=0.5)\n",
        "print(accuracy_score(WAy_test, y_pred))\n",
        "\n",
        "model = OurLogisticRegression(lr=0.35, num_iter=75000)\n",
        "model.fit(WAX_train, WAy_train)\n",
        "probs = model.predict_prob(WAX_test)\n",
        "y_pred = model.predict(WAX_test, threshold=0.5)\n",
        "print(accuracy_score(WAy_test, y_pred))\n"
      ]
    },
    {
      "cell_type": "code",
      "execution_count": 72,
      "metadata": {},
      "outputs": [
        {
          "name": "stdout",
          "output_type": "stream",
          "text": [
            "0.8355759763702002\n"
          ]
        }
      ],
      "source": [
        "model = OurLogisticRegression(lr=0.25, num_iter=35000)\n",
        "model.fit(WAX_train, WAy_train)\n",
        "probs = model.predict_prob(WAX_test)\n",
        "y_pred = model.predict(WAX_test, threshold=0.5)\n",
        "print(accuracy_score(WAy_test, y_pred))"
      ]
    },
    {
      "cell_type": "markdown",
      "metadata": {
        "id": "aAFp1Fnm-eLl"
      },
      "source": [
        "# **Métricas Logit - WeatherAUS**"
      ]
    },
    {
      "cell_type": "code",
      "execution_count": 73,
      "metadata": {
        "id": "NVCNv2Pw-hhh"
      },
      "outputs": [
        {
          "name": "stdout",
          "output_type": "stream",
          "text": [
            "Accuracy: 0.8355759763702002\n",
            "Precision: 0.6981008513425017\n",
            "Recall: 0.4519821920712317\n",
            "F1 Score: 0.5487067301505597\n",
            "ROC AUC: 0.6982400726790062\n"
          ]
        },
        {
          "data": {
            "image/png": "[encoded data removed]",
            "text/plain": [
              "<Figure size 640x480 with 1 Axes>"
            ]
          },
          "metadata": {},
          "output_type": "display_data"
        }
      ],
      "source": [
        "# mejores hiperparámetros encontrados\n",
        "warnings.filterwarnings(\"ignore\", category=RuntimeWarning)\n",
        "\n",
        "probs = model.predict_prob(WAX_test)\n",
        "y_pred = model.predict(WAX_test, threshold=0.5)\n",
        "\n",
        "accuracy = accuracy_score(WAy_test, y_pred)\n",
        "precision = precision_score(WAy_test, y_pred)\n",
        "recall = recall_score(WAy_test, y_pred)\n",
        "fonescore = f1_score(WAy_test, y_pred)\n",
        "roc_auc = roc_auc_score(WAy_test, y_pred)\n",
        "\n",
        "print(\"Accuracy: \"+str(accuracy))\n",
        "print(\"Precision: \"+str(precision))\n",
        "print(\"Recall: \"+str(recall))\n",
        "print(\"F1 Score: \"+str(fonescore))\n",
        "print(\"ROC AUC: \"+str(roc_auc))\n",
        "\n",
        "fpr, tpr, thresholds = roc_curve(WAy_test, y_pred)\n",
        "\n",
        "plt.figure()\n",
        "plt.plot(fpr, tpr, color='darkorange', lw=2, label='ROC curve (area = {:.2f})'.format(roc_auc))\n",
        "plt.plot([0, 1], [0, 1], color='navy', lw=2, linestyle='--')\n",
        "plt.xlim([0.0, 1.0])\n",
        "plt.ylim([0.0, 1.05])\n",
        "plt.xlabel('False Positive Rate')\n",
        "plt.ylabel('True Positive Rate')\n",
        "plt.title('Receiver Operating Characteristic')\n",
        "plt.legend(loc='lower right')\n",
        "plt.show()"
      ]
    },
    {
      "cell_type": "markdown",
      "metadata": {
        "id": "a3aHXXl393Zs"
      },
      "source": [
        "# **Parámetros Logit - Notas**"
      ]
    },
    {
      "cell_type": "code",
      "execution_count": null,
      "metadata": {
        "id": "rQmPrFQ4-O33"
      },
      "outputs": [],
      "source": []
    },
    {
      "cell_type": "markdown",
      "metadata": {
        "id": "58R2soj5-i3i"
      },
      "source": [
        "# **Métricas Logit - Notas**"
      ]
    },
    {
      "cell_type": "code",
      "execution_count": null,
      "metadata": {
        "id": "dN77_Pb8-lIE"
      },
      "outputs": [],
      "source": []
    },
    {
      "cell_type": "markdown",
      "metadata": {
        "id": "Uh0EtIjd95sA"
      },
      "source": [
        "# **Parámetros Logit - Escogido**"
      ]
    },
    {
      "cell_type": "code",
      "execution_count": null,
      "metadata": {
        "id": "53w5AtQz-PlT"
      },
      "outputs": [],
      "source": [
        "model = OurLogisticRegression()\n",
        "\n",
        "# fit the model to the training data\n",
        "model.fit(ESX_train, ESy_train)\n",
        "\n",
        "# Creamos un modelo de regresión logística\n",
        "#model = LogisticRegression()\n",
        "\n",
        "#model.fit(X_train, y_train)\n",
        "\n",
        "warnings.filterwarnings(\"ignore\", category=RuntimeWarning)\n",
        "\n",
        "# PUNTO 2\n",
        "# GRID SEARCH \n",
        "# Definimos la cuadrícula de hiperparámetros que queremos probar\n",
        "param_grid = {\n",
        "    'lr': [0.01, 0.1, 1],\n",
        "    'num_iter': [1000, 2000, 3000, 5000],\n",
        "    'fit_intercept': [True, False]\n",
        "}\n",
        "\n",
        "grid_search = GridSearchCV(model, param_grid, cv=StratifiedKFold(n_splits=2, random_state=None, shuffle=True))\n",
        "\n",
        "# búsqueda de hiperparámetros en el conjunto de entrenamiento\n",
        "grid_search.fit(ESX_train, ESy_train)\n"
      ]
    },
    {
      "cell_type": "code",
      "execution_count": 75,
      "metadata": {},
      "outputs": [
        {
          "name": "stdout",
          "output_type": "stream",
          "text": [
            "1.0\n",
            "1.0\n",
            "1.0\n",
            "1.0\n",
            "1.0\n"
          ]
        }
      ],
      "source": [
        "model = OurLogisticRegression(lr=0.05, num_iter=35000)\n",
        "model.fit(ESX_train, ESy_train)\n",
        "probs = model.predict_prob(ESX_test)\n",
        "y_pred = model.predict(ESX_test, threshold=0.5)\n",
        "print(accuracy_score(ESy_test, y_pred))\n",
        "\n",
        "model = OurLogisticRegression(lr=0.15, num_iter=35000)\n",
        "model.fit(ESX_train, ESy_train)\n",
        "probs = model.predict_prob(ESX_test)\n",
        "y_pred = model.predict(ESX_test, threshold=0.5)\n",
        "print(accuracy_score(ESy_test, y_pred))\n",
        "\n",
        "model = OurLogisticRegression(lr=0.25, num_iter=35000)\n",
        "model.fit(ESX_train, ESy_train)\n",
        "probs = model.predict_prob(ESX_test)\n",
        "y_pred = model.predict(ESX_test, threshold=0.5)\n",
        "print(accuracy_score(ESy_test, y_pred))\n",
        "\n",
        "model = OurLogisticRegression(lr=0.35, num_iter=35000)\n",
        "model.fit(ESX_train, ESy_train)\n",
        "probs = model.predict_prob(ESX_test)\n",
        "y_pred = model.predict(ESX_test, threshold=0.5)\n",
        "print(accuracy_score(ESy_test, y_pred))\n",
        "\n",
        "model = OurLogisticRegression(lr=0.35, num_iter=75000)\n",
        "model.fit(ESX_train, ESy_train)\n",
        "probs = model.predict_prob(ESX_test)\n",
        "y_pred = model.predict(ESX_test, threshold=0.5)\n",
        "print(accuracy_score(ESy_test, y_pred))"
      ]
    },
    {
      "cell_type": "code",
      "execution_count": 76,
      "metadata": {},
      "outputs": [
        {
          "name": "stdout",
          "output_type": "stream",
          "text": [
            "1.0\n"
          ]
        }
      ],
      "source": [
        "model = OurLogisticRegression(lr=0.35, num_iter=35000)\n",
        "model.fit(ESX_train, ESy_train)\n",
        "probs = model.predict_prob(ESX_test)\n",
        "y_pred = model.predict(ESX_test, threshold=0.5)\n",
        "print(accuracy_score(ESy_test, y_pred))\n"
      ]
    },
    {
      "cell_type": "markdown",
      "metadata": {
        "id": "eCLSXpjj-map"
      },
      "source": [
        "# **Métricas Logit - Escogido**"
      ]
    },
    {
      "cell_type": "code",
      "execution_count": 78,
      "metadata": {
        "id": "2FDU3hwG-oOL"
      },
      "outputs": [
        {
          "name": "stdout",
          "output_type": "stream",
          "text": [
            "Accuracy: 1.0\n",
            "Precision: 1.0\n",
            "Recall: 1.0\n",
            "F1 Score: 1.0\n",
            "ROC AUC: 1.0\n"
          ]
        },
        {
          "data": {
            "image/png": "[encoded data removed]",
            "text/plain": [
              "<Figure size 640x480 with 1 Axes>"
            ]
          },
          "metadata": {},
          "output_type": "display_data"
        }
      ],
      "source": [
        "# mejores hiperparámetros encontrados\n",
        "#warnings.filterwarnings(\"ignore\", category=RuntimeWarning)\n",
        "\n",
        "#best_params = grid_search.best_params_\n",
        "#print(\"Mejores hiperparámetros encontrados:\")\n",
        "#print(best_params)\n",
        "\n",
        "# mejor modelo entrenado\n",
        "#best_model = grid_search.best_estimator_\n",
        "\n",
        "# mejores hiperparámetros encontrados\n",
        "warnings.filterwarnings(\"ignore\", category=RuntimeWarning)\n",
        "\n",
        "probs = model.predict_prob(WAX_test)\n",
        "y_pred = model.predict(ESX_test, threshold=0.5)\n",
        "\n",
        "accuracy = accuracy_score(ESy_test, y_pred)\n",
        "precision = precision_score(ESy_test, y_pred)\n",
        "recall = recall_score(ESy_test, y_pred)\n",
        "fonescore = f1_score(ESy_test, y_pred)\n",
        "roc_auc = roc_auc_score(ESy_test, y_pred)\n",
        "\n",
        "print(\"Accuracy: \"+str(accuracy))\n",
        "print(\"Precision: \"+str(precision))\n",
        "print(\"Recall: \"+str(recall))\n",
        "print(\"F1 Score: \"+str(fonescore))\n",
        "print(\"ROC AUC: \"+str(roc_auc))\n",
        "\n",
        "fpr, tpr, thresholds = roc_curve(ESy_test, y_pred)\n",
        "\n",
        "plt.figure()\n",
        "plt.plot(fpr, tpr, color='darkorange', lw=2, label='ROC curve (area = {:.2f})'.format(roc_auc))\n",
        "plt.plot([0, 1], [0, 1], color='navy', lw=2, linestyle='--')\n",
        "plt.xlim([0.0, 1.0])\n",
        "plt.ylim([0.0, 1.05])\n",
        "plt.xlabel('False Positive Rate')\n",
        "plt.ylabel('True Positive Rate')\n",
        "plt.title('Receiver Operating Characteristic')\n",
        "plt.legend(loc='lower right')\n",
        "plt.show()"
      ]
    },
    {
      "cell_type": "markdown",
      "metadata": {
        "id": "LEq6pW-G99k4"
      },
      "source": [
        "# **Parámetros Árbol - WeatherAUS**"
      ]
    },
    {
      "cell_type": "code",
      "execution_count": 94,
      "metadata": {
        "id": "ihhDiZ6u-QLe"
      },
      "outputs": [
        {
          "name": "stdout",
          "output_type": "stream",
          "text": [
            "0.7873786862956538\n",
            "0.7873786862956538\n",
            "0.7873786862956538\n"
          ]
        },
        {
          "ename": "KeyboardInterrupt",
          "evalue": "",
          "output_type": "error",
          "traceback": [
            "\u001b[1;31m---------------------------------------------------------------------------\u001b[0m",
            "\u001b[1;31mKeyboardInterrupt\u001b[0m                         Traceback (most recent call last)",
            "\u001b[1;32mc:\\Users\\geogd\\OneDrive - Estudiantes ITCR\\Documentos\\TEC\\2023\\II Semestre\\Reconocimiento de Patrones\\Proyecto 1\\P1_Patrones\\main_project.ipynb Cell 45\u001b[0m line \u001b[0;36m2\n\u001b[0;32m     <a href='vscode-notebook-cell:/c%3A/Users/geogd/OneDrive%20-%20Estudiantes%20ITCR/Documentos/TEC/2023/II%20Semestre/Reconocimiento%20de%20Patrones/Proyecto%201/P1_Patrones/main_project.ipynb#X56sZmlsZQ%3D%3D?line=17'>18</a>\u001b[0m \u001b[39mprint\u001b[39m(accuracy)\n\u001b[0;32m     <a href='vscode-notebook-cell:/c%3A/Users/geogd/OneDrive%20-%20Estudiantes%20ITCR/Documentos/TEC/2023/II%20Semestre/Reconocimiento%20de%20Patrones/Proyecto%201/P1_Patrones/main_project.ipynb#X56sZmlsZQ%3D%3D?line=19'>20</a>\u001b[0m tree \u001b[39m=\u001b[39m Node(max_depth\u001b[39m=\u001b[39m\u001b[39m1000\u001b[39m)\n\u001b[1;32m---> <a href='vscode-notebook-cell:/c%3A/Users/geogd/OneDrive%20-%20Estudiantes%20ITCR/Documentos/TEC/2023/II%20Semestre/Reconocimiento%20de%20Patrones/Proyecto%201/P1_Patrones/main_project.ipynb#X56sZmlsZQ%3D%3D?line=20'>21</a>\u001b[0m tree\u001b[39m.\u001b[39;49mfit(WAX_train, WAy_train)\n\u001b[0;32m     <a href='vscode-notebook-cell:/c%3A/Users/geogd/OneDrive%20-%20Estudiantes%20ITCR/Documentos/TEC/2023/II%20Semestre/Reconocimiento%20de%20Patrones/Proyecto%201/P1_Patrones/main_project.ipynb#X56sZmlsZQ%3D%3D?line=21'>22</a>\u001b[0m y_pred \u001b[39m=\u001b[39m [tree\u001b[39m.\u001b[39mpredict(x) \u001b[39mfor\u001b[39;00m x \u001b[39min\u001b[39;00m WAX_test]\n\u001b[0;32m     <a href='vscode-notebook-cell:/c%3A/Users/geogd/OneDrive%20-%20Estudiantes%20ITCR/Documentos/TEC/2023/II%20Semestre/Reconocimiento%20de%20Patrones/Proyecto%201/P1_Patrones/main_project.ipynb#X56sZmlsZQ%3D%3D?line=22'>23</a>\u001b[0m accuracy \u001b[39m=\u001b[39m accuracy_score(WAy_test, y_pred)\n",
            "\u001b[1;32mc:\\Users\\geogd\\OneDrive - Estudiantes ITCR\\Documentos\\TEC\\2023\\II Semestre\\Reconocimiento de Patrones\\Proyecto 1\\P1_Patrones\\main_project.ipynb Cell 45\u001b[0m line \u001b[0;36m4\n\u001b[0;32m     <a href='vscode-notebook-cell:/c%3A/Users/geogd/OneDrive%20-%20Estudiantes%20ITCR/Documentos/TEC/2023/II%20Semestre/Reconocimiento%20de%20Patrones/Proyecto%201/P1_Patrones/main_project.ipynb#X56sZmlsZQ%3D%3D?line=39'>40</a>\u001b[0m \u001b[39mif\u001b[39;00m \u001b[39mlen\u001b[39m(y_left) \u001b[39m==\u001b[39m \u001b[39m0\u001b[39m \u001b[39mor\u001b[39;00m \u001b[39mlen\u001b[39m(y_right) \u001b[39m==\u001b[39m \u001b[39m0\u001b[39m:\n\u001b[0;32m     <a href='vscode-notebook-cell:/c%3A/Users/geogd/OneDrive%20-%20Estudiantes%20ITCR/Documentos/TEC/2023/II%20Semestre/Reconocimiento%20de%20Patrones/Proyecto%201/P1_Patrones/main_project.ipynb#X56sZmlsZQ%3D%3D?line=40'>41</a>\u001b[0m     \u001b[39mcontinue\u001b[39;00m\n\u001b[1;32m---> <a href='vscode-notebook-cell:/c%3A/Users/geogd/OneDrive%20-%20Estudiantes%20ITCR/Documentos/TEC/2023/II%20Semestre/Reconocimiento%20de%20Patrones/Proyecto%201/P1_Patrones/main_project.ipynb#X56sZmlsZQ%3D%3D?line=42'>43</a>\u001b[0m info_gain \u001b[39m=\u001b[39m entropy(y) \u001b[39m-\u001b[39m ((\u001b[39mlen\u001b[39m(y_left) \u001b[39m/\u001b[39m \u001b[39mlen\u001b[39m(y)) \u001b[39m*\u001b[39m entropy(y_left) \u001b[39m+\u001b[39m (\u001b[39mlen\u001b[39m(y_right) \u001b[39m/\u001b[39m \u001b[39mlen\u001b[39m(y)) \u001b[39m*\u001b[39m entropy(y_right))\n\u001b[0;32m     <a href='vscode-notebook-cell:/c%3A/Users/geogd/OneDrive%20-%20Estudiantes%20ITCR/Documentos/TEC/2023/II%20Semestre/Reconocimiento%20de%20Patrones/Proyecto%201/P1_Patrones/main_project.ipynb#X56sZmlsZQ%3D%3D?line=44'>45</a>\u001b[0m \u001b[39mif\u001b[39;00m info_gain \u001b[39m>\u001b[39m best_info_gain:\n\u001b[0;32m     <a href='vscode-notebook-cell:/c%3A/Users/geogd/OneDrive%20-%20Estudiantes%20ITCR/Documentos/TEC/2023/II%20Semestre/Reconocimiento%20de%20Patrones/Proyecto%201/P1_Patrones/main_project.ipynb#X56sZmlsZQ%3D%3D?line=45'>46</a>\u001b[0m     best_info_gain \u001b[39m=\u001b[39m info_gain\n",
            "\u001b[1;32mc:\\Users\\geogd\\OneDrive - Estudiantes ITCR\\Documentos\\TEC\\2023\\II Semestre\\Reconocimiento de Patrones\\Proyecto 1\\P1_Patrones\\main_project.ipynb Cell 45\u001b[0m line \u001b[0;36m3\n\u001b[0;32m      <a href='vscode-notebook-cell:/c%3A/Users/geogd/OneDrive%20-%20Estudiantes%20ITCR/Documentos/TEC/2023/II%20Semestre/Reconocimiento%20de%20Patrones/Proyecto%201/P1_Patrones/main_project.ipynb#X56sZmlsZQ%3D%3D?line=1'>2</a>\u001b[0m \u001b[39mdef\u001b[39;00m \u001b[39mentropy\u001b[39m(y):\n\u001b[1;32m----> <a href='vscode-notebook-cell:/c%3A/Users/geogd/OneDrive%20-%20Estudiantes%20ITCR/Documentos/TEC/2023/II%20Semestre/Reconocimiento%20de%20Patrones/Proyecto%201/P1_Patrones/main_project.ipynb#X56sZmlsZQ%3D%3D?line=2'>3</a>\u001b[0m     unique, counts \u001b[39m=\u001b[39m np\u001b[39m.\u001b[39;49munique(y, return_counts\u001b[39m=\u001b[39;49m\u001b[39mTrue\u001b[39;49;00m)\n\u001b[0;32m      <a href='vscode-notebook-cell:/c%3A/Users/geogd/OneDrive%20-%20Estudiantes%20ITCR/Documentos/TEC/2023/II%20Semestre/Reconocimiento%20de%20Patrones/Proyecto%201/P1_Patrones/main_project.ipynb#X56sZmlsZQ%3D%3D?line=3'>4</a>\u001b[0m     probabilities \u001b[39m=\u001b[39m counts \u001b[39m/\u001b[39m \u001b[39mlen\u001b[39m(y)\n\u001b[0;32m      <a href='vscode-notebook-cell:/c%3A/Users/geogd/OneDrive%20-%20Estudiantes%20ITCR/Documentos/TEC/2023/II%20Semestre/Reconocimiento%20de%20Patrones/Proyecto%201/P1_Patrones/main_project.ipynb#X56sZmlsZQ%3D%3D?line=4'>5</a>\u001b[0m     entropy \u001b[39m=\u001b[39m \u001b[39m-\u001b[39mnp\u001b[39m.\u001b[39msum(probabilities \u001b[39m*\u001b[39m np\u001b[39m.\u001b[39mlog2(probabilities))\n",
            "File \u001b[1;32m~\\AppData\\Roaming\\Python\\Python311\\site-packages\\numpy\\lib\\arraysetops.py:274\u001b[0m, in \u001b[0;36munique\u001b[1;34m(ar, return_index, return_inverse, return_counts, axis, equal_nan)\u001b[0m\n",
            "File \u001b[1;32m~\\AppData\\Roaming\\Python\\Python311\\site-packages\\numpy\\lib\\arraysetops.py:336\u001b[0m, in \u001b[0;36m_unique1d\u001b[1;34m(ar, return_index, return_inverse, return_counts, equal_nan)\u001b[0m\n",
            "\u001b[1;31mKeyboardInterrupt\u001b[0m: "
          ]
        }
      ],
      "source": [
        "# Busqueda de parámetros\n",
        "tree = Node(max_depth=250)\n",
        "tree.fit(WAX_train, WAy_train)\n",
        "y_pred = [tree.predict(x) for x in WAX_test]\n",
        "accuracy = accuracy_score(WAy_test, y_pred)\n",
        "print(accuracy)\n",
        "\n",
        "tree = Node(max_depth=500)\n",
        "tree.fit(WAX_train, WAy_train)\n",
        "y_pred = [tree.predict(x) for x in WAX_test]\n",
        "accuracy = accuracy_score(WAy_test, y_pred)\n",
        "print(accuracy)\n",
        "\n",
        "tree = Node(max_depth=750)\n",
        "tree.fit(WAX_train, WAy_train)\n",
        "y_pred = [tree.predict(x) for x in WAX_test]\n",
        "accuracy = accuracy_score(WAy_test, y_pred)\n",
        "print(accuracy)\n",
        "\n",
        "tree = Node(max_depth=1000)\n",
        "tree.fit(WAX_train, WAy_train)\n",
        "y_pred = [tree.predict(x) for x in WAX_test]\n",
        "accuracy = accuracy_score(WAy_test, y_pred)\n",
        "print(accuracy)\n"
      ]
    },
    {
      "cell_type": "markdown",
      "metadata": {
        "id": "8WXBClly-qlb"
      },
      "source": [
        "# **Métricas Árbol - WeatherAUS**"
      ]
    },
    {
      "cell_type": "code",
      "execution_count": null,
      "metadata": {
        "id": "ntgAaayP-tpP"
      },
      "outputs": [],
      "source": [
        "accuracy = accuracy_score(WAy_test, y_pred)\n",
        "precision = precision_score(WAy_test, y_pred)\n",
        "recall = recall_score(WAy_test, y_pred)\n",
        "fonescore = f1_score(WAy_test, y_pred)\n",
        "roc_auc = roc_auc_score(WAy_test, y_pred)\n",
        "\n",
        "print(\"Accuracy: \"+str(accuracy))\n",
        "print(\"Precision: \"+str(precision))\n",
        "print(\"Recall: \"+str(recall))\n",
        "print(\"F1 Score: \"+str(fonescore))\n",
        "print(\"ROC AUC: \"+str(roc_auc))\n",
        "\n",
        "fpr, tpr, thresholds = roc_curve(WAy_test, y_pred)\n",
        "\n",
        "plt.figure()\n",
        "plt.plot(fpr, tpr, color='darkorange', lw=2, label='ROC curve (area = {:.2f})'.format(roc_auc))\n",
        "plt.plot([0, 1], [0, 1], color='navy', lw=2, linestyle='--')\n",
        "plt.xlim([0.0, 1.0])\n",
        "plt.ylim([0.0, 1.05])\n",
        "plt.xlabel('False Positive Rate')\n",
        "plt.ylabel('True Positive Rate')\n",
        "plt.title('Receiver Operating Characteristic')\n",
        "plt.legend(loc='lower right')\n",
        "plt.show()"
      ]
    },
    {
      "cell_type": "markdown",
      "metadata": {
        "id": "0X1-TL26-ArD"
      },
      "source": [
        "# **Parámetros Árbol - Notas**"
      ]
    },
    {
      "cell_type": "code",
      "execution_count": 97,
      "metadata": {
        "id": "wfFkwy4h-Qxj"
      },
      "outputs": [
        {
          "name": "stdout",
          "output_type": "stream",
          "text": [
            "0.8181818181818182\n",
            "0.8181818181818182\n",
            "0.8181818181818182\n",
            "0.8181818181818182\n"
          ]
        }
      ],
      "source": [
        "# Busqueda de parámetros\n",
        "tree = Node(max_depth=250)\n",
        "tree.fit(NOX_train, NOy_train)\n",
        "y_pred = [tree.predict(x) for x in NOX_test]\n",
        "accuracy = accuracy_score(NOy_test, y_pred)\n",
        "print(accuracy)\n",
        "\n",
        "tree = Node(max_depth=500)\n",
        "tree.fit(NOX_train, NOy_train)\n",
        "y_pred = [tree.predict(x) for x in NOX_test]\n",
        "accuracy = accuracy_score(NOy_test, y_pred)\n",
        "print(accuracy)\n",
        "\n",
        "tree = Node(max_depth=750)\n",
        "tree.fit(NOX_train, NOy_train)\n",
        "y_pred = [tree.predict(x) for x in NOX_test]\n",
        "accuracy = accuracy_score(NOy_test, y_pred)\n",
        "print(accuracy)\n",
        "\n",
        "tree = Node(max_depth=1000)\n",
        "tree.fit(NOX_train, NOy_train)\n",
        "y_pred = [tree.predict(x) for x in NOX_test]\n",
        "accuracy = accuracy_score(NOy_test, y_pred)\n",
        "print(accuracy)"
      ]
    },
    {
      "cell_type": "markdown",
      "metadata": {
        "id": "3W5EyWrT-uXn"
      },
      "source": [
        "# **Métricas Árbol - Notas**"
      ]
    },
    {
      "cell_type": "code",
      "execution_count": null,
      "metadata": {
        "id": "ySMN3ksQ-xaa"
      },
      "outputs": [],
      "source": [
        "accuracy = accuracy_score(NOy_test, y_pred)\n",
        "precision = precision_score(NOy_test, y_pred)\n",
        "recall = recall_score(NOy_test, y_pred)\n",
        "fonescore = f1_score(NOy_test, y_pred)\n",
        "roc_auc = roc_auc_score(NOy_test, y_pred)\n",
        "\n",
        "print(\"Accuracy: \"+str(accuracy))\n",
        "print(\"Precision: \"+str(precision))\n",
        "print(\"Recall: \"+str(recall))\n",
        "print(\"F1 Score: \"+str(fonescore))\n",
        "print(\"ROC AUC: \"+str(roc_auc))\n",
        "\n",
        "fpr, tpr, thresholds = roc_curve(NOy_test, y_pred)\n",
        "\n",
        "plt.figure()\n",
        "plt.plot(fpr, tpr, color='darkorange', lw=2, label='ROC curve (area = {:.2f})'.format(roc_auc))\n",
        "plt.plot([0, 1], [0, 1], color='navy', lw=2, linestyle='--')\n",
        "plt.xlim([0.0, 1.0])\n",
        "plt.ylim([0.0, 1.05])\n",
        "plt.xlabel('False Positive Rate')\n",
        "plt.ylabel('True Positive Rate')\n",
        "plt.title('Receiver Operating Characteristic')\n",
        "plt.legend(loc='lower right')\n",
        "plt.show()"
      ]
    },
    {
      "cell_type": "markdown",
      "metadata": {
        "id": "3xhZroOx-Bhc"
      },
      "source": [
        "# **Parámetros Árbol - Escogido**"
      ]
    },
    {
      "cell_type": "code",
      "execution_count": null,
      "metadata": {
        "id": "c6FpHXsJ-Rm9"
      },
      "outputs": [],
      "source": [
        "# Busqueda de parámetros\n",
        "tree = Node(max_depth=250)\n",
        "tree.fit(ESX_train, ESy_train)\n",
        "y_pred = [tree.predict(x) for x in ESX_test]\n",
        "accuracy = accuracy_score(ESy_test, y_pred)\n",
        "print(accuracy)\n",
        "\n",
        "tree = Node(max_depth=500)\n",
        "tree.fit(ESX_train, ESy_train)\n",
        "y_pred = [tree.predict(x) for x in ESX_test]\n",
        "accuracy = accuracy_score(ESy_test, y_pred)\n",
        "print(accuracy)\n",
        "\n",
        "tree = Node(max_depth=750)\n",
        "tree.fit(ESX_train, ESy_train)\n",
        "y_pred = [tree.predict(x) for x in ESX_test]\n",
        "accuracy = accuracy_score(ESy_test, y_pred)\n",
        "print(accuracy)\n",
        "\n",
        "tree = Node(max_depth=1000)\n",
        "tree.fit(ESX_train, ESy_train)\n",
        "y_pred = [tree.predict(x) for x in ESX_test]\n",
        "accuracy = accuracy_score(ESy_test, y_pred)\n",
        "print(accuracy)"
      ]
    },
    {
      "cell_type": "markdown",
      "metadata": {
        "id": "lPSVtBhX-yVl"
      },
      "source": [
        "# **Métricas Árbol - Escogido**"
      ]
    },
    {
      "cell_type": "code",
      "execution_count": null,
      "metadata": {
        "id": "Vsn0Bpmz-0Ft"
      },
      "outputs": [],
      "source": [
        "accuracy = accuracy_score(ESy_test, y_pred)\n",
        "precision = precision_score(ESy_test, y_pred)\n",
        "recall = recall_score(ESy_test, y_pred)\n",
        "fonescore = f1_score(ESy_test, y_pred)\n",
        "roc_auc = roc_auc_score(ESy_test, y_pred)\n",
        "\n",
        "print(\"Accuracy: \"+str(accuracy))\n",
        "print(\"Precision: \"+str(precision))\n",
        "print(\"Recall: \"+str(recall))\n",
        "print(\"F1 Score: \"+str(fonescore))\n",
        "print(\"ROC AUC: \"+str(roc_auc))\n",
        "\n",
        "fpr, tpr, thresholds = roc_curve(ESy_test, y_pred)\n",
        "\n",
        "plt.figure()\n",
        "plt.plot(fpr, tpr, color='darkorange', lw=2, label='ROC curve (area = {:.2f})'.format(roc_auc))\n",
        "plt.plot([0, 1], [0, 1], color='navy', lw=2, linestyle='--')\n",
        "plt.xlim([0.0, 1.0])\n",
        "plt.ylim([0.0, 1.05])\n",
        "plt.xlabel('False Positive Rate')\n",
        "plt.ylabel('True Positive Rate')\n",
        "plt.title('Receiver Operating Characteristic')\n",
        "plt.legend(loc='lower right')\n",
        "plt.show()"
      ]
    }
  ],
  "metadata": {
    "colab": {
      "provenance": []
    },
    "kernelspec": {
      "display_name": "Python 3 (ipykernel)",
      "language": "python",
      "name": "python3"
    },
    "language_info": {
      "codemirror_mode": {
        "name": "ipython",
        "version": 3
      },
      "file_extension": ".py",
      "mimetype": "text/x-python",
      "name": "python",
      "nbconvert_exporter": "python",
      "pygments_lexer": "ipython3",
      "version": "3.11.5"
    }
  },
  "nbformat": 4,
  "nbformat_minor": 0
}
