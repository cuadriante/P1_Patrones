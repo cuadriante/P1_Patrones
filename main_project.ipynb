{
  "cells": [
    {
      "cell_type": "markdown",
      "metadata": {
        "id": "c7Xr-klg7Rle"
      },
      "source": [
        "# **Imports**"
      ]
    },
    {
      "cell_type": "code",
      "execution_count": 1,
      "metadata": {
        "id": "_cvA4Fch4YEV"
      },
      "outputs": [],
      "source": [
        "import numpy as np\n",
        "import pandas as pd\n",
        "import time\n",
        "import sklearn.datasets as datasets\n",
        "from sklearn.model_selection import train_test_split\n",
        "from sklearn.neighbors import KNeighborsClassifier\n",
        "from sklearn.impute import SimpleImputer\n",
        "from sklearn.model_selection import GridSearchCV\n",
        "from sklearn.model_selection import train_test_split\n",
        "from sklearn.base import BaseEstimator, ClassifierMixin\n",
        "from sklearn.model_selection import StratifiedKFold\n"
      ]
    },
    {
      "cell_type": "markdown",
      "metadata": {
        "id": "6AVB7c-O7bET"
      },
      "source": [
        "# **Modelo KNN**"
      ]
    },
    {
      "cell_type": "code",
      "execution_count": 11,
      "metadata": {
        "id": "ErpJFF5J4YEZ"
      },
      "outputs": [],
      "source": [
        "from pickle import NONE\n",
        "class KNearestNeighbors(BaseEstimator, ClassifierMixin):\n",
        "    def __init__(self, X_train, y_train, n_neighbors=5, weights='uniform'):\n",
        "\n",
        "        self.X_train = X_train\n",
        "        self.y_train = y_train\n",
        "\n",
        "        self.n_neighbors = n_neighbors\n",
        "        self.weights = weights\n",
        "\n",
        "        self.n_classes = 10\n",
        "        self.prediction = NONE\n",
        "\n",
        "    def euclidian_distance(self, a, b):\n",
        "        return np.sqrt(np.sum((a - b)**2, axis=1))\n",
        "\n",
        "    def kneighbors(self, X_test, return_distance=False):\n",
        "\n",
        "        dist = []\n",
        "        neigh_ind = []\n",
        "        point_dist = []\n",
        "        for x_test in X_test:\n",
        "            point_dist += [ self.euclidian_distance(x_test, self.X_train) ]\n",
        "\n",
        "        for row in point_dist:\n",
        "            enum_neigh = enumerate(row)\n",
        "            sorted_neigh = sorted(enum_neigh,\n",
        "                                  key=lambda x: x[1])[:self.n_neighbors]\n",
        "\n",
        "            ind_list = [tup[0] for tup in sorted_neigh]\n",
        "            dist_list = [tup[1] for tup in sorted_neigh]\n",
        "\n",
        "            dist.append(dist_list)\n",
        "            neigh_ind.append(ind_list)\n",
        "\n",
        "        if return_distance:\n",
        "            return np.array(dist), np.array(neigh_ind)\n",
        "\n",
        "        return np.array(neigh_ind)\n",
        "\n",
        "    def fit(self, X_train, y_train):\n",
        "        self.X_train = X_train\n",
        "        self.y_train = y_train\n",
        "\n",
        "    def predict(self, X_test):\n",
        "\n",
        "        if self.weights == 'uniform':\n",
        "            neighbors = self.kneighbors(X_test)\n",
        "            y_pred = np.array([\n",
        "                np.argmax(np.bincount(self.y_train[neighbor]))\n",
        "                for neighbor in neighbors\n",
        "            ])\n",
        "            return y_pred\n",
        "\n",
        "        if self.weights == 'distance':\n",
        "            distances, neighbors = self.kneighbors(X_test, return_distance=True)\n",
        "            y_pred = np.array([\n",
        "                np.argmax(np.bincount(self.y_train[neighbor], 1 / (distances[i] + 1e-6)))\n",
        "                for i, neighbor in enumerate(neighbors)\n",
        "            ])\n",
        "            self.prediction = y_pred\n",
        "            return y_pred\n",
        "\n",
        "    def accuracy(self,y_test):\n",
        "        y_pred = self.prediction\n",
        "        return float(sum(y_pred == y_test)) / float(len(y_test)), y_pred, y_test\n",
        "\n",
        "    def precision(self,y_test):\n",
        "        y_pred = self.prediction\n",
        "        return float(sum(y_pred[y_pred == 1.0] and y_pred == y_test)) / float(sum(y_pred[y_pred == 1.0] and y_pred != y_test)), y_pred, y_test\n",
        "\n",
        "    def recall(self,y_test):\n",
        "        y_pred = self.prediction\n",
        "        return float(sum(y_pred[y_pred == 1.0] and y_pred == y_test)) / float(sum(y_pred[y_pred == 0.0] and y_pred != y_test)), y_pred, y_test\n",
        "\n",
        "    def fonescore(self,y_test):\n",
        "        recall = self.recall(y_test)\n",
        "        precision = self.precision(y_test)\n",
        "        return float(2*recall*precision) / float(precision + recall), y_pred, y_test\n",
        "\n",
        "    def AUC(self,y_test):\n",
        "        y_pred = self.prediction\n",
        "        return float(sum(y_pred == y_test)) / float(len(y_test)), y_pred, y_test\n",
        "\n",
        "    def ROC(self,y_test):\n",
        "        y_pred = self.prediction\n",
        "        return float(sum(y_pred == y_test)) / float(len(y_test)), y_pred, y_test\n"
      ]
    },
    {
      "cell_type": "markdown",
      "metadata": {
        "id": "MDHvRHen7gsa"
      },
      "source": [
        "# **Modelo Árbol de Decisión**"
      ]
    },
    {
      "cell_type": "code",
      "execution_count": null,
      "metadata": {
        "id": "SqVapsHa7pka"
      },
      "outputs": [],
      "source": []
    },
    {
      "cell_type": "markdown",
      "metadata": {
        "id": "WjBd2eXg7qRy"
      },
      "source": [
        "# **Modelo Regresión Logística**"
      ]
    },
    {
      "cell_type": "code",
      "execution_count": null,
      "metadata": {
        "id": "98D68yd77xPh"
      },
      "outputs": [],
      "source": []
    },
    {
      "cell_type": "markdown",
      "metadata": {
        "id": "VbxL3-XSlzGK"
      },
      "source": [
        "# **Dataset WeatherAUS**"
      ]
    },
    {
      "cell_type": "code",
      "execution_count": 12,
      "metadata": {
        "id": "_3bxYqulmjLN"
      },
      "outputs": [],
      "source": [
        "dataset_path = \"weatherAUS.csv\"\n",
        "dataset = pd.read_csv(dataset_path)\n",
        "\n",
        "#Eliminemos las filas que no tengan un RainTomorrow definido\n",
        "dataset = dataset.dropna(subset=[\"RainTomorrow\"])\n",
        "\n",
        "# Eliminamos algunos features de texto que no representan mayor diferencia al realizar la aproximación y obteneos los datos y el target\n",
        "X = dataset.drop([\"RainTomorrow\", \"Date\", \"WindDir9am\", \"WindDir3pm\", \"WindGustDir\"], axis=1)\n",
        "y = dataset[\"RainTomorrow\"].replace({'No': 0, 'Yes': 1})\n",
        "\n",
        "#Reemplazamos RainToday por números y las ubicaciones por números, guardando la referencia en location_number\n",
        "X[\"RainToday\"] = X[\"RainToday\"].replace({'No': 0.0, 'Yes': 1.0})\n",
        "unique_classes = X[\"Location\"].unique()\n",
        "location_number = {cls: idx for idx, cls in enumerate(unique_classes)}\n",
        "X[\"Location\"] = X[\"Location\"].replace(location_number)\n",
        "\n",
        "#Normalicemos los datos\n",
        "min_val = X.min(axis=0)\n",
        "max_val = X.max(axis=0)\n",
        "X = (X - min_val) / (max_val - min_val)\n",
        "\n",
        "#De los features de Wind vamos a quitar los más relacionados, al revisar los datos se ve que el WindGustSpeed está relacionado\n",
        "#a los otros dos features, por lo que lo removeremos.\n",
        "windCov = X[[\"WindGustSpeed\", \"WindSpeed9am\", \"WindSpeed3pm\"]].cov()\n",
        "#print(windCov)\n",
        "X = X.drop(\"WindGustSpeed\", axis=1)\n",
        "\n",
        "#Vamos a analizar los feature humidity y ver cómo se relacionan, no vamos a eliminar ninguno pues el nivel de relación no es lo suficientemente alto\n",
        "humidCov = X[[\"Humidity9am\", \"Humidity3pm\"]].cov()\n",
        "#print(humidCov)\n",
        "\n",
        "#Vamos a analizar los feature pressure y ver cómo se relacionan, note que son altamente relacionados, por lo que vamos a eliminar uno arbitrariamente\n",
        "pressureCov = X[[\"Pressure9am\", \"Pressure3pm\"]].cov()\n",
        "#print(pressureCov)\n",
        "X = X.drop(\"Pressure9am\", axis=1)\n",
        "\n",
        "#Vamos a analizar los feature cloud y ver cómo se relacionan, no vamos a eliminar ninguno pues el nivel de relación no es lo suficientemente alto\n",
        "cloudCov = X[[\"Cloud9am\", \"Cloud3pm\"]].cov()\n",
        "#print(cloudCov)\n",
        "\n",
        "#Vamos a analizar los feature temp y ver cómo se relacionan, note que son altamente relacionados, por lo que vamos a eliminar el de las 9am como se hizo con pressure\n",
        "tempCov = X[[\"Temp9am\", \"Temp3pm\"]].cov()\n",
        "#print(tempCov)\n",
        "X = X.drop(\"Temp9am\", axis=1)\n",
        "\n",
        "#Vamos a analizar si hay otros features altamente relacionados\n",
        "#Note que MaxTemp está altamente relacionada con Temp3pm por lo que eliminaremos Temp3pm\n",
        "XCov = X.cov()\n",
        "#print(XCov)\n",
        "X = X.drop(\"Temp3pm\", axis=1)\n",
        "\n",
        "#print(len(X))\n",
        "\n",
        "#Vamos a reemplazar los nan con valores medios para que Sklearn y nuestro modelo puedan aceptarlos\n",
        "X = X.to_numpy()\n",
        "y = y.to_numpy()\n",
        "WAX_train, WAX_test, WAy_train, WAy_test = train_test_split(X, y, test_size=0.15, random_state=45)\n",
        "\n",
        "mean_train = np.nanmean(WAX_train)\n",
        "mean_test = np.nanmean(WAX_test)\n",
        "\n",
        "WAX_train[np.isnan(WAX_train)] = mean_train\n",
        "WAX_test[np.isnan(WAX_test)] = mean_test\n",
        "\n"
      ]
    },
    {
      "cell_type": "markdown",
      "metadata": {
        "id": "iPF0Y7Kr8Foc"
      },
      "source": [
        "# **Dataset Notas del Curso**"
      ]
    },
    {
      "cell_type": "code",
      "execution_count": null,
      "metadata": {
        "id": "evnallJN8LqU"
      },
      "outputs": [],
      "source": []
    },
    {
      "cell_type": "markdown",
      "metadata": {
        "id": "l1bzbDUb8MKl"
      },
      "source": [
        "# **Dataset escogido**"
      ]
    },
    {
      "cell_type": "code",
      "execution_count": null,
      "metadata": {
        "id": "JpNMsZce8Vz0"
      },
      "outputs": [],
      "source": []
    },
    {
      "cell_type": "markdown",
      "metadata": {
        "id": "4oBhIB828XYV"
      },
      "source": [
        "# **Gridsearch KNN - WeatherAUS**"
      ]
    },
    {
      "cell_type": "code",
      "execution_count": 13,
      "metadata": {
        "id": "CDwWcNF3F5qh"
      },
      "outputs": [
        {
          "ename": "KeyboardInterrupt",
          "evalue": "",
          "output_type": "error",
          "traceback": [
            "\u001b[1;31m---------------------------------------------------------------------------\u001b[0m",
            "\u001b[1;31mKeyboardInterrupt\u001b[0m                         Traceback (most recent call last)",
            "\u001b[1;32mc:\\Users\\geogd\\OneDrive - Estudiantes ITCR\\Documentos\\TEC\\2023\\II Semestre\\Reconocimiento de Patrones\\Proyecto 1\\P1_Patrones\\main_project.ipynb Cell 16\u001b[0m line \u001b[0;36m1\n\u001b[0;32m     <a href='vscode-notebook-cell:/c%3A/Users/geogd/OneDrive%20-%20Estudiantes%20ITCR/Documentos/TEC/2023/II%20Semestre/Reconocimiento%20de%20Patrones/Proyecto%201/P1_Patrones/main_project.ipynb#X21sZmlsZQ%3D%3D?line=9'>10</a>\u001b[0m grid_search \u001b[39m=\u001b[39m GridSearchCV(distance_classifier, param_grid, cv\u001b[39m=\u001b[39mStratifiedKFold(n_splits\u001b[39m=\u001b[39m\u001b[39m5\u001b[39m))\n\u001b[0;32m     <a href='vscode-notebook-cell:/c%3A/Users/geogd/OneDrive%20-%20Estudiantes%20ITCR/Documentos/TEC/2023/II%20Semestre/Reconocimiento%20de%20Patrones/Proyecto%201/P1_Patrones/main_project.ipynb#X21sZmlsZQ%3D%3D?line=11'>12</a>\u001b[0m \u001b[39m# búsqueda de hiperparámetros en el conjunto de entrenamiento\u001b[39;00m\n\u001b[1;32m---> <a href='vscode-notebook-cell:/c%3A/Users/geogd/OneDrive%20-%20Estudiantes%20ITCR/Documentos/TEC/2023/II%20Semestre/Reconocimiento%20de%20Patrones/Proyecto%201/P1_Patrones/main_project.ipynb#X21sZmlsZQ%3D%3D?line=12'>13</a>\u001b[0m grid_search\u001b[39m.\u001b[39;49mfit(WAX_train, WAy_train)\n\u001b[0;32m     <a href='vscode-notebook-cell:/c%3A/Users/geogd/OneDrive%20-%20Estudiantes%20ITCR/Documentos/TEC/2023/II%20Semestre/Reconocimiento%20de%20Patrones/Proyecto%201/P1_Patrones/main_project.ipynb#X21sZmlsZQ%3D%3D?line=14'>15</a>\u001b[0m \u001b[39m# mejores hiperparámetros encontrados\u001b[39;00m\n\u001b[0;32m     <a href='vscode-notebook-cell:/c%3A/Users/geogd/OneDrive%20-%20Estudiantes%20ITCR/Documentos/TEC/2023/II%20Semestre/Reconocimiento%20de%20Patrones/Proyecto%201/P1_Patrones/main_project.ipynb#X21sZmlsZQ%3D%3D?line=15'>16</a>\u001b[0m best_params \u001b[39m=\u001b[39m grid_search\u001b[39m.\u001b[39mbest_params_\n",
            "File \u001b[1;32mc:\\Program Files\\Python311\\Lib\\site-packages\\sklearn\\base.py:1151\u001b[0m, in \u001b[0;36m_fit_context.<locals>.decorator.<locals>.wrapper\u001b[1;34m(estimator, *args, **kwargs)\u001b[0m\n\u001b[0;32m   1144\u001b[0m     estimator\u001b[39m.\u001b[39m_validate_params()\n\u001b[0;32m   1146\u001b[0m \u001b[39mwith\u001b[39;00m config_context(\n\u001b[0;32m   1147\u001b[0m     skip_parameter_validation\u001b[39m=\u001b[39m(\n\u001b[0;32m   1148\u001b[0m         prefer_skip_nested_validation \u001b[39mor\u001b[39;00m global_skip_validation\n\u001b[0;32m   1149\u001b[0m     )\n\u001b[0;32m   1150\u001b[0m ):\n\u001b[1;32m-> 1151\u001b[0m     \u001b[39mreturn\u001b[39;00m fit_method(estimator, \u001b[39m*\u001b[39;49margs, \u001b[39m*\u001b[39;49m\u001b[39m*\u001b[39;49mkwargs)\n",
            "File \u001b[1;32mc:\\Program Files\\Python311\\Lib\\site-packages\\sklearn\\model_selection\\_search.py:898\u001b[0m, in \u001b[0;36mBaseSearchCV.fit\u001b[1;34m(self, X, y, groups, **fit_params)\u001b[0m\n\u001b[0;32m    892\u001b[0m     results \u001b[39m=\u001b[39m \u001b[39mself\u001b[39m\u001b[39m.\u001b[39m_format_results(\n\u001b[0;32m    893\u001b[0m         all_candidate_params, n_splits, all_out, all_more_results\n\u001b[0;32m    894\u001b[0m     )\n\u001b[0;32m    896\u001b[0m     \u001b[39mreturn\u001b[39;00m results\n\u001b[1;32m--> 898\u001b[0m \u001b[39mself\u001b[39;49m\u001b[39m.\u001b[39;49m_run_search(evaluate_candidates)\n\u001b[0;32m    900\u001b[0m \u001b[39m# multimetric is determined here because in the case of a callable\u001b[39;00m\n\u001b[0;32m    901\u001b[0m \u001b[39m# self.scoring the return type is only known after calling\u001b[39;00m\n\u001b[0;32m    902\u001b[0m first_test_score \u001b[39m=\u001b[39m all_out[\u001b[39m0\u001b[39m][\u001b[39m\"\u001b[39m\u001b[39mtest_scores\u001b[39m\u001b[39m\"\u001b[39m]\n",
            "File \u001b[1;32mc:\\Program Files\\Python311\\Lib\\site-packages\\sklearn\\model_selection\\_search.py:1419\u001b[0m, in \u001b[0;36mGridSearchCV._run_search\u001b[1;34m(self, evaluate_candidates)\u001b[0m\n\u001b[0;32m   1417\u001b[0m \u001b[39mdef\u001b[39;00m \u001b[39m_run_search\u001b[39m(\u001b[39mself\u001b[39m, evaluate_candidates):\n\u001b[0;32m   1418\u001b[0m \u001b[39m    \u001b[39m\u001b[39m\"\"\"Search all candidates in param_grid\"\"\"\u001b[39;00m\n\u001b[1;32m-> 1419\u001b[0m     evaluate_candidates(ParameterGrid(\u001b[39mself\u001b[39;49m\u001b[39m.\u001b[39;49mparam_grid))\n",
            "File \u001b[1;32mc:\\Program Files\\Python311\\Lib\\site-packages\\sklearn\\model_selection\\_search.py:845\u001b[0m, in \u001b[0;36mBaseSearchCV.fit.<locals>.evaluate_candidates\u001b[1;34m(candidate_params, cv, more_results)\u001b[0m\n\u001b[0;32m    837\u001b[0m \u001b[39mif\u001b[39;00m \u001b[39mself\u001b[39m\u001b[39m.\u001b[39mverbose \u001b[39m>\u001b[39m \u001b[39m0\u001b[39m:\n\u001b[0;32m    838\u001b[0m     \u001b[39mprint\u001b[39m(\n\u001b[0;32m    839\u001b[0m         \u001b[39m\"\u001b[39m\u001b[39mFitting \u001b[39m\u001b[39m{0}\u001b[39;00m\u001b[39m folds for each of \u001b[39m\u001b[39m{1}\u001b[39;00m\u001b[39m candidates,\u001b[39m\u001b[39m\"\u001b[39m\n\u001b[0;32m    840\u001b[0m         \u001b[39m\"\u001b[39m\u001b[39m totalling \u001b[39m\u001b[39m{2}\u001b[39;00m\u001b[39m fits\u001b[39m\u001b[39m\"\u001b[39m\u001b[39m.\u001b[39mformat(\n\u001b[0;32m    841\u001b[0m             n_splits, n_candidates, n_candidates \u001b[39m*\u001b[39m n_splits\n\u001b[0;32m    842\u001b[0m         )\n\u001b[0;32m    843\u001b[0m     )\n\u001b[1;32m--> 845\u001b[0m out \u001b[39m=\u001b[39m parallel(\n\u001b[0;32m    846\u001b[0m     delayed(_fit_and_score)(\n\u001b[0;32m    847\u001b[0m         clone(base_estimator),\n\u001b[0;32m    848\u001b[0m         X,\n\u001b[0;32m    849\u001b[0m         y,\n\u001b[0;32m    850\u001b[0m         train\u001b[39m=\u001b[39;49mtrain,\n\u001b[0;32m    851\u001b[0m         test\u001b[39m=\u001b[39;49mtest,\n\u001b[0;32m    852\u001b[0m         parameters\u001b[39m=\u001b[39;49mparameters,\n\u001b[0;32m    853\u001b[0m         split_progress\u001b[39m=\u001b[39;49m(split_idx, n_splits),\n\u001b[0;32m    854\u001b[0m         candidate_progress\u001b[39m=\u001b[39;49m(cand_idx, n_candidates),\n\u001b[0;32m    855\u001b[0m         \u001b[39m*\u001b[39;49m\u001b[39m*\u001b[39;49mfit_and_score_kwargs,\n\u001b[0;32m    856\u001b[0m     )\n\u001b[0;32m    857\u001b[0m     \u001b[39mfor\u001b[39;49;00m (cand_idx, parameters), (split_idx, (train, test)) \u001b[39min\u001b[39;49;00m product(\n\u001b[0;32m    858\u001b[0m         \u001b[39menumerate\u001b[39;49m(candidate_params), \u001b[39menumerate\u001b[39;49m(cv\u001b[39m.\u001b[39;49msplit(X, y, groups))\n\u001b[0;32m    859\u001b[0m     )\n\u001b[0;32m    860\u001b[0m )\n\u001b[0;32m    862\u001b[0m \u001b[39mif\u001b[39;00m \u001b[39mlen\u001b[39m(out) \u001b[39m<\u001b[39m \u001b[39m1\u001b[39m:\n\u001b[0;32m    863\u001b[0m     \u001b[39mraise\u001b[39;00m \u001b[39mValueError\u001b[39;00m(\n\u001b[0;32m    864\u001b[0m         \u001b[39m\"\u001b[39m\u001b[39mNo fits were performed. \u001b[39m\u001b[39m\"\u001b[39m\n\u001b[0;32m    865\u001b[0m         \u001b[39m\"\u001b[39m\u001b[39mWas the CV iterator empty? \u001b[39m\u001b[39m\"\u001b[39m\n\u001b[0;32m    866\u001b[0m         \u001b[39m\"\u001b[39m\u001b[39mWere there no candidates?\u001b[39m\u001b[39m\"\u001b[39m\n\u001b[0;32m    867\u001b[0m     )\n",
            "File \u001b[1;32mc:\\Program Files\\Python311\\Lib\\site-packages\\sklearn\\utils\\parallel.py:65\u001b[0m, in \u001b[0;36mParallel.__call__\u001b[1;34m(self, iterable)\u001b[0m\n\u001b[0;32m     60\u001b[0m config \u001b[39m=\u001b[39m get_config()\n\u001b[0;32m     61\u001b[0m iterable_with_config \u001b[39m=\u001b[39m (\n\u001b[0;32m     62\u001b[0m     (_with_config(delayed_func, config), args, kwargs)\n\u001b[0;32m     63\u001b[0m     \u001b[39mfor\u001b[39;00m delayed_func, args, kwargs \u001b[39min\u001b[39;00m iterable\n\u001b[0;32m     64\u001b[0m )\n\u001b[1;32m---> 65\u001b[0m \u001b[39mreturn\u001b[39;00m \u001b[39msuper\u001b[39;49m()\u001b[39m.\u001b[39;49m\u001b[39m__call__\u001b[39;49m(iterable_with_config)\n",
            "File \u001b[1;32mc:\\Program Files\\Python311\\Lib\\site-packages\\joblib\\parallel.py:1863\u001b[0m, in \u001b[0;36mParallel.__call__\u001b[1;34m(self, iterable)\u001b[0m\n\u001b[0;32m   1861\u001b[0m     output \u001b[39m=\u001b[39m \u001b[39mself\u001b[39m\u001b[39m.\u001b[39m_get_sequential_output(iterable)\n\u001b[0;32m   1862\u001b[0m     \u001b[39mnext\u001b[39m(output)\n\u001b[1;32m-> 1863\u001b[0m     \u001b[39mreturn\u001b[39;00m output \u001b[39mif\u001b[39;00m \u001b[39mself\u001b[39m\u001b[39m.\u001b[39mreturn_generator \u001b[39melse\u001b[39;00m \u001b[39mlist\u001b[39;49m(output)\n\u001b[0;32m   1865\u001b[0m \u001b[39m# Let's create an ID that uniquely identifies the current call. If the\u001b[39;00m\n\u001b[0;32m   1866\u001b[0m \u001b[39m# call is interrupted early and that the same instance is immediately\u001b[39;00m\n\u001b[0;32m   1867\u001b[0m \u001b[39m# re-used, this id will be used to prevent workers that were\u001b[39;00m\n\u001b[0;32m   1868\u001b[0m \u001b[39m# concurrently finalizing a task from the previous call to run the\u001b[39;00m\n\u001b[0;32m   1869\u001b[0m \u001b[39m# callback.\u001b[39;00m\n\u001b[0;32m   1870\u001b[0m \u001b[39mwith\u001b[39;00m \u001b[39mself\u001b[39m\u001b[39m.\u001b[39m_lock:\n",
            "File \u001b[1;32mc:\\Program Files\\Python311\\Lib\\site-packages\\joblib\\parallel.py:1792\u001b[0m, in \u001b[0;36mParallel._get_sequential_output\u001b[1;34m(self, iterable)\u001b[0m\n\u001b[0;32m   1790\u001b[0m \u001b[39mself\u001b[39m\u001b[39m.\u001b[39mn_dispatched_batches \u001b[39m+\u001b[39m\u001b[39m=\u001b[39m \u001b[39m1\u001b[39m\n\u001b[0;32m   1791\u001b[0m \u001b[39mself\u001b[39m\u001b[39m.\u001b[39mn_dispatched_tasks \u001b[39m+\u001b[39m\u001b[39m=\u001b[39m \u001b[39m1\u001b[39m\n\u001b[1;32m-> 1792\u001b[0m res \u001b[39m=\u001b[39m func(\u001b[39m*\u001b[39;49margs, \u001b[39m*\u001b[39;49m\u001b[39m*\u001b[39;49mkwargs)\n\u001b[0;32m   1793\u001b[0m \u001b[39mself\u001b[39m\u001b[39m.\u001b[39mn_completed_tasks \u001b[39m+\u001b[39m\u001b[39m=\u001b[39m \u001b[39m1\u001b[39m\n\u001b[0;32m   1794\u001b[0m \u001b[39mself\u001b[39m\u001b[39m.\u001b[39mprint_progress()\n",
            "File \u001b[1;32mc:\\Program Files\\Python311\\Lib\\site-packages\\sklearn\\utils\\parallel.py:127\u001b[0m, in \u001b[0;36m_FuncWrapper.__call__\u001b[1;34m(self, *args, **kwargs)\u001b[0m\n\u001b[0;32m    125\u001b[0m     config \u001b[39m=\u001b[39m {}\n\u001b[0;32m    126\u001b[0m \u001b[39mwith\u001b[39;00m config_context(\u001b[39m*\u001b[39m\u001b[39m*\u001b[39mconfig):\n\u001b[1;32m--> 127\u001b[0m     \u001b[39mreturn\u001b[39;00m \u001b[39mself\u001b[39;49m\u001b[39m.\u001b[39;49mfunction(\u001b[39m*\u001b[39;49margs, \u001b[39m*\u001b[39;49m\u001b[39m*\u001b[39;49mkwargs)\n",
            "File \u001b[1;32mc:\\Program Files\\Python311\\Lib\\site-packages\\sklearn\\model_selection\\_validation.py:754\u001b[0m, in \u001b[0;36m_fit_and_score\u001b[1;34m(estimator, X, y, scorer, train, test, verbose, parameters, fit_params, return_train_score, return_parameters, return_n_test_samples, return_times, return_estimator, split_progress, candidate_progress, error_score)\u001b[0m\n\u001b[0;32m    751\u001b[0m result[\u001b[39m\"\u001b[39m\u001b[39mfit_error\u001b[39m\u001b[39m\"\u001b[39m] \u001b[39m=\u001b[39m \u001b[39mNone\u001b[39;00m\n\u001b[0;32m    753\u001b[0m fit_time \u001b[39m=\u001b[39m time\u001b[39m.\u001b[39mtime() \u001b[39m-\u001b[39m start_time\n\u001b[1;32m--> 754\u001b[0m test_scores \u001b[39m=\u001b[39m _score(estimator, X_test, y_test, scorer, error_score)\n\u001b[0;32m    755\u001b[0m score_time \u001b[39m=\u001b[39m time\u001b[39m.\u001b[39mtime() \u001b[39m-\u001b[39m start_time \u001b[39m-\u001b[39m fit_time\n\u001b[0;32m    756\u001b[0m \u001b[39mif\u001b[39;00m return_train_score:\n",
            "File \u001b[1;32mc:\\Program Files\\Python311\\Lib\\site-packages\\sklearn\\model_selection\\_validation.py:813\u001b[0m, in \u001b[0;36m_score\u001b[1;34m(estimator, X_test, y_test, scorer, error_score)\u001b[0m\n\u001b[0;32m    811\u001b[0m         scores \u001b[39m=\u001b[39m scorer(estimator, X_test)\n\u001b[0;32m    812\u001b[0m     \u001b[39melse\u001b[39;00m:\n\u001b[1;32m--> 813\u001b[0m         scores \u001b[39m=\u001b[39m scorer(estimator, X_test, y_test)\n\u001b[0;32m    814\u001b[0m \u001b[39mexcept\u001b[39;00m \u001b[39mException\u001b[39;00m:\n\u001b[0;32m    815\u001b[0m     \u001b[39mif\u001b[39;00m \u001b[39misinstance\u001b[39m(scorer, _MultimetricScorer):\n\u001b[0;32m    816\u001b[0m         \u001b[39m# If `_MultimetricScorer` raises exception, the `error_score`\u001b[39;00m\n\u001b[0;32m    817\u001b[0m         \u001b[39m# parameter is equal to \"raise\".\u001b[39;00m\n",
            "File \u001b[1;32mc:\\Program Files\\Python311\\Lib\\site-packages\\sklearn\\metrics\\_scorer.py:527\u001b[0m, in \u001b[0;36m_PassthroughScorer.__call__\u001b[1;34m(self, estimator, *args, **kwargs)\u001b[0m\n\u001b[0;32m    525\u001b[0m \u001b[39mdef\u001b[39;00m \u001b[39m__call__\u001b[39m(\u001b[39mself\u001b[39m, estimator, \u001b[39m*\u001b[39margs, \u001b[39m*\u001b[39m\u001b[39m*\u001b[39mkwargs):\n\u001b[0;32m    526\u001b[0m \u001b[39m    \u001b[39m\u001b[39m\"\"\"Method that wraps estimator.score\"\"\"\u001b[39;00m\n\u001b[1;32m--> 527\u001b[0m     \u001b[39mreturn\u001b[39;00m estimator\u001b[39m.\u001b[39;49mscore(\u001b[39m*\u001b[39;49margs, \u001b[39m*\u001b[39;49m\u001b[39m*\u001b[39;49mkwargs)\n",
            "File \u001b[1;32mc:\\Program Files\\Python311\\Lib\\site-packages\\sklearn\\base.py:705\u001b[0m, in \u001b[0;36mClassifierMixin.score\u001b[1;34m(self, X, y, sample_weight)\u001b[0m\n\u001b[0;32m    680\u001b[0m \u001b[39m\u001b[39m\u001b[39m\"\"\"\u001b[39;00m\n\u001b[0;32m    681\u001b[0m \u001b[39mReturn the mean accuracy on the given test data and labels.\u001b[39;00m\n\u001b[0;32m    682\u001b[0m \n\u001b[1;32m   (...)\u001b[0m\n\u001b[0;32m    701\u001b[0m \u001b[39m    Mean accuracy of ``self.predict(X)`` w.r.t. `y`.\u001b[39;00m\n\u001b[0;32m    702\u001b[0m \u001b[39m\"\"\"\u001b[39;00m\n\u001b[0;32m    703\u001b[0m \u001b[39mfrom\u001b[39;00m \u001b[39m.\u001b[39;00m\u001b[39mmetrics\u001b[39;00m \u001b[39mimport\u001b[39;00m accuracy_score\n\u001b[1;32m--> 705\u001b[0m \u001b[39mreturn\u001b[39;00m accuracy_score(y, \u001b[39mself\u001b[39;49m\u001b[39m.\u001b[39;49mpredict(X), sample_weight\u001b[39m=\u001b[39msample_weight)\n",
            "\u001b[1;32mc:\\Users\\geogd\\OneDrive - Estudiantes ITCR\\Documentos\\TEC\\2023\\II Semestre\\Reconocimiento de Patrones\\Proyecto 1\\P1_Patrones\\main_project.ipynb Cell 16\u001b[0m line \u001b[0;36m5\n\u001b[0;32m     <a href='vscode-notebook-cell:/c%3A/Users/geogd/OneDrive%20-%20Estudiantes%20ITCR/Documentos/TEC/2023/II%20Semestre/Reconocimiento%20de%20Patrones/Proyecto%201/P1_Patrones/main_project.ipynb#X21sZmlsZQ%3D%3D?line=52'>53</a>\u001b[0m     \u001b[39mreturn\u001b[39;00m y_pred\n\u001b[0;32m     <a href='vscode-notebook-cell:/c%3A/Users/geogd/OneDrive%20-%20Estudiantes%20ITCR/Documentos/TEC/2023/II%20Semestre/Reconocimiento%20de%20Patrones/Proyecto%201/P1_Patrones/main_project.ipynb#X21sZmlsZQ%3D%3D?line=54'>55</a>\u001b[0m \u001b[39mif\u001b[39;00m \u001b[39mself\u001b[39m\u001b[39m.\u001b[39mweights \u001b[39m==\u001b[39m \u001b[39m'\u001b[39m\u001b[39mdistance\u001b[39m\u001b[39m'\u001b[39m:\n\u001b[1;32m---> <a href='vscode-notebook-cell:/c%3A/Users/geogd/OneDrive%20-%20Estudiantes%20ITCR/Documentos/TEC/2023/II%20Semestre/Reconocimiento%20de%20Patrones/Proyecto%201/P1_Patrones/main_project.ipynb#X21sZmlsZQ%3D%3D?line=55'>56</a>\u001b[0m     distances, neighbors \u001b[39m=\u001b[39m \u001b[39mself\u001b[39;49m\u001b[39m.\u001b[39;49mkneighbors(X_test, return_distance\u001b[39m=\u001b[39;49m\u001b[39mTrue\u001b[39;49;00m)\n\u001b[0;32m     <a href='vscode-notebook-cell:/c%3A/Users/geogd/OneDrive%20-%20Estudiantes%20ITCR/Documentos/TEC/2023/II%20Semestre/Reconocimiento%20de%20Patrones/Proyecto%201/P1_Patrones/main_project.ipynb#X21sZmlsZQ%3D%3D?line=56'>57</a>\u001b[0m     y_pred \u001b[39m=\u001b[39m np\u001b[39m.\u001b[39marray([\n\u001b[0;32m     <a href='vscode-notebook-cell:/c%3A/Users/geogd/OneDrive%20-%20Estudiantes%20ITCR/Documentos/TEC/2023/II%20Semestre/Reconocimiento%20de%20Patrones/Proyecto%201/P1_Patrones/main_project.ipynb#X21sZmlsZQ%3D%3D?line=57'>58</a>\u001b[0m         np\u001b[39m.\u001b[39margmax(np\u001b[39m.\u001b[39mbincount(\u001b[39mself\u001b[39m\u001b[39m.\u001b[39my_train[neighbor], \u001b[39m1\u001b[39m \u001b[39m/\u001b[39m (distances[i] \u001b[39m+\u001b[39m \u001b[39m1e-6\u001b[39m)))\n\u001b[0;32m     <a href='vscode-notebook-cell:/c%3A/Users/geogd/OneDrive%20-%20Estudiantes%20ITCR/Documentos/TEC/2023/II%20Semestre/Reconocimiento%20de%20Patrones/Proyecto%201/P1_Patrones/main_project.ipynb#X21sZmlsZQ%3D%3D?line=58'>59</a>\u001b[0m         \u001b[39mfor\u001b[39;00m i, neighbor \u001b[39min\u001b[39;00m \u001b[39menumerate\u001b[39m(neighbors)\n\u001b[0;32m     <a href='vscode-notebook-cell:/c%3A/Users/geogd/OneDrive%20-%20Estudiantes%20ITCR/Documentos/TEC/2023/II%20Semestre/Reconocimiento%20de%20Patrones/Proyecto%201/P1_Patrones/main_project.ipynb#X21sZmlsZQ%3D%3D?line=59'>60</a>\u001b[0m     ])\n\u001b[0;32m     <a href='vscode-notebook-cell:/c%3A/Users/geogd/OneDrive%20-%20Estudiantes%20ITCR/Documentos/TEC/2023/II%20Semestre/Reconocimiento%20de%20Patrones/Proyecto%201/P1_Patrones/main_project.ipynb#X21sZmlsZQ%3D%3D?line=60'>61</a>\u001b[0m     \u001b[39mself\u001b[39m\u001b[39m.\u001b[39mprediction \u001b[39m=\u001b[39m y_pred\n",
            "\u001b[1;32mc:\\Users\\geogd\\OneDrive - Estudiantes ITCR\\Documentos\\TEC\\2023\\II Semestre\\Reconocimiento de Patrones\\Proyecto 1\\P1_Patrones\\main_project.ipynb Cell 16\u001b[0m line \u001b[0;36m2\n\u001b[0;32m     <a href='vscode-notebook-cell:/c%3A/Users/geogd/OneDrive%20-%20Estudiantes%20ITCR/Documentos/TEC/2023/II%20Semestre/Reconocimiento%20de%20Patrones/Proyecto%201/P1_Patrones/main_project.ipynb#X21sZmlsZQ%3D%3D?line=24'>25</a>\u001b[0m \u001b[39mfor\u001b[39;00m row \u001b[39min\u001b[39;00m point_dist:\n\u001b[0;32m     <a href='vscode-notebook-cell:/c%3A/Users/geogd/OneDrive%20-%20Estudiantes%20ITCR/Documentos/TEC/2023/II%20Semestre/Reconocimiento%20de%20Patrones/Proyecto%201/P1_Patrones/main_project.ipynb#X21sZmlsZQ%3D%3D?line=25'>26</a>\u001b[0m     enum_neigh \u001b[39m=\u001b[39m \u001b[39menumerate\u001b[39m(row)\n\u001b[1;32m---> <a href='vscode-notebook-cell:/c%3A/Users/geogd/OneDrive%20-%20Estudiantes%20ITCR/Documentos/TEC/2023/II%20Semestre/Reconocimiento%20de%20Patrones/Proyecto%201/P1_Patrones/main_project.ipynb#X21sZmlsZQ%3D%3D?line=26'>27</a>\u001b[0m     sorted_neigh \u001b[39m=\u001b[39m \u001b[39msorted\u001b[39m(enum_neigh,\n\u001b[0;32m     <a href='vscode-notebook-cell:/c%3A/Users/geogd/OneDrive%20-%20Estudiantes%20ITCR/Documentos/TEC/2023/II%20Semestre/Reconocimiento%20de%20Patrones/Proyecto%201/P1_Patrones/main_project.ipynb#X21sZmlsZQ%3D%3D?line=27'>28</a>\u001b[0m                           key\u001b[39m=\u001b[39m\u001b[39mlambda\u001b[39;00m x: x[\u001b[39m1\u001b[39m])[:\u001b[39mself\u001b[39m\u001b[39m.\u001b[39mn_neighbors]\n\u001b[0;32m     <a href='vscode-notebook-cell:/c%3A/Users/geogd/OneDrive%20-%20Estudiantes%20ITCR/Documentos/TEC/2023/II%20Semestre/Reconocimiento%20de%20Patrones/Proyecto%201/P1_Patrones/main_project.ipynb#X21sZmlsZQ%3D%3D?line=29'>30</a>\u001b[0m     ind_list \u001b[39m=\u001b[39m [tup[\u001b[39m0\u001b[39m] \u001b[39mfor\u001b[39;00m tup \u001b[39min\u001b[39;00m sorted_neigh]\n\u001b[0;32m     <a href='vscode-notebook-cell:/c%3A/Users/geogd/OneDrive%20-%20Estudiantes%20ITCR/Documentos/TEC/2023/II%20Semestre/Reconocimiento%20de%20Patrones/Proyecto%201/P1_Patrones/main_project.ipynb#X21sZmlsZQ%3D%3D?line=30'>31</a>\u001b[0m     dist_list \u001b[39m=\u001b[39m [tup[\u001b[39m1\u001b[39m] \u001b[39mfor\u001b[39;00m tup \u001b[39min\u001b[39;00m sorted_neigh]\n",
            "\u001b[1;32mc:\\Users\\geogd\\OneDrive - Estudiantes ITCR\\Documentos\\TEC\\2023\\II Semestre\\Reconocimiento de Patrones\\Proyecto 1\\P1_Patrones\\main_project.ipynb Cell 16\u001b[0m line \u001b[0;36m2\n\u001b[0;32m     <a href='vscode-notebook-cell:/c%3A/Users/geogd/OneDrive%20-%20Estudiantes%20ITCR/Documentos/TEC/2023/II%20Semestre/Reconocimiento%20de%20Patrones/Proyecto%201/P1_Patrones/main_project.ipynb#X21sZmlsZQ%3D%3D?line=24'>25</a>\u001b[0m \u001b[39mfor\u001b[39;00m row \u001b[39min\u001b[39;00m point_dist:\n\u001b[0;32m     <a href='vscode-notebook-cell:/c%3A/Users/geogd/OneDrive%20-%20Estudiantes%20ITCR/Documentos/TEC/2023/II%20Semestre/Reconocimiento%20de%20Patrones/Proyecto%201/P1_Patrones/main_project.ipynb#X21sZmlsZQ%3D%3D?line=25'>26</a>\u001b[0m     enum_neigh \u001b[39m=\u001b[39m \u001b[39menumerate\u001b[39m(row)\n\u001b[0;32m     <a href='vscode-notebook-cell:/c%3A/Users/geogd/OneDrive%20-%20Estudiantes%20ITCR/Documentos/TEC/2023/II%20Semestre/Reconocimiento%20de%20Patrones/Proyecto%201/P1_Patrones/main_project.ipynb#X21sZmlsZQ%3D%3D?line=26'>27</a>\u001b[0m     sorted_neigh \u001b[39m=\u001b[39m \u001b[39msorted\u001b[39m(enum_neigh,\n\u001b[1;32m---> <a href='vscode-notebook-cell:/c%3A/Users/geogd/OneDrive%20-%20Estudiantes%20ITCR/Documentos/TEC/2023/II%20Semestre/Reconocimiento%20de%20Patrones/Proyecto%201/P1_Patrones/main_project.ipynb#X21sZmlsZQ%3D%3D?line=27'>28</a>\u001b[0m                           key\u001b[39m=\u001b[39m\u001b[39mlambda\u001b[39;00m x: x[\u001b[39m1\u001b[39m])[:\u001b[39mself\u001b[39m\u001b[39m.\u001b[39mn_neighbors]\n\u001b[0;32m     <a href='vscode-notebook-cell:/c%3A/Users/geogd/OneDrive%20-%20Estudiantes%20ITCR/Documentos/TEC/2023/II%20Semestre/Reconocimiento%20de%20Patrones/Proyecto%201/P1_Patrones/main_project.ipynb#X21sZmlsZQ%3D%3D?line=29'>30</a>\u001b[0m     ind_list \u001b[39m=\u001b[39m [tup[\u001b[39m0\u001b[39m] \u001b[39mfor\u001b[39;00m tup \u001b[39min\u001b[39;00m sorted_neigh]\n\u001b[0;32m     <a href='vscode-notebook-cell:/c%3A/Users/geogd/OneDrive%20-%20Estudiantes%20ITCR/Documentos/TEC/2023/II%20Semestre/Reconocimiento%20de%20Patrones/Proyecto%201/P1_Patrones/main_project.ipynb#X21sZmlsZQ%3D%3D?line=30'>31</a>\u001b[0m     dist_list \u001b[39m=\u001b[39m [tup[\u001b[39m1\u001b[39m] \u001b[39mfor\u001b[39;00m tup \u001b[39min\u001b[39;00m sorted_neigh]\n",
            "\u001b[1;31mKeyboardInterrupt\u001b[0m: "
          ]
        }
      ],
      "source": [
        "distance_classifier_3 = KNearestNeighbors(WAX_train, WAy_train, n_neighbors=3, weights='distance')\n",
        "distance_classifier_5 = KNearestNeighbors(WAX_train, WAy_train, n_neighbors=5, weights='distance')\n",
        "distance_classifier_7 = KNearestNeighbors(WAX_train, WAy_train, n_neighbors=7, weights='distance')\n",
        "\n",
        "distance_classifier_3.predict(WAX_test)\n",
        "distance_classifier_5.predict(WAX_test)\n",
        "distance_classifier_7.predict(WAX_test)\n",
        "\n",
        "\n",
        "\n",
        "\n"
      ]
    },
    {
      "cell_type": "markdown",
      "metadata": {
        "id": "Cme4Fh_x8rbW"
      },
      "source": [
        "# **Métricas KNN - WeatherAUS**"
      ]
    },
    {
      "cell_type": "code",
      "execution_count": null,
      "metadata": {
        "id": "CWm5NxLMSS4g"
      },
      "outputs": [],
      "source": [
        "accuracy = [distance_classifier_3.accuracy(WAy_test)[0], distance_classifier_5.accuracy(WAy_test)[0], distance_classifier_7.accuracy(WAy_test)[0]]\n",
        "#precision = distance_classifier.precision(WAy_test)\n",
        "#recall = distance_classifier.recall(WAy_test)\n",
        "#fonescore = distance_classifier.fonescore(WAy_test)\n",
        "\n",
        "print(\"Accuracy: \"+str(accuracy))\n",
        "#print(\"Precision: \"+str(precision[0]))\n",
        "#print(\"Recall: \"+str(recall[0]))\n",
        "#print(\"F1 Score: \"+str(fonescore[0]))\n"
      ]
    },
    {
      "cell_type": "markdown",
      "metadata": {
        "id": "pZ0xKby388p6"
      },
      "source": [
        "# **Gridsearch KNN - Notas**"
      ]
    },
    {
      "cell_type": "code",
      "execution_count": null,
      "metadata": {
        "id": "NsG0mWbx-M66"
      },
      "outputs": [],
      "source": []
    },
    {
      "cell_type": "markdown",
      "metadata": {
        "id": "WskaH7-c-UeP"
      },
      "source": [
        "# **Métricas KNN - Notas**"
      ]
    },
    {
      "cell_type": "code",
      "execution_count": null,
      "metadata": {
        "id": "FybalUOG-ZW-"
      },
      "outputs": [],
      "source": []
    },
    {
      "cell_type": "markdown",
      "metadata": {
        "id": "Xpnv9I0H9ubD"
      },
      "source": [
        "# **Gridsearch KNN - Escogido**"
      ]
    },
    {
      "cell_type": "code",
      "execution_count": null,
      "metadata": {
        "id": "mciWJZF--N-z"
      },
      "outputs": [],
      "source": []
    },
    {
      "cell_type": "markdown",
      "metadata": {
        "id": "YvwRuFtT-al_"
      },
      "source": [
        "# **Métricas KNN - Escogido**"
      ]
    },
    {
      "cell_type": "code",
      "execution_count": null,
      "metadata": {
        "id": "k7_g2mCx-c-H"
      },
      "outputs": [],
      "source": []
    },
    {
      "cell_type": "markdown",
      "metadata": {
        "id": "l4_FWhcI9xWd"
      },
      "source": [
        "# **Gridsearch Logit - WeatherAUS**"
      ]
    },
    {
      "cell_type": "code",
      "execution_count": null,
      "metadata": {
        "id": "HhyT0OOa-Obd"
      },
      "outputs": [],
      "source": []
    },
    {
      "cell_type": "markdown",
      "metadata": {
        "id": "aAFp1Fnm-eLl"
      },
      "source": [
        "# **Métricas Logit - WeatherAUS**"
      ]
    },
    {
      "cell_type": "code",
      "execution_count": null,
      "metadata": {
        "id": "NVCNv2Pw-hhh"
      },
      "outputs": [],
      "source": []
    },
    {
      "cell_type": "markdown",
      "metadata": {
        "id": "a3aHXXl393Zs"
      },
      "source": [
        "# **Gridsearch Logit - Notas**"
      ]
    },
    {
      "cell_type": "code",
      "execution_count": null,
      "metadata": {
        "id": "rQmPrFQ4-O33"
      },
      "outputs": [],
      "source": []
    },
    {
      "cell_type": "markdown",
      "metadata": {
        "id": "58R2soj5-i3i"
      },
      "source": [
        "# **Métricas Logit - Notas**"
      ]
    },
    {
      "cell_type": "code",
      "execution_count": null,
      "metadata": {
        "id": "dN77_Pb8-lIE"
      },
      "outputs": [],
      "source": []
    },
    {
      "cell_type": "markdown",
      "metadata": {
        "id": "Uh0EtIjd95sA"
      },
      "source": [
        "# **Gridsearch Logit - Escogido**"
      ]
    },
    {
      "cell_type": "code",
      "execution_count": null,
      "metadata": {
        "id": "53w5AtQz-PlT"
      },
      "outputs": [],
      "source": []
    },
    {
      "cell_type": "markdown",
      "metadata": {
        "id": "eCLSXpjj-map"
      },
      "source": [
        "# **Métricas Logit - Escogido**"
      ]
    },
    {
      "cell_type": "code",
      "execution_count": null,
      "metadata": {
        "id": "2FDU3hwG-oOL"
      },
      "outputs": [],
      "source": []
    },
    {
      "cell_type": "markdown",
      "metadata": {
        "id": "LEq6pW-G99k4"
      },
      "source": [
        "# **Gridsearch Árbol - WeatherAUS**"
      ]
    },
    {
      "cell_type": "code",
      "execution_count": null,
      "metadata": {
        "id": "ihhDiZ6u-QLe"
      },
      "outputs": [],
      "source": []
    },
    {
      "cell_type": "markdown",
      "metadata": {
        "id": "8WXBClly-qlb"
      },
      "source": [
        "# **Métricas Árbol - WeatherAUS**"
      ]
    },
    {
      "cell_type": "code",
      "execution_count": null,
      "metadata": {
        "id": "ntgAaayP-tpP"
      },
      "outputs": [],
      "source": []
    },
    {
      "cell_type": "markdown",
      "metadata": {
        "id": "0X1-TL26-ArD"
      },
      "source": [
        "# **Gridsearch Árbol - Notas**"
      ]
    },
    {
      "cell_type": "code",
      "execution_count": null,
      "metadata": {
        "id": "wfFkwy4h-Qxj"
      },
      "outputs": [],
      "source": []
    },
    {
      "cell_type": "markdown",
      "metadata": {
        "id": "3W5EyWrT-uXn"
      },
      "source": [
        "# **Métricas Árbol - Notas**"
      ]
    },
    {
      "cell_type": "code",
      "execution_count": null,
      "metadata": {
        "id": "ySMN3ksQ-xaa"
      },
      "outputs": [],
      "source": []
    },
    {
      "cell_type": "markdown",
      "metadata": {
        "id": "3xhZroOx-Bhc"
      },
      "source": [
        "# **Gridsearch Árbol - Escogido**"
      ]
    },
    {
      "cell_type": "code",
      "execution_count": null,
      "metadata": {
        "id": "c6FpHXsJ-Rm9"
      },
      "outputs": [],
      "source": []
    },
    {
      "cell_type": "markdown",
      "metadata": {
        "id": "lPSVtBhX-yVl"
      },
      "source": [
        "# **Métricas Árbol - Escogido**"
      ]
    },
    {
      "cell_type": "code",
      "execution_count": null,
      "metadata": {
        "id": "Vsn0Bpmz-0Ft"
      },
      "outputs": [],
      "source": []
    }
  ],
  "metadata": {
    "colab": {
      "provenance": []
    },
    "kernelspec": {
      "display_name": "Python 3 (ipykernel)",
      "language": "python",
      "name": "python3"
    },
    "language_info": {
      "codemirror_mode": {
        "name": "ipython",
        "version": 3
      },
      "file_extension": ".py",
      "mimetype": "text/x-python",
      "name": "python",
      "nbconvert_exporter": "python",
      "pygments_lexer": "ipython3",
      "version": "3.11.5"
    }
  },
  "nbformat": 4,
  "nbformat_minor": 0
}
