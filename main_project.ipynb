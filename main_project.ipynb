{
  "cells": [
    {
      "cell_type": "markdown",
      "source": [
        "# **Imports**"
      ],
      "metadata": {
        "id": "c7Xr-klg7Rle"
      }
    },
    {
      "cell_type": "code",
      "execution_count": null,
      "metadata": {
        "id": "_cvA4Fch4YEV"
      },
      "outputs": [],
      "source": [
        "import numpy as np\n",
        "import pandas as pd\n",
        "import time\n",
        "import sklearn.datasets as datasets\n",
        "from sklearn.model_selection import train_test_split\n",
        "from sklearn.neighbors import KNeighborsClassifier\n",
        "from sklearn.impute import SimpleImputer\n",
        "from sklearn.model_selection import GridSearchCV\n",
        "from sklearn.model_selection import train_test_split\n",
        "from sklearn.base import BaseEstimator, ClassifierMixin\n",
        "from sklearn.model_selection import StratifiedKFold\n"
      ]
    },
    {
      "cell_type": "markdown",
      "source": [
        "# **Modelo KNN**"
      ],
      "metadata": {
        "id": "6AVB7c-O7bET"
      }
    },
    {
      "cell_type": "code",
      "execution_count": null,
      "metadata": {
        "id": "ErpJFF5J4YEZ"
      },
      "outputs": [],
      "source": [
        "from pickle import NONE\n",
        "class KNearestNeighbors(BaseEstimator, ClassifierMixin):\n",
        "    def __init__(self, X_train, y_train, n_neighbors=5, weights='uniform'):\n",
        "\n",
        "        self.X_train = X_train\n",
        "        self.y_train = y_train\n",
        "\n",
        "        self.n_neighbors = n_neighbors\n",
        "        self.weights = weights\n",
        "\n",
        "        self.n_classes = 10\n",
        "        self.prediction = NONE\n",
        "\n",
        "    def euclidian_distance(self, a, b):\n",
        "        return np.sqrt(np.sum((a - b)**2, axis=1))\n",
        "\n",
        "    def kneighbors(self, X_test, return_distance=False):\n",
        "\n",
        "        dist = []\n",
        "        neigh_ind = []\n",
        "        point_dist = []\n",
        "        for x_test in X_test:\n",
        "            point_dist += [ self.euclidian_distance(x_test, self.X_train) ]\n",
        "\n",
        "        for row in point_dist:\n",
        "            enum_neigh = enumerate(row)\n",
        "            sorted_neigh = sorted(enum_neigh,\n",
        "                                  key=lambda x: x[1])[:self.n_neighbors]\n",
        "\n",
        "            ind_list = [tup[0] for tup in sorted_neigh]\n",
        "            dist_list = [tup[1] for tup in sorted_neigh]\n",
        "\n",
        "            dist.append(dist_list)\n",
        "            neigh_ind.append(ind_list)\n",
        "\n",
        "        if return_distance:\n",
        "            return np.array(dist), np.array(neigh_ind)\n",
        "\n",
        "        return np.array(neigh_ind)\n",
        "\n",
        "    def fit(self, X_train, y_train):\n",
        "        self.X_train = X_train\n",
        "        self.y_train = y_train\n",
        "\n",
        "    def predict(self, X_test):\n",
        "\n",
        "        if self.weights == 'uniform':\n",
        "            neighbors = self.kneighbors(X_test)\n",
        "            y_pred = np.array([\n",
        "                np.argmax(np.bincount(self.y_train[neighbor]))\n",
        "                for neighbor in neighbors\n",
        "            ])\n",
        "            return y_pred\n",
        "\n",
        "        if self.weights == 'distance':\n",
        "            distances, neighbors = self.kneighbors(X_test, return_distance=True)\n",
        "            y_pred = np.array([\n",
        "                np.argmax(np.bincount(self.y_train[neighbor], 1 / (distances[i] + 1e-6)))\n",
        "                for i, neighbor in enumerate(neighbors)\n",
        "            ])\n",
        "            self.prediction = y_pred\n",
        "            return y_pred\n",
        "\n",
        "    def accuracy(self,y_test):\n",
        "        y_pred = self.prediction\n",
        "        return float(sum(y_pred == y_test)) / float(len(y_test)), y_pred, y_test\n",
        "\n",
        "    def precision(self,y_test):\n",
        "        y_pred = self.prediction\n",
        "        return float(sum(y_pred[y_pred == 1.0] and y_pred == y_test)) / float(sum(y_pred[y_pred == 1.0] and y_pred != y_test)), y_pred, y_test\n",
        "\n",
        "    def recall(self,y_test):\n",
        "        y_pred = self.prediction\n",
        "        return float(sum(y_pred[y_pred == 1.0] and y_pred == y_test)) / float(sum(y_pred[y_pred == 0.0] and y_pred != y_test)), y_pred, y_test\n",
        "\n",
        "    def fonescore(self,y_test):\n",
        "        recall = self.recall(y_test)\n",
        "        precision = self.precision(y_test)\n",
        "        return float(2*recall*precision) / float(precision + recall), y_pred, y_test\n",
        "\n",
        "    def AUC(self,y_test):\n",
        "        y_pred = self.prediction\n",
        "        return float(sum(y_pred == y_test)) / float(len(y_test)), y_pred, y_test\n",
        "\n",
        "    def ROC(self,y_test):\n",
        "        y_pred = self.prediction\n",
        "        return float(sum(y_pred == y_test)) / float(len(y_test)), y_pred, y_test\n"
      ]
    },
    {
      "cell_type": "markdown",
      "source": [
        "# **Modelo Árbol de Decisión**"
      ],
      "metadata": {
        "id": "MDHvRHen7gsa"
      }
    },
    {
      "cell_type": "code",
      "source": [],
      "metadata": {
        "id": "SqVapsHa7pka"
      },
      "execution_count": null,
      "outputs": []
    },
    {
      "cell_type": "markdown",
      "source": [
        "# **Modelo Regresión Logística**"
      ],
      "metadata": {
        "id": "WjBd2eXg7qRy"
      }
    },
    {
      "cell_type": "code",
      "source": [],
      "metadata": {
        "id": "98D68yd77xPh"
      },
      "execution_count": null,
      "outputs": []
    },
    {
      "cell_type": "markdown",
      "metadata": {
        "id": "VbxL3-XSlzGK"
      },
      "source": [
        "# **Dataset WeatherAUS**"
      ]
    },
    {
      "cell_type": "code",
      "execution_count": null,
      "metadata": {
        "id": "_3bxYqulmjLN"
      },
      "outputs": [],
      "source": [
        "dataset_path = \"weatherAUS.csv\"\n",
        "dataset = pd.read_csv(dataset_path)\n",
        "\n",
        "#Eliminemos las filas que no tengan un RainTomorrow definido\n",
        "dataset = dataset.dropna(subset=[\"RainTomorrow\"])\n",
        "\n",
        "#Tomemos sólo una parte de los datos para el modelado\n",
        "dataset_shuffle = dataset.sample(frac=1, random_state=45)\n",
        "dataset = dataset_shuffle.head(50000)\n",
        "#print(len(X))\n",
        "dataset = dataset.reset_index(drop=True)\n",
        "\n",
        "# Eliminamos algunos features de texto que no representan mayor diferencia al realizar la aproximación y obteneos los datos y el target\n",
        "X = dataset.drop([\"RainTomorrow\", \"Date\", \"WindDir9am\", \"WindDir3pm\", \"WindGustDir\"], axis=1)\n",
        "y = dataset[\"RainTomorrow\"].replace({'No': 0, 'Yes': 1})\n",
        "\n",
        "#Reemplazamos RainToday por números y las ubicaciones por números, guardando la referencia en location_number\n",
        "X[\"RainToday\"] = X[\"RainToday\"].replace({'No': 0.0, 'Yes': 1.0})\n",
        "unique_classes = X[\"Location\"].unique()\n",
        "location_number = {cls: idx for idx, cls in enumerate(unique_classes)}\n",
        "X[\"Location\"] = X[\"Location\"].replace(location_number)\n",
        "\n",
        "#Normalicemos los datos\n",
        "min_val = X.min(axis=0)\n",
        "max_val = X.max(axis=0)\n",
        "X = (X - min_val) / (max_val - min_val)\n",
        "\n",
        "#De los features de Wind vamos a quitar los más relacionados, al revisar los datos se ve que el WindGustSpeed está relacionado\n",
        "#a los otros dos features, por lo que lo removeremos.\n",
        "windCov = X[[\"WindGustSpeed\", \"WindSpeed9am\", \"WindSpeed3pm\"]].cov()\n",
        "#print(windCov)\n",
        "X = X.drop(\"WindGustSpeed\", axis=1)\n",
        "\n",
        "#Vamos a analizar los feature humidity y ver cómo se relacionan, no vamos a eliminar ninguno pues el nivel de relación no es lo suficientemente alto\n",
        "humidCov = X[[\"Humidity9am\", \"Humidity3pm\"]].cov()\n",
        "#print(humidCov)\n",
        "\n",
        "#Vamos a analizar los feature pressure y ver cómo se relacionan, note que son altamente relacionados, por lo que vamos a eliminar uno arbitrariamente\n",
        "pressureCov = X[[\"Pressure9am\", \"Pressure3pm\"]].cov()\n",
        "#print(pressureCov)\n",
        "X = X.drop(\"Pressure9am\", axis=1)\n",
        "\n",
        "#Vamos a analizar los feature cloud y ver cómo se relacionan, no vamos a eliminar ninguno pues el nivel de relación no es lo suficientemente alto\n",
        "cloudCov = X[[\"Cloud9am\", \"Cloud3pm\"]].cov()\n",
        "#print(cloudCov)\n",
        "\n",
        "#Vamos a analizar los feature temp y ver cómo se relacionan, note que son altamente relacionados, por lo que vamos a eliminar el de las 9am como se hizo con pressure\n",
        "tempCov = X[[\"Temp9am\", \"Temp3pm\"]].cov()\n",
        "#print(tempCov)\n",
        "X = X.drop(\"Temp9am\", axis=1)\n",
        "\n",
        "#Vamos a analizar si hay otros features altamente relacionados\n",
        "#Note que MaxTemp está altamente relacionada con Temp3pm por lo que eliminaremos Temp3pm\n",
        "XCov = X.cov()\n",
        "#print(XCov)\n",
        "X = X.drop(\"Temp3pm\", axis=1)\n",
        "\n",
        "#print(len(X))\n",
        "\n",
        "#Vamos a reemplazar los nan con valores medios para que Sklearn y nuestro modelo puedan aceptarlos\n",
        "X = X.to_numpy()\n",
        "y = y.to_numpy()\n",
        "WAX_train, WAX_test, WAy_train, WAy_test = train_test_split(X, y, test_size=0.15, random_state=45)\n",
        "\n",
        "mean_train = np.nanmean(WAX_train)\n",
        "mean_test = np.nanmean(WAX_test)\n",
        "\n",
        "WAX_train[np.isnan(WAX_train)] = mean_train\n",
        "WAX_test[np.isnan(WAX_test)] = mean_test\n",
        "\n"
      ]
    },
    {
      "cell_type": "markdown",
      "source": [
        "# **Dataset Notas del Curso**"
      ],
      "metadata": {
        "id": "iPF0Y7Kr8Foc"
      }
    },
    {
      "cell_type": "code",
      "source": [],
      "metadata": {
        "id": "evnallJN8LqU"
      },
      "execution_count": null,
      "outputs": []
    },
    {
      "cell_type": "markdown",
      "source": [
        "# **Dataset escogido**"
      ],
      "metadata": {
        "id": "l1bzbDUb8MKl"
      }
    },
    {
      "cell_type": "code",
      "source": [],
      "metadata": {
        "id": "JpNMsZce8Vz0"
      },
      "execution_count": null,
      "outputs": []
    },
    {
      "cell_type": "markdown",
      "source": [
        "# **Gridsearch KNN - WeatherAUS**"
      ],
      "metadata": {
        "id": "4oBhIB828XYV"
      }
    },
    {
      "cell_type": "code",
      "execution_count": null,
      "metadata": {
        "id": "CDwWcNF3F5qh"
      },
      "outputs": [],
      "source": [
        "param_grid = {\n",
        "    'X_train': [WAX_train],\n",
        "    'y_train': [WAy_train],\n",
        "    'n_neighbors': [5, 10, 15, 20, 25],\n",
        "    'weights': ['distance']\n",
        "}\n",
        "\n",
        "distance_classifier = KNearestNeighbors(X_train, y_train, n_neighbors=5, weights='distance')\n",
        "\n",
        "grid_search = GridSearchCV(distance_classifier, param_grid, cv=StratifiedKFold(n_splits=5))\n",
        "\n",
        "# búsqueda de hiperparámetros en el conjunto de entrenamiento\n",
        "grid_search.fit(WAX_train, WAy_train)\n",
        "\n",
        "# mejores hiperparámetros encontrados\n",
        "best_params = grid_search.best_params_\n",
        "print(\"Mejores hiperparámetros encontrados:\")\n",
        "print(best_params)\n",
        "\n",
        "# mejor modelo entrenado\n",
        "best_model = grid_search.best_estimator_\n",
        "best_model.fit(WAX_train, WAy_train)\n",
        "best_model.predict(WAX_test)\n",
        "accuracy = best_model.accuracy(WAy_test)\n",
        "\n",
        "print(accuracy)\n"
      ]
    },
    {
      "cell_type": "code",
      "source": [
        "distance_classifier = KNearestNeighbors(WAX_train, WAy_train, n_neighbors=5, weights='distance')\n",
        "\n",
        "distance_classifier.predict(WAX_test)\n"
      ],
      "metadata": {
        "id": "Ux1Iaiw6HBbd",
        "colab": {
          "base_uri": "https://localhost:8080/"
        },
        "outputId": "6c706661-1d38-4158-d145-eef9f26b0bbc"
      },
      "execution_count": null,
      "outputs": [
        {
          "output_type": "execute_result",
          "data": {
            "text/plain": [
              "array([1, 0, 0, ..., 0, 0, 0])"
            ]
          },
          "metadata": {},
          "execution_count": 12
        }
      ]
    },
    {
      "cell_type": "markdown",
      "source": [
        "# **Métricas KNN - WeatherAUS**"
      ],
      "metadata": {
        "id": "Cme4Fh_x8rbW"
      }
    },
    {
      "cell_type": "code",
      "source": [
        "accuracy = distance_classifier.accuracy(WAy_test)\n",
        "precision = distance_classifier.precision(WAy_test)\n",
        "recall = distance_classifier.recall(WAy_test)\n",
        "fonescore = distance_classifier.fonescore(WAy_test)\n",
        "\n",
        "print(\"Accuracy: \"+str(accuracy[0]))\n",
        "print(\"Precision: \"+str(precision[0]))\n",
        "print(\"Recall: \"+str(recall[0]))\n",
        "print(\"F1 Score: \"+str(fonescore[0]))\n"
      ],
      "metadata": {
        "id": "CWm5NxLMSS4g"
      },
      "execution_count": null,
      "outputs": []
    },
    {
      "cell_type": "markdown",
      "source": [
        "# **Gridsearch KNN - Notas**"
      ],
      "metadata": {
        "id": "pZ0xKby388p6"
      }
    },
    {
      "cell_type": "code",
      "source": [],
      "metadata": {
        "id": "NsG0mWbx-M66"
      },
      "execution_count": null,
      "outputs": []
    },
    {
      "cell_type": "markdown",
      "source": [
        "# **Métricas KNN - Notas**"
      ],
      "metadata": {
        "id": "WskaH7-c-UeP"
      }
    },
    {
      "cell_type": "code",
      "source": [],
      "metadata": {
        "id": "FybalUOG-ZW-"
      },
      "execution_count": null,
      "outputs": []
    },
    {
      "cell_type": "markdown",
      "source": [
        "# **Gridsearch KNN - Escogido**"
      ],
      "metadata": {
        "id": "Xpnv9I0H9ubD"
      }
    },
    {
      "cell_type": "code",
      "source": [],
      "metadata": {
        "id": "mciWJZF--N-z"
      },
      "execution_count": null,
      "outputs": []
    },
    {
      "cell_type": "markdown",
      "source": [
        "# **Métricas KNN - Escogido**"
      ],
      "metadata": {
        "id": "YvwRuFtT-al_"
      }
    },
    {
      "cell_type": "code",
      "source": [],
      "metadata": {
        "id": "k7_g2mCx-c-H"
      },
      "execution_count": null,
      "outputs": []
    },
    {
      "cell_type": "markdown",
      "source": [
        "# **Gridsearch Logit - WeatherAUS**"
      ],
      "metadata": {
        "id": "l4_FWhcI9xWd"
      }
    },
    {
      "cell_type": "code",
      "source": [],
      "metadata": {
        "id": "HhyT0OOa-Obd"
      },
      "execution_count": null,
      "outputs": []
    },
    {
      "cell_type": "markdown",
      "source": [
        "# **Métricas Logit - WeatherAUS**"
      ],
      "metadata": {
        "id": "aAFp1Fnm-eLl"
      }
    },
    {
      "cell_type": "code",
      "source": [],
      "metadata": {
        "id": "NVCNv2Pw-hhh"
      },
      "execution_count": null,
      "outputs": []
    },
    {
      "cell_type": "markdown",
      "source": [
        "# **Gridsearch Logit - Notas**"
      ],
      "metadata": {
        "id": "a3aHXXl393Zs"
      }
    },
    {
      "cell_type": "code",
      "source": [],
      "metadata": {
        "id": "rQmPrFQ4-O33"
      },
      "execution_count": null,
      "outputs": []
    },
    {
      "cell_type": "markdown",
      "source": [
        "# **Métricas Logit - Notas**"
      ],
      "metadata": {
        "id": "58R2soj5-i3i"
      }
    },
    {
      "cell_type": "code",
      "source": [],
      "metadata": {
        "id": "dN77_Pb8-lIE"
      },
      "execution_count": null,
      "outputs": []
    },
    {
      "cell_type": "markdown",
      "source": [
        "# **Gridsearch Logit - Escogido**"
      ],
      "metadata": {
        "id": "Uh0EtIjd95sA"
      }
    },
    {
      "cell_type": "code",
      "source": [],
      "metadata": {
        "id": "53w5AtQz-PlT"
      },
      "execution_count": null,
      "outputs": []
    },
    {
      "cell_type": "markdown",
      "source": [
        "# **Métricas Logit - Escogido**"
      ],
      "metadata": {
        "id": "eCLSXpjj-map"
      }
    },
    {
      "cell_type": "code",
      "source": [],
      "metadata": {
        "id": "2FDU3hwG-oOL"
      },
      "execution_count": null,
      "outputs": []
    },
    {
      "cell_type": "markdown",
      "source": [
        "# **Gridsearch Árbol - WeatherAUS**"
      ],
      "metadata": {
        "id": "LEq6pW-G99k4"
      }
    },
    {
      "cell_type": "code",
      "source": [],
      "metadata": {
        "id": "ihhDiZ6u-QLe"
      },
      "execution_count": null,
      "outputs": []
    },
    {
      "cell_type": "markdown",
      "source": [
        "# **Métricas Árbol - WeatherAUS**"
      ],
      "metadata": {
        "id": "8WXBClly-qlb"
      }
    },
    {
      "cell_type": "code",
      "source": [],
      "metadata": {
        "id": "ntgAaayP-tpP"
      },
      "execution_count": null,
      "outputs": []
    },
    {
      "cell_type": "markdown",
      "source": [
        "# **Gridsearch Árbol - Notas**"
      ],
      "metadata": {
        "id": "0X1-TL26-ArD"
      }
    },
    {
      "cell_type": "code",
      "source": [],
      "metadata": {
        "id": "wfFkwy4h-Qxj"
      },
      "execution_count": null,
      "outputs": []
    },
    {
      "cell_type": "markdown",
      "source": [
        "# **Métricas Árbol - Notas**"
      ],
      "metadata": {
        "id": "3W5EyWrT-uXn"
      }
    },
    {
      "cell_type": "code",
      "source": [],
      "metadata": {
        "id": "ySMN3ksQ-xaa"
      },
      "execution_count": null,
      "outputs": []
    },
    {
      "cell_type": "markdown",
      "source": [
        "# **Gridsearch Árbol - Escogido**"
      ],
      "metadata": {
        "id": "3xhZroOx-Bhc"
      }
    },
    {
      "cell_type": "code",
      "source": [],
      "metadata": {
        "id": "c6FpHXsJ-Rm9"
      },
      "execution_count": null,
      "outputs": []
    },
    {
      "cell_type": "markdown",
      "source": [
        "# **Métricas Árbol - Escogido**"
      ],
      "metadata": {
        "id": "lPSVtBhX-yVl"
      }
    },
    {
      "cell_type": "code",
      "source": [],
      "metadata": {
        "id": "Vsn0Bpmz-0Ft"
      },
      "execution_count": null,
      "outputs": []
    }
  ],
  "metadata": {
    "colab": {
      "provenance": []
    },
    "kernelspec": {
      "display_name": "Python 3 (ipykernel)",
      "language": "python",
      "name": "python3"
    },
    "language_info": {
      "codemirror_mode": {
        "name": "ipython",
        "version": 3
      },
      "file_extension": ".py",
      "mimetype": "text/x-python",
      "name": "python",
      "nbconvert_exporter": "python",
      "pygments_lexer": "ipython3",
      "version": "3.10.8"
    }
  },
  "nbformat": 4,
  "nbformat_minor": 0
}