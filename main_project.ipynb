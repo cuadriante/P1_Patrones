{
  "cells": [
    {
      "cell_type": "markdown",
      "metadata": {
        "id": "c7Xr-klg7Rle"
      },
      "source": [
        "# **Imports**"
      ]
    },
    {
      "cell_type": "code",
      "execution_count": 1,
      "metadata": {
        "id": "_cvA4Fch4YEV"
      },
      "outputs": [],
      "source": [
        "import numpy as np\n",
        "import pandas as pd\n",
        "import time\n",
        "import sklearn.datasets as datasets\n",
        "from sklearn.model_selection import train_test_split\n",
        "from sklearn.neighbors import KNeighborsClassifier\n",
        "from sklearn.impute import SimpleImputer\n",
        "from sklearn.model_selection import GridSearchCV\n",
        "from sklearn.model_selection import train_test_split\n",
        "from sklearn.base import BaseEstimator, ClassifierMixin\n",
        "from sklearn.model_selection import StratifiedKFold\n"
      ]
    },
    {
      "cell_type": "markdown",
      "metadata": {
        "id": "6AVB7c-O7bET"
      },
      "source": [
        "# **Modelo KNN**"
      ]
    },
    {
      "cell_type": "code",
      "execution_count": 5,
      "metadata": {
        "id": "ErpJFF5J4YEZ"
      },
      "outputs": [],
      "source": [
        "from pickle import NONE\n",
        "class KNearestNeighbors(BaseEstimator, ClassifierMixin):\n",
        "    def __init__(self, X_train, y_train, n_neighbors=5, weights='uniform'):\n",
        "\n",
        "        self.X_train = X_train\n",
        "        self.y_train = y_train\n",
        "\n",
        "        self.n_neighbors = n_neighbors\n",
        "        self.weights = weights\n",
        "\n",
        "        self.n_classes = 10\n",
        "        self.prediction = NONE\n",
        "\n",
        "    def euclidian_distance(self, a, b):\n",
        "        return np.sqrt(np.sum((a - b)**2, axis=1))\n",
        "\n",
        "    def kneighbors(self, X_test, return_distance=False):\n",
        "\n",
        "        dist = []\n",
        "        neigh_ind = []\n",
        "        point_dist = []\n",
        "        for x_test in X_test:\n",
        "            point_dist += [ self.euclidian_distance(x_test, self.X_train) ]\n",
        "\n",
        "        for row in point_dist:\n",
        "            enum_neigh = enumerate(row)\n",
        "            sorted_neigh = sorted(enum_neigh,\n",
        "                                  key=lambda x: x[1])[:self.n_neighbors]\n",
        "\n",
        "            ind_list = [tup[0] for tup in sorted_neigh]\n",
        "            dist_list = [tup[1] for tup in sorted_neigh]\n",
        "\n",
        "            dist.append(dist_list)\n",
        "            neigh_ind.append(ind_list)\n",
        "\n",
        "        if return_distance:\n",
        "            return np.array(dist), np.array(neigh_ind)\n",
        "\n",
        "        return np.array(neigh_ind)\n",
        "\n",
        "    def fit(self, X_train, y_train):\n",
        "        self.X_train = X_train\n",
        "        self.y_train = y_train\n",
        "\n",
        "    def predict(self, X_test):\n",
        "\n",
        "        if self.weights == 'uniform':\n",
        "            neighbors = self.kneighbors(X_test)\n",
        "            y_pred = np.array([\n",
        "                np.argmax(np.bincount(self.y_train[neighbor]))\n",
        "                for neighbor in neighbors\n",
        "            ])\n",
        "            return y_pred\n",
        "\n",
        "        if self.weights == 'distance':\n",
        "            distances, neighbors = self.kneighbors(X_test, return_distance=True)\n",
        "            y_pred = np.array([\n",
        "                np.argmax(np.bincount(self.y_train[neighbor], 1 / (distances[i] + 1e-6)))\n",
        "                for i, neighbor in enumerate(neighbors)\n",
        "            ])\n",
        "            self.prediction = y_pred\n",
        "            return y_pred\n",
        "\n",
        "    def accuracy(self,y_test):\n",
        "        y_pred = self.prediction\n",
        "        return float(sum(y_pred == y_test)) / float(len(y_test)), y_pred, y_test\n",
        "\n",
        "    def precision(self,y_test):\n",
        "        y_pred = self.prediction\n",
        "        return float(sum(y_pred[y_pred == 1.0] and y_pred == y_test)) / float(sum(y_pred[y_pred == 1.0] and y_pred != y_test)), y_pred, y_test\n",
        "\n",
        "    def recall(self,y_test):\n",
        "        y_pred = self.prediction\n",
        "        return float(sum(y_pred[y_pred == 1.0] and y_pred == y_test)) / float(sum(y_pred[y_pred == 0.0] and y_pred != y_test)), y_pred, y_test\n",
        "\n",
        "    def fonescore(self,y_test):\n",
        "        recall = self.recall(y_test)\n",
        "        precision = self.precision(y_test)\n",
        "        return float(2*recall*precision) / float(precision + recall), y_pred, y_test\n",
        "\n",
        "    def AUC(self,y_test):\n",
        "        y_pred = self.prediction\n",
        "        return float(sum(y_pred == y_test)) / float(len(y_test)), y_pred, y_test\n",
        "\n",
        "    def ROC(self,y_test):\n",
        "        y_pred = self.prediction\n",
        "        return float(sum(y_pred == y_test)) / float(len(y_test)), y_pred, y_test\n"
      ]
    },
    {
      "cell_type": "markdown",
      "metadata": {
        "id": "MDHvRHen7gsa"
      },
      "source": [
        "# **Modelo Árbol de Decisión**"
      ]
    },
    {
      "cell_type": "code",
      "execution_count": null,
      "metadata": {
        "id": "SqVapsHa7pka"
      },
      "outputs": [],
      "source": []
    },
    {
      "cell_type": "markdown",
      "metadata": {
        "id": "WjBd2eXg7qRy"
      },
      "source": [
        "# **Modelo Regresión Logística**"
      ]
    },
    {
      "cell_type": "code",
      "execution_count": null,
      "metadata": {
        "id": "98D68yd77xPh"
      },
      "outputs": [],
      "source": []
    },
    {
      "cell_type": "markdown",
      "metadata": {
        "id": "VbxL3-XSlzGK"
      },
      "source": [
        "# **Dataset WeatherAUS**"
      ]
    },
    {
      "cell_type": "code",
      "execution_count": 6,
      "metadata": {
        "id": "_3bxYqulmjLN"
      },
      "outputs": [
        {
          "ename": "FileNotFoundError",
          "evalue": "[Errno 2] No such file or directory: 'weatherAUS.csv'",
          "output_type": "error",
          "traceback": [
            "\u001b[1;31m---------------------------------------------------------------------------\u001b[0m",
            "\u001b[1;31mFileNotFoundError\u001b[0m                         Traceback (most recent call last)",
            "\u001b[1;32mc:\\Users\\geogd\\OneDrive - Estudiantes ITCR\\Documentos\\TEC\\2023\\II Semestre\\Reconocimiento de Patrones\\Proyecto 1\\P1_Patrones\\main_project.ipynb Cell 10\u001b[0m line \u001b[0;36m2\n\u001b[0;32m      <a href='vscode-notebook-cell:/c%3A/Users/geogd/OneDrive%20-%20Estudiantes%20ITCR/Documentos/TEC/2023/II%20Semestre/Reconocimiento%20de%20Patrones/Proyecto%201/P1_Patrones/main_project.ipynb#X12sZmlsZQ%3D%3D?line=0'>1</a>\u001b[0m dataset_path \u001b[39m=\u001b[39m \u001b[39m\"\u001b[39m\u001b[39mweatherAUS.csv\u001b[39m\u001b[39m\"\u001b[39m\n\u001b[1;32m----> <a href='vscode-notebook-cell:/c%3A/Users/geogd/OneDrive%20-%20Estudiantes%20ITCR/Documentos/TEC/2023/II%20Semestre/Reconocimiento%20de%20Patrones/Proyecto%201/P1_Patrones/main_project.ipynb#X12sZmlsZQ%3D%3D?line=1'>2</a>\u001b[0m dataset \u001b[39m=\u001b[39m pd\u001b[39m.\u001b[39;49mread_csv(dataset_path)\n\u001b[0;32m      <a href='vscode-notebook-cell:/c%3A/Users/geogd/OneDrive%20-%20Estudiantes%20ITCR/Documentos/TEC/2023/II%20Semestre/Reconocimiento%20de%20Patrones/Proyecto%201/P1_Patrones/main_project.ipynb#X12sZmlsZQ%3D%3D?line=3'>4</a>\u001b[0m \u001b[39m#Eliminemos las filas que no tengan un RainTomorrow definido\u001b[39;00m\n\u001b[0;32m      <a href='vscode-notebook-cell:/c%3A/Users/geogd/OneDrive%20-%20Estudiantes%20ITCR/Documentos/TEC/2023/II%20Semestre/Reconocimiento%20de%20Patrones/Proyecto%201/P1_Patrones/main_project.ipynb#X12sZmlsZQ%3D%3D?line=4'>5</a>\u001b[0m dataset \u001b[39m=\u001b[39m dataset\u001b[39m.\u001b[39mdropna(subset\u001b[39m=\u001b[39m[\u001b[39m\"\u001b[39m\u001b[39mRainTomorrow\u001b[39m\u001b[39m\"\u001b[39m])\n",
            "File \u001b[1;32m~\\AppData\\Roaming\\Python\\Python311\\site-packages\\pandas\\io\\parsers\\readers.py:948\u001b[0m, in \u001b[0;36mread_csv\u001b[1;34m(filepath_or_buffer, sep, delimiter, header, names, index_col, usecols, dtype, engine, converters, true_values, false_values, skipinitialspace, skiprows, skipfooter, nrows, na_values, keep_default_na, na_filter, verbose, skip_blank_lines, parse_dates, infer_datetime_format, keep_date_col, date_parser, date_format, dayfirst, cache_dates, iterator, chunksize, compression, thousands, decimal, lineterminator, quotechar, quoting, doublequote, escapechar, comment, encoding, encoding_errors, dialect, on_bad_lines, delim_whitespace, low_memory, memory_map, float_precision, storage_options, dtype_backend)\u001b[0m\n\u001b[0;32m    935\u001b[0m kwds_defaults \u001b[39m=\u001b[39m _refine_defaults_read(\n\u001b[0;32m    936\u001b[0m     dialect,\n\u001b[0;32m    937\u001b[0m     delimiter,\n\u001b[1;32m   (...)\u001b[0m\n\u001b[0;32m    944\u001b[0m     dtype_backend\u001b[39m=\u001b[39mdtype_backend,\n\u001b[0;32m    945\u001b[0m )\n\u001b[0;32m    946\u001b[0m kwds\u001b[39m.\u001b[39mupdate(kwds_defaults)\n\u001b[1;32m--> 948\u001b[0m \u001b[39mreturn\u001b[39;00m _read(filepath_or_buffer, kwds)\n",
            "File \u001b[1;32m~\\AppData\\Roaming\\Python\\Python311\\site-packages\\pandas\\io\\parsers\\readers.py:611\u001b[0m, in \u001b[0;36m_read\u001b[1;34m(filepath_or_buffer, kwds)\u001b[0m\n\u001b[0;32m    608\u001b[0m _validate_names(kwds\u001b[39m.\u001b[39mget(\u001b[39m\"\u001b[39m\u001b[39mnames\u001b[39m\u001b[39m\"\u001b[39m, \u001b[39mNone\u001b[39;00m))\n\u001b[0;32m    610\u001b[0m \u001b[39m# Create the parser.\u001b[39;00m\n\u001b[1;32m--> 611\u001b[0m parser \u001b[39m=\u001b[39m TextFileReader(filepath_or_buffer, \u001b[39m*\u001b[39;49m\u001b[39m*\u001b[39;49mkwds)\n\u001b[0;32m    613\u001b[0m \u001b[39mif\u001b[39;00m chunksize \u001b[39mor\u001b[39;00m iterator:\n\u001b[0;32m    614\u001b[0m     \u001b[39mreturn\u001b[39;00m parser\n",
            "File \u001b[1;32m~\\AppData\\Roaming\\Python\\Python311\\site-packages\\pandas\\io\\parsers\\readers.py:1448\u001b[0m, in \u001b[0;36mTextFileReader.__init__\u001b[1;34m(self, f, engine, **kwds)\u001b[0m\n\u001b[0;32m   1445\u001b[0m     \u001b[39mself\u001b[39m\u001b[39m.\u001b[39moptions[\u001b[39m\"\u001b[39m\u001b[39mhas_index_names\u001b[39m\u001b[39m\"\u001b[39m] \u001b[39m=\u001b[39m kwds[\u001b[39m\"\u001b[39m\u001b[39mhas_index_names\u001b[39m\u001b[39m\"\u001b[39m]\n\u001b[0;32m   1447\u001b[0m \u001b[39mself\u001b[39m\u001b[39m.\u001b[39mhandles: IOHandles \u001b[39m|\u001b[39m \u001b[39mNone\u001b[39;00m \u001b[39m=\u001b[39m \u001b[39mNone\u001b[39;00m\n\u001b[1;32m-> 1448\u001b[0m \u001b[39mself\u001b[39m\u001b[39m.\u001b[39m_engine \u001b[39m=\u001b[39m \u001b[39mself\u001b[39;49m\u001b[39m.\u001b[39;49m_make_engine(f, \u001b[39mself\u001b[39;49m\u001b[39m.\u001b[39;49mengine)\n",
            "File \u001b[1;32m~\\AppData\\Roaming\\Python\\Python311\\site-packages\\pandas\\io\\parsers\\readers.py:1705\u001b[0m, in \u001b[0;36mTextFileReader._make_engine\u001b[1;34m(self, f, engine)\u001b[0m\n\u001b[0;32m   1703\u001b[0m     \u001b[39mif\u001b[39;00m \u001b[39m\"\u001b[39m\u001b[39mb\u001b[39m\u001b[39m\"\u001b[39m \u001b[39mnot\u001b[39;00m \u001b[39min\u001b[39;00m mode:\n\u001b[0;32m   1704\u001b[0m         mode \u001b[39m+\u001b[39m\u001b[39m=\u001b[39m \u001b[39m\"\u001b[39m\u001b[39mb\u001b[39m\u001b[39m\"\u001b[39m\n\u001b[1;32m-> 1705\u001b[0m \u001b[39mself\u001b[39m\u001b[39m.\u001b[39mhandles \u001b[39m=\u001b[39m get_handle(\n\u001b[0;32m   1706\u001b[0m     f,\n\u001b[0;32m   1707\u001b[0m     mode,\n\u001b[0;32m   1708\u001b[0m     encoding\u001b[39m=\u001b[39;49m\u001b[39mself\u001b[39;49m\u001b[39m.\u001b[39;49moptions\u001b[39m.\u001b[39;49mget(\u001b[39m\"\u001b[39;49m\u001b[39mencoding\u001b[39;49m\u001b[39m\"\u001b[39;49m, \u001b[39mNone\u001b[39;49;00m),\n\u001b[0;32m   1709\u001b[0m     compression\u001b[39m=\u001b[39;49m\u001b[39mself\u001b[39;49m\u001b[39m.\u001b[39;49moptions\u001b[39m.\u001b[39;49mget(\u001b[39m\"\u001b[39;49m\u001b[39mcompression\u001b[39;49m\u001b[39m\"\u001b[39;49m, \u001b[39mNone\u001b[39;49;00m),\n\u001b[0;32m   1710\u001b[0m     memory_map\u001b[39m=\u001b[39;49m\u001b[39mself\u001b[39;49m\u001b[39m.\u001b[39;49moptions\u001b[39m.\u001b[39;49mget(\u001b[39m\"\u001b[39;49m\u001b[39mmemory_map\u001b[39;49m\u001b[39m\"\u001b[39;49m, \u001b[39mFalse\u001b[39;49;00m),\n\u001b[0;32m   1711\u001b[0m     is_text\u001b[39m=\u001b[39;49mis_text,\n\u001b[0;32m   1712\u001b[0m     errors\u001b[39m=\u001b[39;49m\u001b[39mself\u001b[39;49m\u001b[39m.\u001b[39;49moptions\u001b[39m.\u001b[39;49mget(\u001b[39m\"\u001b[39;49m\u001b[39mencoding_errors\u001b[39;49m\u001b[39m\"\u001b[39;49m, \u001b[39m\"\u001b[39;49m\u001b[39mstrict\u001b[39;49m\u001b[39m\"\u001b[39;49m),\n\u001b[0;32m   1713\u001b[0m     storage_options\u001b[39m=\u001b[39;49m\u001b[39mself\u001b[39;49m\u001b[39m.\u001b[39;49moptions\u001b[39m.\u001b[39;49mget(\u001b[39m\"\u001b[39;49m\u001b[39mstorage_options\u001b[39;49m\u001b[39m\"\u001b[39;49m, \u001b[39mNone\u001b[39;49;00m),\n\u001b[0;32m   1714\u001b[0m )\n\u001b[0;32m   1715\u001b[0m \u001b[39massert\u001b[39;00m \u001b[39mself\u001b[39m\u001b[39m.\u001b[39mhandles \u001b[39mis\u001b[39;00m \u001b[39mnot\u001b[39;00m \u001b[39mNone\u001b[39;00m\n\u001b[0;32m   1716\u001b[0m f \u001b[39m=\u001b[39m \u001b[39mself\u001b[39m\u001b[39m.\u001b[39mhandles\u001b[39m.\u001b[39mhandle\n",
            "File \u001b[1;32m~\\AppData\\Roaming\\Python\\Python311\\site-packages\\pandas\\io\\common.py:863\u001b[0m, in \u001b[0;36mget_handle\u001b[1;34m(path_or_buf, mode, encoding, compression, memory_map, is_text, errors, storage_options)\u001b[0m\n\u001b[0;32m    858\u001b[0m \u001b[39melif\u001b[39;00m \u001b[39misinstance\u001b[39m(handle, \u001b[39mstr\u001b[39m):\n\u001b[0;32m    859\u001b[0m     \u001b[39m# Check whether the filename is to be opened in binary mode.\u001b[39;00m\n\u001b[0;32m    860\u001b[0m     \u001b[39m# Binary mode does not support 'encoding' and 'newline'.\u001b[39;00m\n\u001b[0;32m    861\u001b[0m     \u001b[39mif\u001b[39;00m ioargs\u001b[39m.\u001b[39mencoding \u001b[39mand\u001b[39;00m \u001b[39m\"\u001b[39m\u001b[39mb\u001b[39m\u001b[39m\"\u001b[39m \u001b[39mnot\u001b[39;00m \u001b[39min\u001b[39;00m ioargs\u001b[39m.\u001b[39mmode:\n\u001b[0;32m    862\u001b[0m         \u001b[39m# Encoding\u001b[39;00m\n\u001b[1;32m--> 863\u001b[0m         handle \u001b[39m=\u001b[39m \u001b[39mopen\u001b[39;49m(\n\u001b[0;32m    864\u001b[0m             handle,\n\u001b[0;32m    865\u001b[0m             ioargs\u001b[39m.\u001b[39;49mmode,\n\u001b[0;32m    866\u001b[0m             encoding\u001b[39m=\u001b[39;49mioargs\u001b[39m.\u001b[39;49mencoding,\n\u001b[0;32m    867\u001b[0m             errors\u001b[39m=\u001b[39;49merrors,\n\u001b[0;32m    868\u001b[0m             newline\u001b[39m=\u001b[39;49m\u001b[39m\"\u001b[39;49m\u001b[39m\"\u001b[39;49m,\n\u001b[0;32m    869\u001b[0m         )\n\u001b[0;32m    870\u001b[0m     \u001b[39melse\u001b[39;00m:\n\u001b[0;32m    871\u001b[0m         \u001b[39m# Binary mode\u001b[39;00m\n\u001b[0;32m    872\u001b[0m         handle \u001b[39m=\u001b[39m \u001b[39mopen\u001b[39m(handle, ioargs\u001b[39m.\u001b[39mmode)\n",
            "\u001b[1;31mFileNotFoundError\u001b[0m: [Errno 2] No such file or directory: 'weatherAUS.csv'"
          ]
        }
      ],
      "source": [
        "dataset_path = \"weatherAUS.csv\"\n",
        "dataset = pd.read_csv(dataset_path)\n",
        "\n",
        "#Eliminemos las filas que no tengan un RainTomorrow definido\n",
        "dataset = dataset.dropna(subset=[\"RainTomorrow\"])\n",
        "\n",
        "# Eliminamos algunos features de texto que no representan mayor diferencia al realizar la aproximación y obteneos los datos y el target\n",
        "X = dataset.drop([\"RainTomorrow\", \"Date\", \"WindDir9am\", \"WindDir3pm\", \"WindGustDir\"], axis=1)\n",
        "y = dataset[\"RainTomorrow\"].replace({'No': 0, 'Yes': 1})\n",
        "\n",
        "#Reemplazamos RainToday por números y las ubicaciones por números, guardando la referencia en location_number\n",
        "X[\"RainToday\"] = X[\"RainToday\"].replace({'No': 0.0, 'Yes': 1.0})\n",
        "unique_classes = X[\"Location\"].unique()\n",
        "location_number = {cls: idx for idx, cls in enumerate(unique_classes)}\n",
        "X[\"Location\"] = X[\"Location\"].replace(location_number)\n",
        "\n",
        "#Normalicemos los datos\n",
        "min_val = X.min(axis=0)\n",
        "max_val = X.max(axis=0)\n",
        "X = (X - min_val) / (max_val - min_val)\n",
        "\n",
        "#De los features de Wind vamos a quitar los más relacionados, al revisar los datos se ve que el WindGustSpeed está relacionado\n",
        "#a los otros dos features, por lo que lo removeremos.\n",
        "windCov = X[[\"WindGustSpeed\", \"WindSpeed9am\", \"WindSpeed3pm\"]].cov()\n",
        "#print(windCov)\n",
        "X = X.drop(\"WindGustSpeed\", axis=1)\n",
        "\n",
        "#Vamos a analizar los feature humidity y ver cómo se relacionan, no vamos a eliminar ninguno pues el nivel de relación no es lo suficientemente alto\n",
        "humidCov = X[[\"Humidity9am\", \"Humidity3pm\"]].cov()\n",
        "#print(humidCov)\n",
        "\n",
        "#Vamos a analizar los feature pressure y ver cómo se relacionan, note que son altamente relacionados, por lo que vamos a eliminar uno arbitrariamente\n",
        "pressureCov = X[[\"Pressure9am\", \"Pressure3pm\"]].cov()\n",
        "#print(pressureCov)\n",
        "X = X.drop(\"Pressure9am\", axis=1)\n",
        "\n",
        "#Vamos a analizar los feature cloud y ver cómo se relacionan, no vamos a eliminar ninguno pues el nivel de relación no es lo suficientemente alto\n",
        "cloudCov = X[[\"Cloud9am\", \"Cloud3pm\"]].cov()\n",
        "#print(cloudCov)\n",
        "\n",
        "#Vamos a analizar los feature temp y ver cómo se relacionan, note que son altamente relacionados, por lo que vamos a eliminar el de las 9am como se hizo con pressure\n",
        "tempCov = X[[\"Temp9am\", \"Temp3pm\"]].cov()\n",
        "#print(tempCov)\n",
        "X = X.drop(\"Temp9am\", axis=1)\n",
        "\n",
        "#Vamos a analizar si hay otros features altamente relacionados\n",
        "#Note que MaxTemp está altamente relacionada con Temp3pm por lo que eliminaremos Temp3pm\n",
        "XCov = X.cov()\n",
        "#print(XCov)\n",
        "X = X.drop(\"Temp3pm\", axis=1)\n",
        "\n",
        "#print(len(X))\n",
        "\n",
        "#Vamos a reemplazar los nan con valores medios para que Sklearn y nuestro modelo puedan aceptarlos\n",
        "X = X.to_numpy()\n",
        "y = y.to_numpy()\n",
        "WAX_train, WAX_test, WAy_train, WAy_test = train_test_split(X, y, test_size=0.15, random_state=45)\n",
        "\n",
        "mean_train = np.nanmean(WAX_train)\n",
        "mean_test = np.nanmean(WAX_test)\n",
        "\n",
        "WAX_train[np.isnan(WAX_train)] = mean_train\n",
        "WAX_test[np.isnan(WAX_test)] = mean_test\n",
        "\n"
      ]
    },
    {
      "cell_type": "markdown",
      "metadata": {
        "id": "iPF0Y7Kr8Foc"
      },
      "source": [
        "# **Dataset Notas del Curso**"
      ]
    },
    {
      "cell_type": "code",
      "execution_count": null,
      "metadata": {
        "id": "evnallJN8LqU"
      },
      "outputs": [],
      "source": []
    },
    {
      "cell_type": "markdown",
      "metadata": {
        "id": "l1bzbDUb8MKl"
      },
      "source": [
        "# **Dataset escogido**"
      ]
    },
    {
      "cell_type": "code",
      "execution_count": null,
      "metadata": {
        "id": "JpNMsZce8Vz0"
      },
      "outputs": [],
      "source": []
    },
    {
      "cell_type": "markdown",
      "metadata": {
        "id": "4oBhIB828XYV"
      },
      "source": [
        "# **Gridsearch KNN - WeatherAUS**"
      ]
    },
    {
      "cell_type": "code",
      "execution_count": null,
      "metadata": {
        "id": "CDwWcNF3F5qh"
      },
      "outputs": [],
      "source": [
        "param_grid = {\n",
        "    'X_train': [WAX_train],\n",
        "    'y_train': [WAy_train],\n",
        "    'n_neighbors': [5, 10, 15, 20, 25],\n",
        "    'weights': ['distance']\n",
        "}\n",
        "\n",
        "distance_classifier = KNearestNeighbors(WAX_train, WAy_train, n_neighbors=5, weights='distance')\n",
        "\n",
        "grid_search = GridSearchCV(distance_classifier, param_grid, cv=StratifiedKFold(n_splits=5))\n",
        "\n",
        "# búsqueda de hiperparámetros en el conjunto de entrenamiento\n",
        "grid_search.fit(WAX_train, WAy_train)\n",
        "\n",
        "# mejores hiperparámetros encontrados\n",
        "best_params = grid_search.best_params_\n",
        "print(\"Mejores hiperparámetros encontrados:\")\n",
        "print(best_params)\n",
        "\n",
        "# mejor modelo entrenado\n",
        "best_model = grid_search.best_estimator_\n",
        "best_model.fit(WAX_train, WAy_train)\n",
        "best_model.predict(WAX_test)\n",
        "accuracy = best_model.accuracy(WAy_test)\n",
        "\n",
        "print(accuracy)\n"
      ]
    },
    {
      "cell_type": "code",
      "execution_count": null,
      "metadata": {
        "colab": {
          "base_uri": "https://localhost:8080/"
        },
        "id": "Ux1Iaiw6HBbd",
        "outputId": "6c706661-1d38-4158-d145-eef9f26b0bbc"
      },
      "outputs": [
        {
          "data": {
            "text/plain": [
              "array([1, 0, 0, ..., 0, 0, 0])"
            ]
          },
          "execution_count": 12,
          "metadata": {},
          "output_type": "execute_result"
        }
      ],
      "source": [
        "distance_classifier = KNearestNeighbors(WAX_train, WAy_train, n_neighbors=5, weights='distance')\n",
        "\n",
        "distance_classifier.predict(WAX_test)\n"
      ]
    },
    {
      "cell_type": "markdown",
      "metadata": {
        "id": "Cme4Fh_x8rbW"
      },
      "source": [
        "# **Métricas KNN - WeatherAUS**"
      ]
    },
    {
      "cell_type": "code",
      "execution_count": null,
      "metadata": {
        "id": "CWm5NxLMSS4g"
      },
      "outputs": [],
      "source": [
        "accuracy = distance_classifier.accuracy(WAy_test)\n",
        "precision = distance_classifier.precision(WAy_test)\n",
        "recall = distance_classifier.recall(WAy_test)\n",
        "fonescore = distance_classifier.fonescore(WAy_test)\n",
        "\n",
        "print(\"Accuracy: \"+str(accuracy[0]))\n",
        "print(\"Precision: \"+str(precision[0]))\n",
        "print(\"Recall: \"+str(recall[0]))\n",
        "print(\"F1 Score: \"+str(fonescore[0]))\n"
      ]
    },
    {
      "cell_type": "markdown",
      "metadata": {
        "id": "pZ0xKby388p6"
      },
      "source": [
        "# **Gridsearch KNN - Notas**"
      ]
    },
    {
      "cell_type": "code",
      "execution_count": null,
      "metadata": {
        "id": "NsG0mWbx-M66"
      },
      "outputs": [],
      "source": []
    },
    {
      "cell_type": "markdown",
      "metadata": {
        "id": "WskaH7-c-UeP"
      },
      "source": [
        "# **Métricas KNN - Notas**"
      ]
    },
    {
      "cell_type": "code",
      "execution_count": null,
      "metadata": {
        "id": "FybalUOG-ZW-"
      },
      "outputs": [],
      "source": []
    },
    {
      "cell_type": "markdown",
      "metadata": {
        "id": "Xpnv9I0H9ubD"
      },
      "source": [
        "# **Gridsearch KNN - Escogido**"
      ]
    },
    {
      "cell_type": "code",
      "execution_count": null,
      "metadata": {
        "id": "mciWJZF--N-z"
      },
      "outputs": [],
      "source": []
    },
    {
      "cell_type": "markdown",
      "metadata": {
        "id": "YvwRuFtT-al_"
      },
      "source": [
        "# **Métricas KNN - Escogido**"
      ]
    },
    {
      "cell_type": "code",
      "execution_count": null,
      "metadata": {
        "id": "k7_g2mCx-c-H"
      },
      "outputs": [],
      "source": []
    },
    {
      "cell_type": "markdown",
      "metadata": {
        "id": "l4_FWhcI9xWd"
      },
      "source": [
        "# **Gridsearch Logit - WeatherAUS**"
      ]
    },
    {
      "cell_type": "code",
      "execution_count": null,
      "metadata": {
        "id": "HhyT0OOa-Obd"
      },
      "outputs": [],
      "source": []
    },
    {
      "cell_type": "markdown",
      "metadata": {
        "id": "aAFp1Fnm-eLl"
      },
      "source": [
        "# **Métricas Logit - WeatherAUS**"
      ]
    },
    {
      "cell_type": "code",
      "execution_count": null,
      "metadata": {
        "id": "NVCNv2Pw-hhh"
      },
      "outputs": [],
      "source": []
    },
    {
      "cell_type": "markdown",
      "metadata": {
        "id": "a3aHXXl393Zs"
      },
      "source": [
        "# **Gridsearch Logit - Notas**"
      ]
    },
    {
      "cell_type": "code",
      "execution_count": null,
      "metadata": {
        "id": "rQmPrFQ4-O33"
      },
      "outputs": [],
      "source": []
    },
    {
      "cell_type": "markdown",
      "metadata": {
        "id": "58R2soj5-i3i"
      },
      "source": [
        "# **Métricas Logit - Notas**"
      ]
    },
    {
      "cell_type": "code",
      "execution_count": null,
      "metadata": {
        "id": "dN77_Pb8-lIE"
      },
      "outputs": [],
      "source": []
    },
    {
      "cell_type": "markdown",
      "metadata": {
        "id": "Uh0EtIjd95sA"
      },
      "source": [
        "# **Gridsearch Logit - Escogido**"
      ]
    },
    {
      "cell_type": "code",
      "execution_count": null,
      "metadata": {
        "id": "53w5AtQz-PlT"
      },
      "outputs": [],
      "source": []
    },
    {
      "cell_type": "markdown",
      "metadata": {
        "id": "eCLSXpjj-map"
      },
      "source": [
        "# **Métricas Logit - Escogido**"
      ]
    },
    {
      "cell_type": "code",
      "execution_count": null,
      "metadata": {
        "id": "2FDU3hwG-oOL"
      },
      "outputs": [],
      "source": []
    },
    {
      "cell_type": "markdown",
      "metadata": {
        "id": "LEq6pW-G99k4"
      },
      "source": [
        "# **Gridsearch Árbol - WeatherAUS**"
      ]
    },
    {
      "cell_type": "code",
      "execution_count": null,
      "metadata": {
        "id": "ihhDiZ6u-QLe"
      },
      "outputs": [],
      "source": []
    },
    {
      "cell_type": "markdown",
      "metadata": {
        "id": "8WXBClly-qlb"
      },
      "source": [
        "# **Métricas Árbol - WeatherAUS**"
      ]
    },
    {
      "cell_type": "code",
      "execution_count": null,
      "metadata": {
        "id": "ntgAaayP-tpP"
      },
      "outputs": [],
      "source": []
    },
    {
      "cell_type": "markdown",
      "metadata": {
        "id": "0X1-TL26-ArD"
      },
      "source": [
        "# **Gridsearch Árbol - Notas**"
      ]
    },
    {
      "cell_type": "code",
      "execution_count": null,
      "metadata": {
        "id": "wfFkwy4h-Qxj"
      },
      "outputs": [],
      "source": []
    },
    {
      "cell_type": "markdown",
      "metadata": {
        "id": "3W5EyWrT-uXn"
      },
      "source": [
        "# **Métricas Árbol - Notas**"
      ]
    },
    {
      "cell_type": "code",
      "execution_count": null,
      "metadata": {
        "id": "ySMN3ksQ-xaa"
      },
      "outputs": [],
      "source": []
    },
    {
      "cell_type": "markdown",
      "metadata": {
        "id": "3xhZroOx-Bhc"
      },
      "source": [
        "# **Gridsearch Árbol - Escogido**"
      ]
    },
    {
      "cell_type": "code",
      "execution_count": null,
      "metadata": {
        "id": "c6FpHXsJ-Rm9"
      },
      "outputs": [],
      "source": []
    },
    {
      "cell_type": "markdown",
      "metadata": {
        "id": "lPSVtBhX-yVl"
      },
      "source": [
        "# **Métricas Árbol - Escogido**"
      ]
    },
    {
      "cell_type": "code",
      "execution_count": null,
      "metadata": {
        "id": "Vsn0Bpmz-0Ft"
      },
      "outputs": [],
      "source": []
    }
  ],
  "metadata": {
    "colab": {
      "provenance": []
    },
    "kernelspec": {
      "display_name": "Python 3 (ipykernel)",
      "language": "python",
      "name": "python3"
    },
    "language_info": {
      "codemirror_mode": {
        "name": "ipython",
        "version": 3
      },
      "file_extension": ".py",
      "mimetype": "text/x-python",
      "name": "python",
      "nbconvert_exporter": "python",
      "pygments_lexer": "ipython3",
      "version": "3.11.5"
    }
  },
  "nbformat": 4,
  "nbformat_minor": 0
}
