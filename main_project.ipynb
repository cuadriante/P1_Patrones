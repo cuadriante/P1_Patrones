{
  "cells": [
    {
      "cell_type": "markdown",
      "metadata": {},
      "source": []
    },
    {
      "cell_type": "markdown",
      "metadata": {
        "id": "c7Xr-klg7Rle"
      },
      "source": [
        "# **Imports**"
      ]
    },
    {
      "cell_type": "code",
      "execution_count": 54,
      "metadata": {
        "id": "_cvA4Fch4YEV"
      },
      "outputs": [],
      "source": [
        "import numpy as np\n",
        "import pandas as pd\n",
        "import time\n",
        "import sklearn.datasets as datasets\n",
        "from sklearn.model_selection import train_test_split\n",
        "from sklearn.neighbors import KNeighborsClassifier\n",
        "from sklearn.impute import SimpleImputer\n",
        "from sklearn.model_selection import GridSearchCV\n",
        "from sklearn.model_selection import train_test_split\n",
        "from sklearn.base import BaseEstimator, ClassifierMixin\n",
        "from sklearn.model_selection import StratifiedKFold\n",
        "from sklearn.metrics import accuracy_score, precision_score, recall_score, f1_score, roc_auc_score, roc_curve\n",
        "import matplotlib.pyplot as plt\n",
        "from imblearn.over_sampling import RandomOverSampler\n",
        "from sklearn.linear_model import LogisticRegression\n",
        "from sklearn.preprocessing import StandardScaler\n",
        "from sklearn.model_selection import GridSearchCV\n",
        "from sklearn.model_selection import StratifiedKFold\n",
        "from sklearn.decomposition import PCA\n"
      ]
    },
    {
      "cell_type": "markdown",
      "metadata": {
        "id": "6AVB7c-O7bET"
      },
      "source": [
        "# **Modelo KNN**"
      ]
    },
    {
      "cell_type": "code",
      "execution_count": 44,
      "metadata": {
        "id": "ErpJFF5J4YEZ"
      },
      "outputs": [],
      "source": [
        "from pickle import NONE\n",
        "class KNearestNeighbors(BaseEstimator, ClassifierMixin):\n",
        "    def __init__(self, X_train, y_train, n_neighbors=5, weights='uniform'):\n",
        "\n",
        "        self.X_train = X_train\n",
        "        self.y_train = y_train\n",
        "\n",
        "        self.n_neighbors = n_neighbors\n",
        "        self.weights = weights\n",
        "\n",
        "        self.n_classes = 10\n",
        "        self.prediction = NONE\n",
        "\n",
        "    def euclidian_distance(self, a, b):\n",
        "        return np.sqrt(np.sum((a - b)**2, axis=1))\n",
        "\n",
        "    def kneighbors(self, X_test, return_distance=False):\n",
        "\n",
        "        dist = []\n",
        "        neigh_ind = []\n",
        "        point_dist = []\n",
        "        for x_test in X_test:\n",
        "            point_dist += [ self.euclidian_distance(x_test, self.X_train) ]\n",
        "\n",
        "        for row in point_dist:\n",
        "            enum_neigh = enumerate(row)\n",
        "            sorted_neigh = sorted(enum_neigh,\n",
        "                                  key=lambda x: x[1])[:self.n_neighbors]\n",
        "\n",
        "            ind_list = [tup[0] for tup in sorted_neigh]\n",
        "            dist_list = [tup[1] for tup in sorted_neigh]\n",
        "\n",
        "            dist.append(dist_list)\n",
        "            neigh_ind.append(ind_list)\n",
        "\n",
        "        if return_distance:\n",
        "            return np.array(dist), np.array(neigh_ind)\n",
        "\n",
        "        return np.array(neigh_ind)\n",
        "\n",
        "    def fit(self, X_train, y_train):\n",
        "        self.X_train = X_train\n",
        "        self.y_train = y_train\n",
        "\n",
        "    def predict(self, X_test):\n",
        "\n",
        "        if self.weights == 'uniform':\n",
        "            neighbors = self.kneighbors(X_test)\n",
        "            y_pred = np.array([\n",
        "                np.argmax(np.bincount(self.y_train[neighbor]))\n",
        "                for neighbor in neighbors\n",
        "            ])\n",
        "            return y_pred\n",
        "\n",
        "        if self.weights == 'distance':\n",
        "            distances, neighbors = self.kneighbors(X_test, return_distance=True)\n",
        "            y_pred = np.array([\n",
        "                np.argmax(np.bincount(self.y_train[neighbor], 1 / (distances[i] + 1e-6)))\n",
        "                for i, neighbor in enumerate(neighbors)\n",
        "            ])\n",
        "            self.prediction = y_pred\n",
        "            return y_pred\n"
      ]
    },
    {
      "cell_type": "markdown",
      "metadata": {
        "id": "MDHvRHen7gsa"
      },
      "source": [
        "# **Modelo Árbol de Decisión**"
      ]
    },
    {
      "cell_type": "code",
      "execution_count": null,
      "metadata": {
        "id": "SqVapsHa7pka"
      },
      "outputs": [],
      "source": []
    },
    {
      "cell_type": "markdown",
      "metadata": {
        "id": "WjBd2eXg7qRy"
      },
      "source": [
        "# **Modelo Regresión Logística**"
      ]
    },
    {
      "cell_type": "code",
      "execution_count": null,
      "metadata": {
        "id": "98D68yd77xPh"
      },
      "outputs": [],
      "source": [
        "class OurLogisticRegression (BaseEstimator, ClassifierMixin):\n",
        "    def __init__(self, lr=0.01, num_iter=100000, fit_intercept=True):\n",
        "        self.lr = lr\n",
        "        self.num_iter = num_iter\n",
        "        self.fit_intercept = fit_intercept\n",
        "       \n",
        "\n",
        "    def __add_intercept(self, X):\n",
        "        intercept = np.ones((X.shape[0], 1))\n",
        "        return np.concatenate((intercept, X), axis=1)\n",
        "\n",
        "    def __sigmoid(self, z):\n",
        "        return 1 / (1 + np.exp(-z))\n",
        "\n",
        "    def __loss(self, h, y):\n",
        "        return (-y * np.log(h) - (1 - y) * np.log(1 - h)).mean()\n",
        "\n",
        "    def fit(self, X, y):\n",
        "        if self.fit_intercept:\n",
        "            X = self.__add_intercept(X)\n",
        "\n",
        "        # weights initialization\n",
        "        self.w = np.zeros(X.shape[1])\n",
        "\n",
        "        for i in range(self.num_iter):\n",
        "            z = np.dot(X, self.w)\n",
        "            h = self.__sigmoid(z)\n",
        "            gradient = np.dot(X.T, (h-y)) / y.size\n",
        "            #print(gradient.shape, self.w.shape, z.shape,h.shape)\n",
        "            #gradient = (h - y) / y.size\n",
        "            self.w -= self.lr * gradient\n",
        "\n",
        "    def predict_prob(self, X):\n",
        "        if self.fit_intercept:\n",
        "            X = self.__add_intercept(X)\n",
        "\n",
        "        return self.__sigmoid(np.dot(X, self.w))\n",
        "\n",
        "    def predict(self, X, threshold):\n",
        "        return self.predict_prob(X) >= threshold\n",
        "    \n",
        "    def score(self, y_pred,y_test):\n",
        "        return float(sum(y_pred == y_test)) / float(len(y_test))\n"
      ]
    },
    {
      "cell_type": "markdown",
      "metadata": {
        "id": "VbxL3-XSlzGK"
      },
      "source": [
        "# **Dataset WeatherAUS**"
      ]
    },
    {
      "cell_type": "code",
      "execution_count": 45,
      "metadata": {
        "id": "_3bxYqulmjLN"
      },
      "outputs": [],
      "source": [
        "dataset_path = \"weatherAUS.csv\"\n",
        "dataset = pd.read_csv(dataset_path)\n",
        "\n",
        "#Eliminemos las filas que no tengan un RainTomorrow definido\n",
        "dataset = dataset.dropna(subset=[\"RainTomorrow\"])\n",
        "\n",
        "# Eliminamos algunos features de texto que no representan mayor diferencia al realizar la aproximación y obteneos los datos y el target\n",
        "X = dataset.drop([\"RainTomorrow\", \"Date\", \"WindDir9am\", \"WindDir3pm\", \"WindGustDir\"], axis=1)\n",
        "y = dataset[\"RainTomorrow\"].replace({'No': 0, 'Yes': 1})\n",
        "\n",
        "#Reemplazamos RainToday por números y las ubicaciones por números, guardando la referencia en location_number\n",
        "X[\"RainToday\"] = X[\"RainToday\"].replace({'No': 0.0, 'Yes': 1.0})\n",
        "unique_classes = X[\"Location\"].unique()\n",
        "location_number = {cls: idx for idx, cls in enumerate(unique_classes)}\n",
        "X[\"Location\"] = X[\"Location\"].replace(location_number)\n",
        "\n",
        "#Normalicemos los datos\n",
        "min_val = X.min(axis=0)\n",
        "max_val = X.max(axis=0)\n",
        "X = (X - min_val) / (max_val - min_val)\n",
        "\n",
        "#De los features de Wind vamos a quitar los más relacionados, al revisar los datos se ve que el WindGustSpeed está relacionado\n",
        "#a los otros dos features, por lo que lo removeremos.\n",
        "windCov = X[[\"WindGustSpeed\", \"WindSpeed9am\", \"WindSpeed3pm\"]].cov()\n",
        "#print(windCov)\n",
        "X = X.drop(\"WindGustSpeed\", axis=1)\n",
        "\n",
        "#Vamos a analizar los feature humidity y ver cómo se relacionan, no vamos a eliminar ninguno pues el nivel de relación no es lo suficientemente alto\n",
        "humidCov = X[[\"Humidity9am\", \"Humidity3pm\"]].cov()\n",
        "#print(humidCov)\n",
        "\n",
        "#Vamos a analizar los feature pressure y ver cómo se relacionan, note que son altamente relacionados, por lo que vamos a eliminar uno arbitrariamente\n",
        "pressureCov = X[[\"Pressure9am\", \"Pressure3pm\"]].cov()\n",
        "#print(pressureCov)\n",
        "X = X.drop(\"Pressure9am\", axis=1)\n",
        "\n",
        "#Vamos a analizar los feature cloud y ver cómo se relacionan, no vamos a eliminar ninguno pues el nivel de relación no es lo suficientemente alto\n",
        "cloudCov = X[[\"Cloud9am\", \"Cloud3pm\"]].cov()\n",
        "#print(cloudCov)\n",
        "\n",
        "#Vamos a analizar los feature temp y ver cómo se relacionan, note que son altamente relacionados, por lo que vamos a eliminar el de las 9am como se hizo con pressure\n",
        "tempCov = X[[\"Temp9am\", \"Temp3pm\"]].cov()\n",
        "#print(tempCov)\n",
        "X = X.drop(\"Temp9am\", axis=1)\n",
        "\n",
        "#Vamos a analizar si hay otros features altamente relacionados\n",
        "#Note que MaxTemp está altamente relacionada con Temp3pm por lo que eliminaremos Temp3pm\n",
        "XCov = X.cov()\n",
        "#print(XCov)\n",
        "X = X.drop(\"Temp3pm\", axis=1)\n",
        "\n",
        "#print(len(X))\n",
        "\n",
        "#Vamos a reemplazar los nan con valores medios para que Sklearn y nuestro modelo puedan aceptarlos\n",
        "X = X.to_numpy()\n",
        "y = y.to_numpy()\n",
        "WAX_train, WAX_test, WAy_train, WAy_test = train_test_split(X, y, test_size=0.15, random_state=45)\n",
        "\n",
        "mean_train = np.nanmean(WAX_train)\n",
        "mean_test = np.nanmean(WAX_test)\n",
        "\n",
        "WAX_train[np.isnan(WAX_train)] = mean_train\n",
        "WAX_test[np.isnan(WAX_test)] = mean_test\n",
        "\n"
      ]
    },
    {
      "cell_type": "markdown",
      "metadata": {
        "id": "iPF0Y7Kr8Foc"
      },
      "source": [
        "# **Dataset Notas del Curso**"
      ]
    },
    {
      "cell_type": "code",
      "execution_count": null,
      "metadata": {
        "id": "evnallJN8LqU"
      },
      "outputs": [],
      "source": []
    },
    {
      "cell_type": "markdown",
      "metadata": {
        "id": "l1bzbDUb8MKl"
      },
      "source": [
        "# **Dataset escogido**"
      ]
    },
    {
      "cell_type": "code",
      "execution_count": null,
      "metadata": {
        "id": "JpNMsZce8Vz0"
      },
      "outputs": [],
      "source": [
        "df = pd.read_csv(\"Bank_Personal_Loan_Modelling.csv\", encoding='latin-1')\n",
        "df.head()\n",
        "\n",
        "features= df.columns.tolist()\n",
        "print(features)\n",
        "X=df[features]\n",
        "y = df[\"Personal Loan\"] \n",
        "\n",
        "# PUNTO 1 - MEJORAR EL ACCURACY \n",
        "\n",
        "# ESTANDARIZACION \n",
        "scaler = StandardScaler()\n",
        "X_scaled = scaler.fit_transform(X)\n",
        "\n",
        "# Calcula la matriz de covarianza\n",
        "cov_matrix = np.cov(X_scaled, rowvar=False)\n",
        "\n",
        "#PCA\n",
        "pca = PCA()\n",
        "pca.fit(cov_matrix)\n",
        "\n",
        "componentes_principales = pca.components_\n",
        "varianza_explicada = pca.explained_variance_ratio_\n",
        "\n",
        "varianza_acumulativa = np.cumsum(varianza_explicada)\n",
        "num_componentes_deseados = np.argmax(varianza_acumulativa >= 0.95) + 1  \n",
        "\n",
        "X_reduced = pca.transform(X)[:, :num_componentes_deseados]\n",
        "\n",
        "oversampler = RandomOverSampler(sampling_strategy='minority', random_state=42)\n",
        "X_resampled, y_resampled = oversampler.fit_resample(X_scaled, y)\n",
        "\n",
        "X_train,X_test,y_train,y_test=train_test_split(X_resampled,y_resampled,test_size=0.30,random_state=45)"
      ]
    },
    {
      "cell_type": "markdown",
      "metadata": {
        "id": "4oBhIB828XYV"
      },
      "source": [
        "# **Gridsearch KNN - WeatherAUS**"
      ]
    },
    {
      "cell_type": "code",
      "execution_count": 46,
      "metadata": {
        "id": "CDwWcNF3F5qh"
      },
      "outputs": [
        {
          "name": "stdout",
          "output_type": "stream",
          "text": [
            "0.839795583477894\n",
            "0.8402175441886633\n",
            "0.8434994608279807\n"
          ]
        }
      ],
      "source": [
        "distance_classifier_1 = KNearestNeighbors(WAX_train, WAy_train, n_neighbors=7, weights='distance')\n",
        "distance_classifier_2 = KNearestNeighbors(WAX_train, WAy_train, n_neighbors=9, weights='distance')\n",
        "distance_classifier_3 = KNearestNeighbors(WAX_train, WAy_train, n_neighbors=11, weights='distance')\n",
        "\n",
        "predict1 = distance_classifier_1.predict(WAX_test)\n",
        "print(accuracy_score(WAy_test, predict1))\n",
        "predict2 = distance_classifier_2.predict(WAX_test)\n",
        "print(accuracy_score(WAy_test, predict2))\n",
        "predict3 = distance_classifier_3.predict(WAX_test)\n",
        "print(accuracy_score(WAy_test, predict3))\n"
      ]
    },
    {
      "cell_type": "code",
      "execution_count": 47,
      "metadata": {},
      "outputs": [
        {
          "name": "stdout",
          "output_type": "stream",
          "text": [
            "0.8465469548502039\n"
          ]
        }
      ],
      "source": [
        "distance_classifier_4 = KNearestNeighbors(WAX_train, WAy_train, n_neighbors=35, weights='distance')\n",
        "predict4 = distance_classifier_4.predict(WAX_test)\n",
        "\n",
        "print(accuracy_score(WAy_test, predict4))"
      ]
    },
    {
      "cell_type": "markdown",
      "metadata": {
        "id": "Cme4Fh_x8rbW"
      },
      "source": [
        "# **Métricas KNN - WeatherAUS**"
      ]
    },
    {
      "cell_type": "code",
      "execution_count": 55,
      "metadata": {
        "id": "CWm5NxLMSS4g"
      },
      "outputs": [
        {
          "name": "stdout",
          "output_type": "stream",
          "text": [
            "Accuracy: 0.8465469548502039\n",
            "Precision: 0.7573057733428368\n",
            "Recall: 0.450498198007208\n",
            "F1 Score: 0.5649342017812043\n",
            "ROC AUC: 0.7047518680861948\n"
          ]
        },
        {
          "data": {
            "image/png": "[encoded data removed]",
            "text/plain": [
              "<Figure size 640x480 with 1 Axes>"
            ]
          },
          "metadata": {},
          "output_type": "display_data"
        }
      ],
      "source": [
        "accuracy = accuracy_score(WAy_test, predict4)\n",
        "precision = precision_score(WAy_test, predict4)\n",
        "recall = recall_score(WAy_test, predict4)\n",
        "fonescore = f1_score(WAy_test, predict4)\n",
        "roc_auc = roc_auc_score(WAy_test, predict4)\n",
        "\n",
        "print(\"Accuracy: \"+str(accuracy))\n",
        "print(\"Precision: \"+str(precision))\n",
        "print(\"Recall: \"+str(recall))\n",
        "print(\"F1 Score: \"+str(fonescore))\n",
        "print(\"ROC AUC: \"+str(roc_auc))\n",
        "\n",
        "fpr, tpr, thresholds = roc_curve(WAy_test, predict4)\n",
        "\n",
        "plt.figure()\n",
        "plt.plot(fpr, tpr, color='darkorange', lw=2, label='ROC curve (area = {:.2f})'.format(roc_auc))\n",
        "plt.plot([0, 1], [0, 1], color='navy', lw=2, linestyle='--')\n",
        "plt.xlim([0.0, 1.0])\n",
        "plt.ylim([0.0, 1.05])\n",
        "plt.xlabel('False Positive Rate')\n",
        "plt.ylabel('True Positive Rate')\n",
        "plt.title('Receiver Operating Characteristic')\n",
        "plt.legend(loc='lower right')\n",
        "plt.show()\n"
      ]
    },
    {
      "cell_type": "markdown",
      "metadata": {
        "id": "pZ0xKby388p6"
      },
      "source": [
        "# **Gridsearch KNN - Notas**"
      ]
    },
    {
      "cell_type": "code",
      "execution_count": null,
      "metadata": {
        "id": "NsG0mWbx-M66"
      },
      "outputs": [],
      "source": []
    },
    {
      "cell_type": "markdown",
      "metadata": {
        "id": "WskaH7-c-UeP"
      },
      "source": [
        "# **Métricas KNN - Notas**"
      ]
    },
    {
      "cell_type": "code",
      "execution_count": null,
      "metadata": {
        "id": "FybalUOG-ZW-"
      },
      "outputs": [],
      "source": []
    },
    {
      "cell_type": "markdown",
      "metadata": {
        "id": "Xpnv9I0H9ubD"
      },
      "source": [
        "# **Gridsearch KNN - Escogido**"
      ]
    },
    {
      "cell_type": "code",
      "execution_count": null,
      "metadata": {
        "id": "mciWJZF--N-z"
      },
      "outputs": [],
      "source": []
    },
    {
      "cell_type": "markdown",
      "metadata": {
        "id": "YvwRuFtT-al_"
      },
      "source": [
        "# **Métricas KNN - Escogido**"
      ]
    },
    {
      "cell_type": "code",
      "execution_count": null,
      "metadata": {
        "id": "k7_g2mCx-c-H"
      },
      "outputs": [],
      "source": []
    },
    {
      "cell_type": "markdown",
      "metadata": {
        "id": "l4_FWhcI9xWd"
      },
      "source": [
        "# **Gridsearch Logit - WeatherAUS**"
      ]
    },
    {
      "cell_type": "code",
      "execution_count": null,
      "metadata": {
        "id": "HhyT0OOa-Obd"
      },
      "outputs": [],
      "source": []
    },
    {
      "cell_type": "markdown",
      "metadata": {
        "id": "aAFp1Fnm-eLl"
      },
      "source": [
        "# **Métricas Logit - WeatherAUS**"
      ]
    },
    {
      "cell_type": "code",
      "execution_count": null,
      "metadata": {
        "id": "NVCNv2Pw-hhh"
      },
      "outputs": [],
      "source": []
    },
    {
      "cell_type": "markdown",
      "metadata": {
        "id": "a3aHXXl393Zs"
      },
      "source": [
        "# **Gridsearch Logit - Notas**"
      ]
    },
    {
      "cell_type": "code",
      "execution_count": null,
      "metadata": {
        "id": "rQmPrFQ4-O33"
      },
      "outputs": [],
      "source": []
    },
    {
      "cell_type": "markdown",
      "metadata": {
        "id": "58R2soj5-i3i"
      },
      "source": [
        "# **Métricas Logit - Notas**"
      ]
    },
    {
      "cell_type": "code",
      "execution_count": null,
      "metadata": {
        "id": "dN77_Pb8-lIE"
      },
      "outputs": [],
      "source": []
    },
    {
      "cell_type": "markdown",
      "metadata": {
        "id": "Uh0EtIjd95sA"
      },
      "source": [
        "# **Gridsearch Logit - Escogido**"
      ]
    },
    {
      "cell_type": "code",
      "execution_count": null,
      "metadata": {
        "id": "53w5AtQz-PlT"
      },
      "outputs": [],
      "source": []
    },
    {
      "cell_type": "markdown",
      "metadata": {
        "id": "eCLSXpjj-map"
      },
      "source": [
        "# **Métricas Logit - Escogido**"
      ]
    },
    {
      "cell_type": "code",
      "execution_count": null,
      "metadata": {
        "id": "2FDU3hwG-oOL"
      },
      "outputs": [],
      "source": []
    },
    {
      "cell_type": "markdown",
      "metadata": {
        "id": "LEq6pW-G99k4"
      },
      "source": [
        "# **Gridsearch Árbol - WeatherAUS**"
      ]
    },
    {
      "cell_type": "code",
      "execution_count": null,
      "metadata": {
        "id": "ihhDiZ6u-QLe"
      },
      "outputs": [],
      "source": []
    },
    {
      "cell_type": "markdown",
      "metadata": {
        "id": "8WXBClly-qlb"
      },
      "source": [
        "# **Métricas Árbol - WeatherAUS**"
      ]
    },
    {
      "cell_type": "code",
      "execution_count": null,
      "metadata": {
        "id": "ntgAaayP-tpP"
      },
      "outputs": [],
      "source": []
    },
    {
      "cell_type": "markdown",
      "metadata": {
        "id": "0X1-TL26-ArD"
      },
      "source": [
        "# **Gridsearch Árbol - Notas**"
      ]
    },
    {
      "cell_type": "code",
      "execution_count": null,
      "metadata": {
        "id": "wfFkwy4h-Qxj"
      },
      "outputs": [],
      "source": []
    },
    {
      "cell_type": "markdown",
      "metadata": {
        "id": "3W5EyWrT-uXn"
      },
      "source": [
        "# **Métricas Árbol - Notas**"
      ]
    },
    {
      "cell_type": "code",
      "execution_count": null,
      "metadata": {
        "id": "ySMN3ksQ-xaa"
      },
      "outputs": [],
      "source": []
    },
    {
      "cell_type": "markdown",
      "metadata": {
        "id": "3xhZroOx-Bhc"
      },
      "source": [
        "# **Gridsearch Árbol - Escogido**"
      ]
    },
    {
      "cell_type": "code",
      "execution_count": null,
      "metadata": {
        "id": "c6FpHXsJ-Rm9"
      },
      "outputs": [],
      "source": []
    },
    {
      "cell_type": "markdown",
      "metadata": {
        "id": "lPSVtBhX-yVl"
      },
      "source": [
        "# **Métricas Árbol - Escogido**"
      ]
    },
    {
      "cell_type": "code",
      "execution_count": null,
      "metadata": {
        "id": "Vsn0Bpmz-0Ft"
      },
      "outputs": [],
      "source": []
    }
  ],
  "metadata": {
    "colab": {
      "provenance": []
    },
    "kernelspec": {
      "display_name": "Python 3 (ipykernel)",
      "language": "python",
      "name": "python3"
    },
    "language_info": {
      "codemirror_mode": {
        "name": "ipython",
        "version": 3
      },
      "file_extension": ".py",
      "mimetype": "text/x-python",
      "name": "python",
      "nbconvert_exporter": "python",
      "pygments_lexer": "ipython3",
      "version": "3.11.5"
    }
  },
  "nbformat": 4,
  "nbformat_minor": 0
}
